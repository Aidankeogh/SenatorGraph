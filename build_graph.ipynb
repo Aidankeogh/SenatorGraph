{
 "cells": [
  {
   "cell_type": "code",
   "execution_count": null,
   "metadata": {},
   "outputs": [],
   "source": [
    "import pandas as pd\n",
    "import neo4j"
   ]
  },
  {
   "cell_type": "code",
   "execution_count": null,
   "metadata": {},
   "outputs": [],
   "source": [
    "# Created neo4j desktop dbms with password \"senate\"\n",
    "driver = neo4j.GraphDatabase.driver(uri=\"bolt://localhost:7687\", auth=(\"neo4j\", \"senate\"))"
   ]
  },
  {
   "cell_type": "code",
   "execution_count": null,
   "metadata": {},
   "outputs": [],
   "source": [
    "\n",
    "def run(query):\n",
    "    with driver.session() as session:\n",
    "        result = session.run(query)\n",
    "        for record in result:\n",
    "            print(record)\n",
    "\n",
    "def run_many(queries):\n",
    "    results = []\n",
    "    with driver.session() as session:\n",
    "        for query in queries:\n",
    "            results.append(session.run(query))\n",
    "    return results"
   ]
  },
  {
   "cell_type": "code",
   "execution_count": null,
   "metadata": {},
   "outputs": [],
   "source": [
    "run(\"\"\"\n",
    "MATCH (s: Senator)\n",
    "DELETE s\n",
    "\"\"\")"
   ]
  },
  {
   "cell_type": "code",
   "execution_count": null,
   "metadata": {},
   "outputs": [],
   "source": [
    "def create_node(nodename, node_attrs):\n",
    "    attr_list = []\n",
    "    for key, value in node_attrs.items():\n",
    "        attr_list.append(f'{key}: \"{value}\"')\n",
    "    all_attrs = \", \".join(attr_list)\n",
    "    return f\"\"\"\n",
    "    CREATE (n:{nodename} {{{all_attrs}}})\n",
    "    \"\"\"\n",
    "        "
   ]
  },
  {
   "cell_type": "code",
   "execution_count": null,
   "metadata": {},
   "outputs": [],
   "source": [
    "senators = pd.read_csv(\"S117_members.csv\")\n",
    "\n",
    "code_to_party = {100: \"democrat\", 200: \"republican\"}\n",
    "def create_senator(senator):\n",
    "    name = senator[\"bioname\"]\n",
    "    node_attrs = {\n",
    "        \"lastname\": name.split(\",\")[0].lower(),\n",
    "        \"firstname\": name.split(\",\")[1].split()[0].lower(),\n",
    "        \"party\": code_to_party.get(senator[\"party_code\"], \"other\"),\n",
    "        \"state\": senator[\"state_abbrev\"],\n",
    "        \"icpsr\": senator[\"icpsr\"]\n",
    "\n",
    "    }\n",
    "    return create_node(\"Senator\", node_attrs)\n",
    "\n",
    "queries = senators.apply(create_senator, axis=1)\n",
    "results = run_many(queries)\n"
   ]
  },
  {
   "cell_type": "code",
   "execution_count": null,
   "metadata": {},
   "outputs": [],
   "source": [
    "run(\"\"\"\n",
    "MATCH (s: Senator {party: \"other\"})\n",
    "RETURN s.firstname, s.lastname, s.party, s.icpsr\n",
    "\"\"\")"
   ]
  },
  {
   "cell_type": "code",
   "execution_count": null,
   "metadata": {},
   "outputs": [],
   "source": [
    "\n",
    "rollcalls = pd.read_csv(\"S117_rollcalls.csv\")\n",
    "\n",
    "def create_rollcall(rollcall):\n",
    "    node_attrs = {\n",
    "        \"rollnumber\": rollcall[\"rollnumber\"],\n",
    "        \"date\": rollcall[\"date\"],\n",
    "        \"yea_count\": rollcall[\"yea_count\"],\n",
    "        \"nea_count\": rollcall[\"nay_count\"],\n",
    "        \"result\": rollcall[\"vote_result\"],\n",
    "        \"desc\": rollcall[\"dtl_desc\"]\n",
    "    }\n",
    "    return create_node(\"Rollcall\", node_attrs)\n",
    "\n",
    "queries = rollcalls.apply(create_rollcall, axis=1)\n",
    "results = run_many(queries)"
   ]
  },
  {
   "cell_type": "code",
   "execution_count": null,
   "metadata": {},
   "outputs": [],
   "source": []
  }
 ],
 "metadata": {
  "kernelspec": {
   "display_name": "Python 3.8.5 ('base')",
   "language": "python",
   "name": "python3"
  },
  "language_info": {
   "codemirror_mode": {
    "name": "ipython",
    "version": 3
   },
   "file_extension": ".py",
   "mimetype": "text/x-python",
   "name": "python",
   "nbconvert_exporter": "python",
   "pygments_lexer": "ipython3",
   "version": "3.8.5"
  },
  "orig_nbformat": 4,
  "vscode": {
   "interpreter": {
    "hash": "d4e12470a6bd1ddf239ef9d2cbb0fe9fada8c3415f77ba30801c7b104792fc14"
   }
  }
 },
 "nbformat": 4,
 "nbformat_minor": 2
}

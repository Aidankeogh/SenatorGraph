{
 "cells": [
  {
   "cell_type": "markdown",
   "metadata": {},
   "source": [
    "# Building the Senator Graph"
   ]
  },
  {
   "cell_type": "markdown",
   "metadata": {},
   "source": [
    "This notebook provides the code for integrating all the senator, twitter, roll call, contributions, and named entities data into a neo4j grpah"
   ]
  },
  {
   "cell_type": "code",
   "execution_count": 7,
   "metadata": {},
   "outputs": [],
   "source": [
    "import pandas as pd\n",
    "import neo4j"
   ]
  },
  {
   "cell_type": "code",
   "execution_count": 2,
   "metadata": {},
   "outputs": [],
   "source": [
    "# Created neo4j desktop dbms with password \"senate\"\n",
    "driver = neo4j.GraphDatabase.driver(uri=\"bolt://localhost:7687\", auth=(\"neo4j\", \"senate\"))\n",
    "\n",
    "# Got import dir from neo4j desktop browser\n",
    "neo4j_import_dir = \"/Users/zacharywallace/Library/Application Support/Neo4j Desktop/Application/relate-data/dbmss/dbms-3ae47622-2d3d-4cb6-8765-69856981af92/import\""
   ]
  },
  {
   "cell_type": "code",
   "execution_count": 3,
   "metadata": {},
   "outputs": [],
   "source": [
    "\n",
    "def run(query):\n",
    "    data = []\n",
    "    with driver.session() as session:\n",
    "        result = session.run(query)\n",
    "        for record in result:\n",
    "            data.append(record.data())\n",
    "    return pd.DataFrame(data)"
   ]
  },
  {
   "cell_type": "code",
   "execution_count": 4,
   "metadata": {},
   "outputs": [
    {
     "data": {
      "text/html": [
       "<div>\n",
       "<style scoped>\n",
       "    .dataframe tbody tr th:only-of-type {\n",
       "        vertical-align: middle;\n",
       "    }\n",
       "\n",
       "    .dataframe tbody tr th {\n",
       "        vertical-align: top;\n",
       "    }\n",
       "\n",
       "    .dataframe thead th {\n",
       "        text-align: right;\n",
       "    }\n",
       "</style>\n",
       "<table border=\"1\" class=\"dataframe\">\n",
       "  <thead>\n",
       "    <tr style=\"text-align: right;\">\n",
       "      <th></th>\n",
       "    </tr>\n",
       "  </thead>\n",
       "  <tbody>\n",
       "  </tbody>\n",
       "</table>\n",
       "</div>"
      ],
      "text/plain": [
       "Empty DataFrame\n",
       "Columns: []\n",
       "Index: []"
      ]
     },
     "execution_count": 4,
     "metadata": {},
     "output_type": "execute_result"
    }
   ],
   "source": [
    "run(\"\"\"\n",
    "MATCH (n)\n",
    "DETACH DELETE n\n",
    "\"\"\")"
   ]
  },
  {
   "cell_type": "markdown",
   "metadata": {},
   "source": [
    "## Load senator nodes"
   ]
  },
  {
   "cell_type": "code",
   "execution_count": 5,
   "metadata": {},
   "outputs": [],
   "source": [
    "senators = pd.read_csv(\"all_senate_data.csv\")\n",
    "\n",
    "code_to_party = {100: \"democrat\", 200: \"republican\"}\n",
    "def create_senator(senator):\n",
    "    node_attrs = {\n",
    "        \"name\": senator[\"Name\"],\n",
    "        \"party\": code_to_party.get(senator[\"party_code\"], \"other\"),\n",
    "        \"state\": senator[\"state_abbrev\"],\n",
    "        \"icpsr\": senator[\"icpsr\"],\n",
    "        \"twitter\": senator[\"Twitter_username\"]\n",
    "    }\n",
    "    return pd.Series(node_attrs)\n",
    "senator_nodes = senators.apply(create_senator, axis=1)\n",
    "senator_nodes.to_csv(f\"{neo4j_import_dir}/senator_nodes.csv\")"
   ]
  },
  {
   "cell_type": "code",
   "execution_count": 6,
   "metadata": {},
   "outputs": [
    {
     "data": {
      "text/html": [
       "<div>\n",
       "<style scoped>\n",
       "    .dataframe tbody tr th:only-of-type {\n",
       "        vertical-align: middle;\n",
       "    }\n",
       "\n",
       "    .dataframe tbody tr th {\n",
       "        vertical-align: top;\n",
       "    }\n",
       "\n",
       "    .dataframe thead th {\n",
       "        text-align: right;\n",
       "    }\n",
       "</style>\n",
       "<table border=\"1\" class=\"dataframe\">\n",
       "  <thead>\n",
       "    <tr style=\"text-align: right;\">\n",
       "      <th></th>\n",
       "    </tr>\n",
       "  </thead>\n",
       "  <tbody>\n",
       "  </tbody>\n",
       "</table>\n",
       "</div>"
      ],
      "text/plain": [
       "Empty DataFrame\n",
       "Columns: []\n",
       "Index: []"
      ]
     },
     "execution_count": 6,
     "metadata": {},
     "output_type": "execute_result"
    }
   ],
   "source": [
    "# Load senators\n",
    "run(\"\"\"\n",
    "LOAD CSV WITH HEADERS FROM \"file:///senator_nodes.csv\" as row\n",
    "MERGE (s:Senator {name:row.name, party:row.party, state: row.state, twitter_username:row.twitter, id: toInteger(row.icpsr)})\n",
    "\"\"\")"
   ]
  },
  {
   "cell_type": "markdown",
   "metadata": {},
   "source": [
    "## Load roll call nodes"
   ]
  },
  {
   "cell_type": "code",
   "execution_count": 8,
   "metadata": {},
   "outputs": [],
   "source": [
    "\n",
    "rollcalls = pd.read_csv(\"S117_rollcalls.csv\")\n",
    "\n",
    "def create_rollcall(rollcall):\n",
    "    node_attrs = {\n",
    "        \"rollnumber\": rollcall[\"rollnumber\"],\n",
    "        \"date\": rollcall[\"date\"],\n",
    "        \"yea_count\": rollcall[\"yea_count\"],\n",
    "        \"nea_count\": rollcall[\"nay_count\"],\n",
    "        \"margin\": abs(rollcall[\"yea_count\"] - rollcall[\"nay_count\"]),\n",
    "        \"result\": rollcall[\"vote_result\"],\n",
    "        \"desc\": rollcall[\"vote_desc\"],\n",
    "        \"bill_number\": rollcall[\"bill_number\"],\n",
    "    }\n",
    "    return pd.Series(node_attrs)\n",
    "\n",
    "rollcall_nodes = rollcalls.apply(create_rollcall, axis=1)\n",
    "rollcall_nodes[\"bill_number\"] = rollcall_nodes[\"bill_number\"].fillna(\"N/A\")\n",
    "rollcall_nodes.to_csv(f\"{neo4j_import_dir}/rollcall_nodes.csv\")"
   ]
  },
  {
   "cell_type": "code",
   "execution_count": 9,
   "metadata": {},
   "outputs": [
    {
     "data": {
      "text/html": [
       "<div>\n",
       "<style scoped>\n",
       "    .dataframe tbody tr th:only-of-type {\n",
       "        vertical-align: middle;\n",
       "    }\n",
       "\n",
       "    .dataframe tbody tr th {\n",
       "        vertical-align: top;\n",
       "    }\n",
       "\n",
       "    .dataframe thead th {\n",
       "        text-align: right;\n",
       "    }\n",
       "</style>\n",
       "<table border=\"1\" class=\"dataframe\">\n",
       "  <thead>\n",
       "    <tr style=\"text-align: right;\">\n",
       "      <th></th>\n",
       "    </tr>\n",
       "  </thead>\n",
       "  <tbody>\n",
       "  </tbody>\n",
       "</table>\n",
       "</div>"
      ],
      "text/plain": [
       "Empty DataFrame\n",
       "Columns: []\n",
       "Index: []"
      ]
     },
     "execution_count": 9,
     "metadata": {},
     "output_type": "execute_result"
    }
   ],
   "source": [
    "\n",
    "# Load all rollcalls\n",
    "run(\"\"\"\n",
    "LOAD CSV WITH HEADERS FROM \"file:///rollcall_nodes.csv\" as row\n",
    "WITH row WHERE row.desc is not null\n",
    "MERGE (r:Rollcall {rollnumber: toInteger(row.rollnumber), date: row.date, yea_count: toInteger(row.yea_count), \n",
    "    nea_count: toInteger(row.nea_count), margin: toInteger(row.margin), result: row.result, desc: row.desc, bill_number: row.bill_number})\n",
    "\"\"\")"
   ]
  },
  {
   "cell_type": "markdown",
   "metadata": {},
   "source": [
    "## Load senator - roll call voting results as relationships"
   ]
  },
  {
   "cell_type": "code",
   "execution_count": 10,
   "metadata": {},
   "outputs": [],
   "source": [
    "votes = pd.read_csv(\"S117_votes.csv\")\n",
    "vote_types = {\n",
    "    1: \"yea\",\n",
    "    6: \"nay\",\n",
    "}\n",
    "def create_vote_rel(vote):\n",
    "    icpsr = vote[\"icpsr\"]\n",
    "    rollnumber = vote[\"rollnumber\"]\n",
    "    vote_type = vote_types.get(vote[\"cast_code\"], \"other\")\n",
    "\n",
    "    return pd.Series({\n",
    "        \"senator_id\": int(icpsr),\n",
    "        \"rollnumber\": int(rollnumber),\n",
    "        \"vote_type\": vote_type\n",
    "    })\n",
    "vote_rels = votes.apply(create_vote_rel, axis=1)\n",
    "vote_rels.to_csv(f\"{neo4j_import_dir}/vote_relationships.csv\")\n"
   ]
  },
  {
   "cell_type": "code",
   "execution_count": 11,
   "metadata": {},
   "outputs": [
    {
     "data": {
      "text/html": [
       "<div>\n",
       "<style scoped>\n",
       "    .dataframe tbody tr th:only-of-type {\n",
       "        vertical-align: middle;\n",
       "    }\n",
       "\n",
       "    .dataframe tbody tr th {\n",
       "        vertical-align: top;\n",
       "    }\n",
       "\n",
       "    .dataframe thead th {\n",
       "        text-align: right;\n",
       "    }\n",
       "</style>\n",
       "<table border=\"1\" class=\"dataframe\">\n",
       "  <thead>\n",
       "    <tr style=\"text-align: right;\">\n",
       "      <th></th>\n",
       "    </tr>\n",
       "  </thead>\n",
       "  <tbody>\n",
       "  </tbody>\n",
       "</table>\n",
       "</div>"
      ],
      "text/plain": [
       "Empty DataFrame\n",
       "Columns: []\n",
       "Index: []"
      ]
     },
     "execution_count": 11,
     "metadata": {},
     "output_type": "execute_result"
    }
   ],
   "source": [
    "# Load relationships between votes\n",
    "run(\"\"\"\n",
    "LOAD CSV WITH HEADERS FROM \"file:///vote_relationships.csv\" as row\n",
    "MATCH\n",
    "  (s:Senator {id: toInteger(row.senator_id)}),\n",
    "  (r:Rollcall {rollnumber: toInteger(row.rollnumber)})\n",
    "MERGE (s)-[v:Voted {vote_type: row.vote_type}]->(r)\n",
    "\"\"\")"
   ]
  },
  {
   "cell_type": "markdown",
   "metadata": {},
   "source": [
    "## Load Tweet nodes"
   ]
  },
  {
   "cell_type": "code",
   "execution_count": 12,
   "metadata": {},
   "outputs": [],
   "source": [
    "tweets = pd.read_csv(\"direct_tweet_attribs.csv\")\n",
    "tweets[\"id\"] = list(range(0, len(tweets)))\n",
    "tweets.to_csv(f\"{neo4j_import_dir}/tweets.csv\")"
   ]
  },
  {
   "cell_type": "code",
   "execution_count": 13,
   "metadata": {},
   "outputs": [
    {
     "data": {
      "text/html": [
       "<div>\n",
       "<style scoped>\n",
       "    .dataframe tbody tr th:only-of-type {\n",
       "        vertical-align: middle;\n",
       "    }\n",
       "\n",
       "    .dataframe tbody tr th {\n",
       "        vertical-align: top;\n",
       "    }\n",
       "\n",
       "    .dataframe thead th {\n",
       "        text-align: right;\n",
       "    }\n",
       "</style>\n",
       "<table border=\"1\" class=\"dataframe\">\n",
       "  <thead>\n",
       "    <tr style=\"text-align: right;\">\n",
       "      <th></th>\n",
       "    </tr>\n",
       "  </thead>\n",
       "  <tbody>\n",
       "  </tbody>\n",
       "</table>\n",
       "</div>"
      ],
      "text/plain": [
       "Empty DataFrame\n",
       "Columns: []\n",
       "Index: []"
      ]
     },
     "execution_count": 13,
     "metadata": {},
     "output_type": "execute_result"
    }
   ],
   "source": [
    "# Load tweets as nodes\n",
    "run(\"\"\"\n",
    "LOAD CSV WITH HEADERS FROM \"file:///tweets.csv\" as row\n",
    "MERGE (t:Tweet {id: toInteger(row.id), text: row.Tweet, retweets: toInteger(row.Retweets), replies: toInteger(row.Replies),\n",
    "    likes: toInteger(row.Likes), quotes: toInteger(row.Quotes)})\n",
    "\"\"\")"
   ]
  },
  {
   "cell_type": "code",
   "execution_count": 14,
   "metadata": {},
   "outputs": [
    {
     "data": {
      "text/html": [
       "<div>\n",
       "<style scoped>\n",
       "    .dataframe tbody tr th:only-of-type {\n",
       "        vertical-align: middle;\n",
       "    }\n",
       "\n",
       "    .dataframe tbody tr th {\n",
       "        vertical-align: top;\n",
       "    }\n",
       "\n",
       "    .dataframe thead th {\n",
       "        text-align: right;\n",
       "    }\n",
       "</style>\n",
       "<table border=\"1\" class=\"dataframe\">\n",
       "  <thead>\n",
       "    <tr style=\"text-align: right;\">\n",
       "      <th></th>\n",
       "    </tr>\n",
       "  </thead>\n",
       "  <tbody>\n",
       "  </tbody>\n",
       "</table>\n",
       "</div>"
      ],
      "text/plain": [
       "Empty DataFrame\n",
       "Columns: []\n",
       "Index: []"
      ]
     },
     "execution_count": 14,
     "metadata": {},
     "output_type": "execute_result"
    }
   ],
   "source": [
    "# Load relationships between senator twitter account and tweet\n",
    "run(\"\"\"\n",
    "LOAD CSV WITH HEADERS FROM \"file:///tweets.csv\" as row\n",
    "MATCH\n",
    "  (t:Tweet {id: toInteger(row.id)}),\n",
    "  (s:Senator {twitter_username: row.TwitterID})\n",
    "MERGE (s)-[tw:Tweeted]->(t)\n",
    "\"\"\")"
   ]
  },
  {
   "cell_type": "markdown",
   "metadata": {},
   "source": [
    "## Load tweet and roll call description named entities as nodes, create relationships"
   ]
  },
  {
   "cell_type": "code",
   "execution_count": 15,
   "metadata": {},
   "outputs": [],
   "source": [
    "tweet_ners = pd.read_csv(\"direct_tweet_ners.csv\")\n",
    "tweet_ners[\"Text\"] = tweet_ners[\"Text\"].str.lower()\n",
    "\n",
    "roll_ners = pd.read_csv(\"rollcall_ners.csv\")\n",
    "roll_ners[\"Text\"] = roll_ners[\"Text\"].str.lower()\n",
    "\n",
    "tweet_ners.to_csv(f\"{neo4j_import_dir}/tweet_ners.csv\")\n",
    "roll_ners.to_csv(f\"{neo4j_import_dir}/roll_ners.csv\")"
   ]
  },
  {
   "cell_type": "code",
   "execution_count": 16,
   "metadata": {},
   "outputs": [
    {
     "data": {
      "text/html": [
       "<div>\n",
       "<style scoped>\n",
       "    .dataframe tbody tr th:only-of-type {\n",
       "        vertical-align: middle;\n",
       "    }\n",
       "\n",
       "    .dataframe tbody tr th {\n",
       "        vertical-align: top;\n",
       "    }\n",
       "\n",
       "    .dataframe thead th {\n",
       "        text-align: right;\n",
       "    }\n",
       "</style>\n",
       "<table border=\"1\" class=\"dataframe\">\n",
       "  <thead>\n",
       "    <tr style=\"text-align: right;\">\n",
       "      <th></th>\n",
       "    </tr>\n",
       "  </thead>\n",
       "  <tbody>\n",
       "  </tbody>\n",
       "</table>\n",
       "</div>"
      ],
      "text/plain": [
       "Empty DataFrame\n",
       "Columns: []\n",
       "Index: []"
      ]
     },
     "execution_count": 16,
     "metadata": {},
     "output_type": "execute_result"
    }
   ],
   "source": [
    "# Load entities from tweets as nodes\n",
    "run(\"\"\"\n",
    "LOAD CSV WITH HEADERS FROM \"file:///tweet_ners.csv\" as row\n",
    "MERGE (e:Entity {type: row.NER_Lable, name: row.Text})\n",
    "\"\"\")\n",
    "\n",
    "# Load in entities of roll calls as additional nodes\n",
    "run(\"\"\"\n",
    "LOAD CSV WITH HEADERS FROM \"file:///roll_ners.csv\" as row\n",
    "MERGE (e:Entity {type: row.NER_Lable, name: row.Text})\n",
    "\"\"\")"
   ]
  },
  {
   "cell_type": "code",
   "execution_count": 17,
   "metadata": {},
   "outputs": [
    {
     "data": {
      "text/html": [
       "<div>\n",
       "<style scoped>\n",
       "    .dataframe tbody tr th:only-of-type {\n",
       "        vertical-align: middle;\n",
       "    }\n",
       "\n",
       "    .dataframe tbody tr th {\n",
       "        vertical-align: top;\n",
       "    }\n",
       "\n",
       "    .dataframe thead th {\n",
       "        text-align: right;\n",
       "    }\n",
       "</style>\n",
       "<table border=\"1\" class=\"dataframe\">\n",
       "  <thead>\n",
       "    <tr style=\"text-align: right;\">\n",
       "      <th></th>\n",
       "    </tr>\n",
       "  </thead>\n",
       "  <tbody>\n",
       "  </tbody>\n",
       "</table>\n",
       "</div>"
      ],
      "text/plain": [
       "Empty DataFrame\n",
       "Columns: []\n",
       "Index: []"
      ]
     },
     "execution_count": 17,
     "metadata": {},
     "output_type": "execute_result"
    }
   ],
   "source": [
    "# Load relationships between tweets and named entities\n",
    "run(\"\"\"\n",
    "LOAD CSV WITH HEADERS FROM \"file:///tweet_ners.csv\" as row\n",
    "MATCH\n",
    "  (t:Tweet {text: row.Tweet}),\n",
    "  (e:Entity {name: row.Text})\n",
    "MERGE (t)-[m:Mentions]->(e)\n",
    "\"\"\")"
   ]
  },
  {
   "cell_type": "code",
   "execution_count": 18,
   "metadata": {},
   "outputs": [
    {
     "data": {
      "text/html": [
       "<div>\n",
       "<style scoped>\n",
       "    .dataframe tbody tr th:only-of-type {\n",
       "        vertical-align: middle;\n",
       "    }\n",
       "\n",
       "    .dataframe tbody tr th {\n",
       "        vertical-align: top;\n",
       "    }\n",
       "\n",
       "    .dataframe thead th {\n",
       "        text-align: right;\n",
       "    }\n",
       "</style>\n",
       "<table border=\"1\" class=\"dataframe\">\n",
       "  <thead>\n",
       "    <tr style=\"text-align: right;\">\n",
       "      <th></th>\n",
       "    </tr>\n",
       "  </thead>\n",
       "  <tbody>\n",
       "  </tbody>\n",
       "</table>\n",
       "</div>"
      ],
      "text/plain": [
       "Empty DataFrame\n",
       "Columns: []\n",
       "Index: []"
      ]
     },
     "execution_count": 18,
     "metadata": {},
     "output_type": "execute_result"
    }
   ],
   "source": [
    "# Load relationships between roll call descriptions and named entities\n",
    "run(\"\"\"\n",
    "LOAD CSV WITH HEADERS FROM \"file:///roll_ners.csv\" as row\n",
    "MATCH\n",
    "  (t:Rollcall {desc: row.vote_desc}),\n",
    "  (e:Entity {name: row.Text})\n",
    "MERGE (t)-[m:Mentions]->(e)\n",
    "\"\"\")"
   ]
  },
  {
   "cell_type": "markdown",
   "metadata": {},
   "source": [
    "## Load contributions to senators as nodes, create relationships"
   ]
  },
  {
   "cell_type": "code",
   "execution_count": 19,
   "metadata": {},
   "outputs": [],
   "source": [
    "contributions = pd.read_csv(\"contributions_with_icpsr.csv\")\n",
    "contributions = contributions.dropna()\n",
    "contributions[\"contributor\"] = contributions[\"contributor\"].str.lower()\n",
    "contributions[\"contributor\"] = contributions[\"contributor\"].str.strip()\n",
    "contributions.to_csv(f\"{neo4j_import_dir}/contribution_relationships.csv\")"
   ]
  },
  {
   "cell_type": "code",
   "execution_count": 20,
   "metadata": {},
   "outputs": [
    {
     "data": {
      "text/html": [
       "<div>\n",
       "<style scoped>\n",
       "    .dataframe tbody tr th:only-of-type {\n",
       "        vertical-align: middle;\n",
       "    }\n",
       "\n",
       "    .dataframe tbody tr th {\n",
       "        vertical-align: top;\n",
       "    }\n",
       "\n",
       "    .dataframe thead th {\n",
       "        text-align: right;\n",
       "    }\n",
       "</style>\n",
       "<table border=\"1\" class=\"dataframe\">\n",
       "  <thead>\n",
       "    <tr style=\"text-align: right;\">\n",
       "      <th></th>\n",
       "    </tr>\n",
       "  </thead>\n",
       "  <tbody>\n",
       "  </tbody>\n",
       "</table>\n",
       "</div>"
      ],
      "text/plain": [
       "Empty DataFrame\n",
       "Columns: []\n",
       "Index: []"
      ]
     },
     "execution_count": 20,
     "metadata": {},
     "output_type": "execute_result"
    }
   ],
   "source": [
    "# Load entities for donations/contributors\n",
    "run(\"\"\"\n",
    "LOAD CSV WITH HEADERS FROM \"file:///contribution_relationships.csv\" as row\n",
    "MERGE (c:Contributor {name: row.contributor})\n",
    "\"\"\")\n",
    "\n",
    "# Load relationships between senators and their contributors\n",
    "run(\"\"\"\n",
    "LOAD CSV WITH HEADERS FROM \"file:///contribution_relationships.csv\" as row\n",
    "MATCH\n",
    "  (c:Contributor {name: row.contributor}),\n",
    "  (s:Senator {id: ToInteger(row.icpsr)})\n",
    "MERGE (c)-[d:DonatedTo {total: ToInteger(row.total), pac: ToInteger(row.pac), individual: ToInteger(row.individual), race:row.race}]->(s)\n",
    "\"\"\")"
   ]
  },
  {
   "cell_type": "code",
   "execution_count": null,
   "metadata": {},
   "outputs": [],
   "source": []
  }
 ],
 "metadata": {
  "kernelspec": {
   "display_name": "Python 3 (ipykernel)",
   "language": "python",
   "name": "python3"
  },
  "language_info": {
   "codemirror_mode": {
    "name": "ipython",
    "version": 3
   },
   "file_extension": ".py",
   "mimetype": "text/x-python",
   "name": "python",
   "nbconvert_exporter": "python",
   "pygments_lexer": "ipython3",
   "version": "3.8.2"
  },
  "vscode": {
   "interpreter": {
    "hash": "d4e12470a6bd1ddf239ef9d2cbb0fe9fada8c3415f77ba30801c7b104792fc14"
   }
  }
 },
 "nbformat": 4,
 "nbformat_minor": 4
}

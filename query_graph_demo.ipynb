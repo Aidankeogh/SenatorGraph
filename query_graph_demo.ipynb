{
 "cells": [
  {
   "cell_type": "markdown",
   "metadata": {},
   "source": [
    "# Query the Senator Knowledge Graph"
   ]
  },
  {
   "cell_type": "markdown",
   "metadata": {},
   "source": [
    "This notebook provides the code for various querying of the senator knowledge graph built in build_graph.ipynb"
   ]
  },
  {
   "cell_type": "code",
   "execution_count": null,
   "metadata": {},
   "outputs": [],
   "source": [
    "import pandas as pd\n",
    "import neo4j\n",
    "import seaborn as sns\n",
    "pd.options.display.max_colwidth = 150"
   ]
  },
  {
   "cell_type": "code",
   "execution_count": null,
   "metadata": {},
   "outputs": [],
   "source": [
    "driver = neo4j.GraphDatabase.driver(uri=\"bolt://localhost:7687\", auth=(\"neo4j\", \"senate\"))"
   ]
  },
  {
   "cell_type": "code",
   "execution_count": null,
   "metadata": {},
   "outputs": [],
   "source": [
    "\n",
    "def run(query):\n",
    "    data = []\n",
    "    with driver.session() as session:\n",
    "        result = session.run(query)\n",
    "        for record in result:\n",
    "            data.append(record.data())\n",
    "    return pd.DataFrame(data)"
   ]
  },
  {
   "cell_type": "markdown",
   "metadata": {},
   "source": [
    "# Example Queries"
   ]
  },
  {
   "cell_type": "markdown",
   "metadata": {},
   "source": [
    "## --- Simple Queries ---"
   ]
  },
  {
   "cell_type": "markdown",
   "metadata": {},
   "source": [
    "### (1) Get all bills Bernie Sanders voted yea on"
   ]
  },
  {
   "cell_type": "code",
   "execution_count": null,
   "metadata": {},
   "outputs": [],
   "source": [
    "run(\"\"\"\n",
    "MATCH (s:Senator {name: \"Bernie Sanders\"})-[v:Voted {vote_type: \"yea\"}]-(r:Rollcall)\n",
    "RETURN v.vote_type, r.desc, r.bill_number\n",
    "\"\"\")"
   ]
  },
  {
   "cell_type": "markdown",
   "metadata": {
    "notebookRunGroups": {
     "groupValue": "1"
    }
   },
   "source": [
    "### (2) Get all of Bernie Sander tweets ordered by likes"
   ]
  },
  {
   "cell_type": "code",
   "execution_count": null,
   "metadata": {},
   "outputs": [],
   "source": [
    "run(\"\"\"\n",
    "MATCH (s:Senator {name: \"Bernie Sanders\"})-[tw:Tweeted]->(t:Tweet)\n",
    "RETURN t.text, t.likes\n",
    "ORDER BY t.likes DESC\n",
    "\"\"\")"
   ]
  },
  {
   "cell_type": "markdown",
   "metadata": {},
   "source": [
    "### (3) Get all of Bernie Sanders' top donors"
   ]
  },
  {
   "cell_type": "code",
   "execution_count": null,
   "metadata": {},
   "outputs": [],
   "source": [
    "run(\"\"\"\n",
    "MATCH (c:Contributor)-[d:DonatedTo]->(s:Senator {name: \"Bernie Sanders\"})\n",
    "RETURN c.name, d.total\n",
    "ORDER BY d.total DESC\n",
    "\"\"\")"
   ]
  },
  {
   "cell_type": "markdown",
   "metadata": {},
   "source": [
    "### (4) Get the amount each senator received in donations from individuals and from pacs (+ plot)"
   ]
  },
  {
   "cell_type": "code",
   "execution_count": null,
   "metadata": {},
   "outputs": [],
   "source": [
    "senator_donation_amounts = run(\"\"\"\n",
    "MATCH (c:Contributor)-[d:DonatedTo]->(s:Senator)\n",
    "RETURN s.name as name, s.party as party, sum(d.pac) as pac_donations, sum(d.individual) as individual_donations\n",
    "ORDER BY sum(d.individual) DESC\n",
    "\"\"\")\n",
    "print(senator_donation_amounts)\n",
    "\n",
    "\n",
    "sns.scatterplot(data=senator_donation_amounts, y=\"individual_donations\", x=\"pac_donations\", hue=\"party\", \n",
    "    palette=dict(republican=\"red\", democrat=\"blue\", other=\"orange\")\n",
    ")\n",
    "sns.set(rc={'figure.figsize':(16, 9)})"
   ]
  },
  {
   "cell_type": "markdown",
   "metadata": {},
   "source": [
    "## --- Intermediate Level Queries ---"
   ]
  },
  {
   "cell_type": "markdown",
   "metadata": {},
   "source": [
    "### (5) Get the organization entities mentioned in roll calls for which Bernie Sander voted yea on, and order by organization count "
   ]
  },
  {
   "cell_type": "code",
   "execution_count": null,
   "metadata": {},
   "outputs": [],
   "source": [
    "run(\"\"\"\n",
    "MATCH (s:Senator {name: \"Bernie Sanders\"})-[v:Voted {vote_type: \"yea\"}]->(r:Rollcall)-[m:Mentions]->(e:Entity {type: \"ORG\"})\n",
    "RETURN e.name, count(e)\n",
    "ORDER BY count(e) DESC\n",
    "\"\"\")"
   ]
  },
  {
   "cell_type": "markdown",
   "metadata": {},
   "source": [
    "### (6) Get the organization entities that Bernie Sanders tweets about, and order by organization count"
   ]
  },
  {
   "cell_type": "code",
   "execution_count": null,
   "metadata": {},
   "outputs": [],
   "source": [
    "run(\"\"\"\n",
    "MATCH (s:Senator {name: \"Bernie Sanders\"})-[tw:Tweeted]->(t:Tweet)-[m:Mentions]->(e:Entity {type: \"ORG\"})\n",
    "RETURN e.name, count(e)\n",
    "ORDER BY count(e) DESC\n",
    "\"\"\")"
   ]
  },
  {
   "cell_type": "markdown",
   "metadata": {},
   "source": [
    "### (7) Get the event entities that Republicans tweet about, and order by the event count"
   ]
  },
  {
   "cell_type": "code",
   "execution_count": null,
   "metadata": {},
   "outputs": [],
   "source": [
    "run(\"\"\"\n",
    "MATCH (s:Senator {party: \"republican\"})-[tw:Tweeted]->(t:Tweet)-[m:Mentions]->(e:Entity {type: \"EVENT\"})\n",
    "RETURN e.name, count(e)\n",
    "ORDER BY count(e) DESC\n",
    "\"\"\")"
   ]
  },
  {
   "cell_type": "markdown",
   "metadata": {},
   "source": [
    "### (8) Get total contributions and total tweet likes per senator (+ plot)"
   ]
  },
  {
   "cell_type": "code",
   "execution_count": null,
   "metadata": {},
   "outputs": [],
   "source": [
    "senator_donation_likes = run(\"\"\"\n",
    "MATCH (c:Contributor)-[d:DonatedTo]->(s:Senator)-[tw:Tweeted]->(t:Tweet)\n",
    "RETURN s.name as name, sum(d.total) as donation_totals, s.party as party, sum(t.likes) as tweet_likes\n",
    "ORDER BY sum(t.likes) DESC\n",
    "\"\"\")\n",
    "print(senator_donation_likes)\n",
    "sns.scatterplot(\n",
    "    data=senator_donation_likes, x=\"tweet_likes\", y=\"donation_totals\", hue=\"party\", \n",
    "    palette=dict(republican=\"red\", democrat=\"blue\", other=\"orange\")\n",
    ")\n",
    "sns.set(rc={'figure.figsize':(20, 9)})"
   ]
  },
  {
   "cell_type": "markdown",
   "metadata": {},
   "source": [
    "### (9) Get the senators that have been tweeting about covid the most"
   ]
  },
  {
   "cell_type": "code",
   "execution_count": null,
   "metadata": {},
   "outputs": [],
   "source": [
    "run(\"\"\"\n",
    "MATCH (s:Senator)-->(t:Tweet)\n",
    "WHERE toLower(t.text) CONTAINS \"covid\"\n",
    "RETURN s.name, s.party, count(s)\n",
    "ORDER BY count(s) desc\n",
    "\"\"\")"
   ]
  },
  {
   "cell_type": "markdown",
   "metadata": {},
   "source": [
    "## --- More Advanced Queries ---"
   ]
  },
  {
   "cell_type": "markdown",
   "metadata": {},
   "source": [
    "### (10) Get the contributers who supported Senators that voted yes on bills mentioning 'the environmental protection agency'. Return the contributor, senator, and the amount."
   ]
  },
  {
   "cell_type": "code",
   "execution_count": null,
   "metadata": {},
   "outputs": [],
   "source": [
    "run(\"\"\"\n",
    "MATCH (s:Senator)-[v:Voted {vote_type: \"yea\"}]->(r:Rollcall)-[m:Mentions]->(e:Entity {name: \"the environmental protection agency\"})\n",
    "WITH s\n",
    "MATCH (c:Contributor)-[d:DonatedTo]->(s)\n",
    "RETURN c.name as contributor, sum(d.total) as amount, s.name as senator\n",
    "ORDER BY sum(d.total) DESC\n",
    "\"\"\")"
   ]
  },
  {
   "cell_type": "markdown",
   "metadata": {},
   "source": [
    "### (11) Find the percentage of donations for each candidate that come from universities"
   ]
  },
  {
   "cell_type": "code",
   "execution_count": null,
   "metadata": {},
   "outputs": [],
   "source": [
    "run(\"\"\"\n",
    "MATCH (c:Contributor)-[d:DonatedTo]->(s:Senator)\n",
    "WHERE toLower(c.name) CONTAINS \"university\"\n",
    "WITH s, sum(d.total) as university_donations\n",
    "\n",
    "MATCH (c:Contributor)-[d:DonatedTo]->(s)\n",
    "RETURN s.name, s.party, s.state, toFloat(university_donations) / toFloat(sum(d.total)) as university_percentage\n",
    "\n",
    "ORDER BY university_percentage DESC\n",
    "\"\"\")"
   ]
  },
  {
   "cell_type": "markdown",
   "metadata": {},
   "source": [
    "### (12) Of the above senators, have any tweeted about student loans? "
   ]
  },
  {
   "cell_type": "code",
   "execution_count": null,
   "metadata": {},
   "outputs": [],
   "source": [
    "run(\"\"\"\n",
    "MATCH (c:Contributor)-[d:DonatedTo]->(s:Senator)\n",
    "WHERE toLower(c.name) CONTAINS \"university\"\n",
    "WITH s, sum(d.total) as university_donations\n",
    "\n",
    "MATCH (c:Contributor)-[d:DonatedTo]->(s)\n",
    "WITH s, toFloat(university_donations) / toFloat(sum(d.total)) as university_percentage\n",
    "\n",
    "MATCH (s:Senator)-[tw:Tweeted]->(t:Tweet)\n",
    "WHERE toLower(t.text) CONTAINS \"student loan\"\n",
    "RETURN s.name, university_percentage, t.text, t.likes\n",
    "\n",
    "ORDER BY university_percentage DESC\n",
    "\"\"\")"
   ]
  },
  {
   "cell_type": "markdown",
   "metadata": {},
   "source": [
    "### (13) Of democratic senators who frequently cross the aisle, who are their most popular donors?\n",
    "### * crossing the aisle defined as voting on a bill the majority of republicans voted on and fewer than 5 other democrats voted on"
   ]
  },
  {
   "cell_type": "code",
   "execution_count": null,
   "metadata": {},
   "outputs": [],
   "source": [
    "run(\"\"\"\n",
    "MATCH (rs:Senator {party:\"republican\"})-[rv:Voted {vote_type: \"yea\"}]->(r:Rollcall)\n",
    "with r, count(rv) as republican_votes\n",
    "MATCH (ds:Senator {party:\"democrat\"})-[dv:Voted {vote_type: \"yea\"}]->(r:Rollcall)\n",
    "with r, count(dv) as democrat_votes, republican_votes\n",
    "WHERE republican_votes > 23 and democrat_votes < 5\n",
    "\n",
    "MATCH (ds:Senator {party:\"democrat\"})-[dv:Voted {vote_type: \"yea\"}]->(r:Rollcall)\n",
    "WITH ds as democrat_aisle_crosser, count(ds) as dissenting_votes\n",
    "WHERE count(ds) > 10\n",
    "\n",
    "MATCH (c:Contributor)-[d:DonatedTo]->(democrat_aisle_crosser)\n",
    "RETURN c.name, sum(d.total)\n",
    "ORDER BY sum(d.total) DESC\n",
    "\"\"\")"
   ]
  },
  {
   "cell_type": "markdown",
   "metadata": {},
   "source": [
    "### Compare that to the top contributors among all democrats"
   ]
  },
  {
   "cell_type": "code",
   "execution_count": null,
   "metadata": {},
   "outputs": [],
   "source": [
    "run(\"\"\"\n",
    "MATCH (c:Contributor)-[d:DonatedTo]->(ds:Senator {party:\"democrat\"})\n",
    "RETURN c.name, sum(d.total)\n",
    "ORDER BY sum(d.total) DESC\n",
    "\"\"\")"
   ]
  },
  {
   "cell_type": "markdown",
   "metadata": {},
   "source": [
    "### (14) Of all senators who received donations from contributors with \"oil\" in the name, how did they vote on approving the keystone xl pipeline?"
   ]
  },
  {
   "cell_type": "code",
   "execution_count": null,
   "metadata": {},
   "outputs": [],
   "source": [
    "run(\"\"\"\n",
    "match (c:Contributor)-[d:DonatedTo]->(s:Senator)-[v:Voted]->(r:Rollcall)    \n",
    "where toLower(c.name) contains \"oil\" and toLower(r.desc) contains \"keystone xl\"\n",
    "return s.name, sum(d.total) as oil_donations, v.vote_type\n",
    "order by sum(d.total) desc\n",
    "\"\"\")"
   ]
  },
  {
   "cell_type": "markdown",
   "metadata": {},
   "source": [
    "### (15) Of the above senators, do any have tweets mentioning oil?"
   ]
  },
  {
   "cell_type": "code",
   "execution_count": null,
   "metadata": {},
   "outputs": [],
   "source": [
    "run(\"\"\"\n",
    "match (c:Contributor)-[d:DonatedTo]->(s:Senator)-->(t:Tweet)\n",
    "match (s)-[v:Voted]->(r:Rollcall)    \n",
    "where toLower(c.name) contains \"oil\" and toLower(t.text) contains \" oil\" and toLower(r.desc) contains \"keystone xl\" \n",
    "return s.name, sum(d.total) as oil_donations, v.vote_type, t.text\n",
    "order by sum(d.total) desc\n",
    "\"\"\")"
   ]
  }
 ],
 "metadata": {
  "kernelspec": {
   "display_name": "Python 3 (ipykernel)",
   "language": "python",
   "name": "python3"
  },
  "language_info": {
   "codemirror_mode": {
    "name": "ipython",
    "version": 3
   },
   "file_extension": ".py",
   "mimetype": "text/x-python",
   "name": "python",
   "nbconvert_exporter": "python",
   "pygments_lexer": "ipython3",
   "version": "3.8.5"
  },
  "vscode": {
   "interpreter": {
    "hash": "d4e12470a6bd1ddf239ef9d2cbb0fe9fada8c3415f77ba30801c7b104792fc14"
   }
  }
 },
 "nbformat": 4,
 "nbformat_minor": 4
}

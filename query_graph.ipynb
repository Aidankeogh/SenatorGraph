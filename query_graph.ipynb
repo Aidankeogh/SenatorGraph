{
 "cells": [
  {
   "cell_type": "code",
   "execution_count": 15,
   "metadata": {},
   "outputs": [],
   "source": [
    "import pandas as pd\n",
    "import neo4j\n",
    "import seaborn as sns"
   ]
  },
  {
   "cell_type": "code",
   "execution_count": 16,
   "metadata": {},
   "outputs": [],
   "source": [
    "driver = neo4j.GraphDatabase.driver(uri=\"bolt://localhost:7687\", auth=(\"neo4j\", \"senate\"))"
   ]
  },
  {
   "cell_type": "code",
   "execution_count": 17,
   "metadata": {},
   "outputs": [],
   "source": [
    "\n",
    "def run(query):\n",
    "    data = []\n",
    "    with driver.session() as session:\n",
    "        result = session.run(query)\n",
    "        for record in result:\n",
    "            data.append(record.data())\n",
    "    return pd.DataFrame(data)"
   ]
  },
  {
   "cell_type": "code",
   "execution_count": 18,
   "metadata": {},
   "outputs": [],
   "source": [
    "senator_donation_likes = run(\"\"\"\n",
    "MATCH (c:Contributor)-[d:DonatedTo]->(s:Senator)-[tw:Tweeted]->(t:Tweet)\n",
    "RETURN s.name, sum(d.amount) as donations, s.party, sum(t.likes) as likes\n",
    "ORDER BY sum(t.likes) DESC\n",
    "\"\"\")"
   ]
  },
  {
   "cell_type": "code",
   "execution_count": 20,
   "metadata": {},
   "outputs": [
    {
     "data": {
      "text/html": [
       "<div>\n",
       "<style scoped>\n",
       "    .dataframe tbody tr th:only-of-type {\n",
       "        vertical-align: middle;\n",
       "    }\n",
       "\n",
       "    .dataframe tbody tr th {\n",
       "        vertical-align: top;\n",
       "    }\n",
       "\n",
       "    .dataframe thead th {\n",
       "        text-align: right;\n",
       "    }\n",
       "</style>\n",
       "<table border=\"1\" class=\"dataframe\">\n",
       "  <thead>\n",
       "    <tr style=\"text-align: right;\">\n",
       "      <th></th>\n",
       "      <th>s.name</th>\n",
       "      <th>donations</th>\n",
       "      <th>s.party</th>\n",
       "      <th>likes</th>\n",
       "    </tr>\n",
       "  </thead>\n",
       "  <tbody>\n",
       "    <tr>\n",
       "      <th>0</th>\n",
       "      <td>Mitt Romney</td>\n",
       "      <td>67813200</td>\n",
       "      <td>republican</td>\n",
       "      <td>22513950</td>\n",
       "    </tr>\n",
       "    <tr>\n",
       "      <th>1</th>\n",
       "      <td>Bernie Sanders</td>\n",
       "      <td>19227700</td>\n",
       "      <td>other</td>\n",
       "      <td>20708720</td>\n",
       "    </tr>\n",
       "    <tr>\n",
       "      <th>2</th>\n",
       "      <td>Marsha Blackburn</td>\n",
       "      <td>107143100</td>\n",
       "      <td>republican</td>\n",
       "      <td>10153120</td>\n",
       "    </tr>\n",
       "    <tr>\n",
       "      <th>3</th>\n",
       "      <td>Marco Rubio</td>\n",
       "      <td>71373542</td>\n",
       "      <td>republican</td>\n",
       "      <td>7192900</td>\n",
       "    </tr>\n",
       "    <tr>\n",
       "      <th>4</th>\n",
       "      <td>Elizabeth Warren</td>\n",
       "      <td>85030800</td>\n",
       "      <td>democrat</td>\n",
       "      <td>6564280</td>\n",
       "    </tr>\n",
       "    <tr>\n",
       "      <th>...</th>\n",
       "      <td>...</td>\n",
       "      <td>...</td>\n",
       "      <td>...</td>\n",
       "      <td>...</td>\n",
       "    </tr>\n",
       "    <tr>\n",
       "      <th>71</th>\n",
       "      <td>Jeanne Shaheen</td>\n",
       "      <td>84383046</td>\n",
       "      <td>democrat</td>\n",
       "      <td>40280</td>\n",
       "    </tr>\n",
       "    <tr>\n",
       "      <th>72</th>\n",
       "      <td>John Boozman</td>\n",
       "      <td>66459381</td>\n",
       "      <td>republican</td>\n",
       "      <td>38100</td>\n",
       "    </tr>\n",
       "    <tr>\n",
       "      <th>73</th>\n",
       "      <td>Mike Crapo</td>\n",
       "      <td>62119332</td>\n",
       "      <td>republican</td>\n",
       "      <td>36220</td>\n",
       "    </tr>\n",
       "    <tr>\n",
       "      <th>74</th>\n",
       "      <td>Bill Cassidy</td>\n",
       "      <td>58420250</td>\n",
       "      <td>republican</td>\n",
       "      <td>25380</td>\n",
       "    </tr>\n",
       "    <tr>\n",
       "      <th>75</th>\n",
       "      <td>John Hoeven</td>\n",
       "      <td>36378200</td>\n",
       "      <td>republican</td>\n",
       "      <td>24220</td>\n",
       "    </tr>\n",
       "  </tbody>\n",
       "</table>\n",
       "<p>76 rows × 4 columns</p>\n",
       "</div>"
      ],
      "text/plain": [
       "              s.name  donations     s.party     likes\n",
       "0        Mitt Romney   67813200  republican  22513950\n",
       "1     Bernie Sanders   19227700       other  20708720\n",
       "2   Marsha Blackburn  107143100  republican  10153120\n",
       "3        Marco Rubio   71373542  republican   7192900\n",
       "4   Elizabeth Warren   85030800    democrat   6564280\n",
       "..               ...        ...         ...       ...\n",
       "71    Jeanne Shaheen   84383046    democrat     40280\n",
       "72      John Boozman   66459381  republican     38100\n",
       "73        Mike Crapo   62119332  republican     36220\n",
       "74      Bill Cassidy   58420250  republican     25380\n",
       "75       John Hoeven   36378200  republican     24220\n",
       "\n",
       "[76 rows x 4 columns]"
      ]
     },
     "execution_count": 20,
     "metadata": {},
     "output_type": "execute_result"
    }
   ],
   "source": [
    "senator_donation_likes"
   ]
  },
  {
   "cell_type": "code",
   "execution_count": 30,
   "metadata": {},
   "outputs": [
    {
     "data": {
      "image/png": "[encoded data removed]",
      "text/plain": [
       "<Figure size 1152x648 with 1 Axes>"
      ]
     },
     "metadata": {},
     "output_type": "display_data"
    }
   ],
   "source": [
    "sns.scatterplot(data=senator_donation_likes, x=\"likes\", y=\"donations\", hue=\"s.party\", \n",
    "palette=dict(republican=\"red\", democrat=\"blue\", other=\"orange\")\n",
    ")\n",
    "sns.set(rc={'figure.figsize':(16, 9)})\n",
    "#sns.regplot(data=senator_donation_likes, x=\"likes\", y=\"donations\")"
   ]
  },
  {
   "cell_type": "code",
   "execution_count": 39,
   "metadata": {},
   "outputs": [
    {
     "data": {
      "text/plain": [
       "0     Shame falls on a party that would censure pers...\n",
       "1     Tulsi Gabbard is parroting false Russian propa...\n",
       "2     Mike Rounds speaks truth knowing that our Repu...\n",
       "3     Accounts of battlefield bravery have long insp...\n",
       "4     I join the world in awe of true heroes: the co...\n",
       "                            ...                        \n",
       "87    RT @SenatorRomney: It’s unacceptable that Chin...\n",
       "88    RT @GovCox: Alongside generous business and co...\n",
       "89    RT @SenatorRomney: Sad to see what’s being don...\n",
       "90    RT @UAEEmbassyUS: Thank you @MittRomney for th...\n",
       "91    RT @SenatorRomney: A diplomatic boycott of the...\n",
       "Name: t.text, Length: 92, dtype: object"
      ]
     },
     "execution_count": 39,
     "metadata": {},
     "output_type": "execute_result"
    }
   ],
   "source": [
    "mitt_tweets = run(\"\"\"\n",
    "MATCH (s:Senator {name: \"Mitt Romney\"})-[tw:Tweeted]->(t:Tweet)\n",
    "RETURN s.name, t.likes, t.text\n",
    "ORDER BY t.likes DESC\n",
    "\"\"\")\n",
    "mitt_tweets[\"t.text\"]"
   ]
  }
 ],
 "metadata": {
  "kernelspec": {
   "display_name": "Python 3.8.5 ('base')",
   "language": "python",
   "name": "python3"
  },
  "language_info": {
   "codemirror_mode": {
    "name": "ipython",
    "version": 3
   },
   "file_extension": ".py",
   "mimetype": "text/x-python",
   "name": "python",
   "nbconvert_exporter": "python",
   "pygments_lexer": "ipython3",
   "version": "3.8.5"
  },
  "orig_nbformat": 4,
  "vscode": {
   "interpreter": {
    "hash": "d4e12470a6bd1ddf239ef9d2cbb0fe9fada8c3415f77ba30801c7b104792fc14"
   }
  }
 },
 "nbformat": 4,
 "nbformat_minor": 2
}

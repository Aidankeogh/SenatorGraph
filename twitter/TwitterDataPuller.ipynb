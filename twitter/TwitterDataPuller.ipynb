{
 "cells": [
  {
   "cell_type": "markdown",
   "id": "95861862-2c1d-4a9a-8325-bf30caf77223",
   "metadata": {},
   "source": [
    "# Using Twitter API to Pull Tweets"
   ]
  },
  {
   "cell_type": "markdown",
   "id": "e8b2b148-8019-4522-9fbf-db9476d03c67",
   "metadata": {},
   "source": [
    "This notebook provides the workflow for pulling tweets that are then used in building the political candidate money flow knowledge graph"
   ]
  },
  {
   "cell_type": "code",
   "execution_count": 1,
   "id": "5af285af-97c8-48a4-9ac8-c9ef9956b306",
   "metadata": {},
   "outputs": [],
   "source": [
    "import pandas as pd\n",
    "import numpy as np\n",
    "import ast\n",
    "import time\n",
    "import compress_json\n",
    "import json"
   ]
  },
  {
   "cell_type": "code",
   "execution_count": 2,
   "id": "a5edd6e4-12aa-478a-8466-6e06ba79b2eb",
   "metadata": {},
   "outputs": [],
   "source": [
    "# Load candidate twitter usernames\n",
    "\n",
    "cand_twitters = pd.read_csv(\"candidate_twitters.csv\")"
   ]
  },
  {
   "cell_type": "code",
   "execution_count": 3,
   "id": "2833091b-8043-4778-a74a-9e6bbe09975a",
   "metadata": {},
   "outputs": [
    {
     "data": {
      "text/html": [
       "<div>\n",
       "<style scoped>\n",
       "    .dataframe tbody tr th:only-of-type {\n",
       "        vertical-align: middle;\n",
       "    }\n",
       "\n",
       "    .dataframe tbody tr th {\n",
       "        vertical-align: top;\n",
       "    }\n",
       "\n",
       "    .dataframe thead th {\n",
       "        text-align: right;\n",
       "    }\n",
       "</style>\n",
       "<table border=\"1\" class=\"dataframe\">\n",
       "  <thead>\n",
       "    <tr style=\"text-align: right;\">\n",
       "      <th></th>\n",
       "      <th>Name</th>\n",
       "      <th>Twitter_username</th>\n",
       "      <th>Account_start_time</th>\n",
       "      <th>Account_ID</th>\n",
       "      <th>Sex</th>\n",
       "      <th>Birthplace</th>\n",
       "      <th>Birthday</th>\n",
       "      <th>Age</th>\n",
       "      <th>Instagram_username</th>\n",
       "      <th>Political_party</th>\n",
       "    </tr>\n",
       "  </thead>\n",
       "  <tbody>\n",
       "    <tr>\n",
       "      <th>0</th>\n",
       "      <td>A. Donald McEachin</td>\n",
       "      <td>RepMcEachin</td>\n",
       "      <td>2017-01-03T00:00:00Z</td>\n",
       "      <td>8.16181E+17</td>\n",
       "      <td>male</td>\n",
       "      <td>Germany</td>\n",
       "      <td>1961-10-10T00:00:00Z</td>\n",
       "      <td>59.0</td>\n",
       "      <td>repmceachin</td>\n",
       "      <td>Democratic Party</td>\n",
       "    </tr>\n",
       "    <tr>\n",
       "      <th>1</th>\n",
       "      <td>Aaron Michlewitz</td>\n",
       "      <td>RepMichlewitz</td>\n",
       "      <td>2010-06-27T00:00:00Z</td>\n",
       "      <td>160246973</td>\n",
       "      <td>male</td>\n",
       "      <td>United States of America</td>\n",
       "      <td>1978-01-01T00:00:00Z</td>\n",
       "      <td>42.0</td>\n",
       "      <td>NaN</td>\n",
       "      <td>Democratic Party</td>\n",
       "    </tr>\n",
       "    <tr>\n",
       "      <th>2</th>\n",
       "      <td>Aaron Peskin</td>\n",
       "      <td>AaronPeskin</td>\n",
       "      <td>2010-11-13T00:00:00Z</td>\n",
       "      <td>215369273</td>\n",
       "      <td>male</td>\n",
       "      <td>United States of America</td>\n",
       "      <td>1964-06-17T00:00:00Z</td>\n",
       "      <td>56.0</td>\n",
       "      <td>apeskin52</td>\n",
       "      <td>Democratic Party</td>\n",
       "    </tr>\n",
       "    <tr>\n",
       "      <th>3</th>\n",
       "      <td>Aaron Peña</td>\n",
       "      <td>AaronPena</td>\n",
       "      <td>2007-10-31T00:00:00Z</td>\n",
       "      <td>9843332</td>\n",
       "      <td>male</td>\n",
       "      <td>United States of America</td>\n",
       "      <td>1959-06-08T00:00:00Z</td>\n",
       "      <td>61.0</td>\n",
       "      <td>NaN</td>\n",
       "      <td>Republican Party</td>\n",
       "    </tr>\n",
       "    <tr>\n",
       "      <th>4</th>\n",
       "      <td>Aaron Schock</td>\n",
       "      <td>aaronschock</td>\n",
       "      <td>2009-03-12T00:00:00Z</td>\n",
       "      <td>23951197</td>\n",
       "      <td>male</td>\n",
       "      <td>United States of America</td>\n",
       "      <td>1981-05-28T00:00:00Z</td>\n",
       "      <td>39.0</td>\n",
       "      <td>aaronschock</td>\n",
       "      <td>Republican Party</td>\n",
       "    </tr>\n",
       "  </tbody>\n",
       "</table>\n",
       "</div>"
      ],
      "text/plain": [
       "                 Name Twitter_username    Account_start_time   Account_ID  \\\n",
       "0  A. Donald McEachin      RepMcEachin  2017-01-03T00:00:00Z  8.16181E+17   \n",
       "1    Aaron Michlewitz    RepMichlewitz  2010-06-27T00:00:00Z    160246973   \n",
       "2        Aaron Peskin      AaronPeskin  2010-11-13T00:00:00Z    215369273   \n",
       "3          Aaron Peña        AaronPena  2007-10-31T00:00:00Z      9843332   \n",
       "4        Aaron Schock      aaronschock  2009-03-12T00:00:00Z     23951197   \n",
       "\n",
       "    Sex                Birthplace              Birthday   Age  \\\n",
       "0  male                   Germany  1961-10-10T00:00:00Z  59.0   \n",
       "1  male  United States of America  1978-01-01T00:00:00Z  42.0   \n",
       "2  male  United States of America  1964-06-17T00:00:00Z  56.0   \n",
       "3  male  United States of America  1959-06-08T00:00:00Z  61.0   \n",
       "4  male  United States of America  1981-05-28T00:00:00Z  39.0   \n",
       "\n",
       "  Instagram_username   Political_party  \n",
       "0        repmceachin  Democratic Party  \n",
       "1                NaN  Democratic Party  \n",
       "2          apeskin52  Democratic Party  \n",
       "3                NaN  Republican Party  \n",
       "4        aaronschock  Republican Party  "
      ]
     },
     "execution_count": 3,
     "metadata": {},
     "output_type": "execute_result"
    }
   ],
   "source": [
    "cand_twitters.head()"
   ]
  },
  {
   "cell_type": "code",
   "execution_count": 4,
   "id": "0a8df3ae-e621-466f-be74-041860f9cf22",
   "metadata": {},
   "outputs": [],
   "source": [
    "# This will import the Twarc2 client and expansions class from twarc library and also the json library\n",
    "from twarc import Twarc2, expansions\n",
    "import json\n",
    "\n",
    "# This is where you initialize the client with your own bearer token (replace the XXXXX with your own bearer token)\n",
    "client = Twarc2(bearer_token=\"AAAAAAAAAAAAAAAAAAAAAH8MiwEAAAAAhxBwj2PzTLJqURrByB7nteUOgoY%3DQ8EREzO3zgq2WQOrQu41PZ9nE48iEDCDSmHzfzyVl7Cx8jIqyk\")"
   ]
  },
  {
   "cell_type": "markdown",
   "id": "feae40d4-7590-4a41-8842-981aee75754d",
   "metadata": {},
   "source": [
    "### Define twitter api functions to pull tweets"
   ]
  },
  {
   "cell_type": "code",
   "execution_count": 5,
   "id": "11b8d8bb-0251-4b30-a865-ec3aa29d7d45",
   "metadata": {},
   "outputs": [],
   "source": [
    "def get_tweets(twitter_user):\n",
    "    # This timeline functions gets the Tweet timeline for a specified user\n",
    "    user_timeline = client.timeline(user=twitter_user)\n",
    "    \n",
    "    user_tweets = []\n",
    "    # Twarc returns all Tweets for the criteria set above, so we page through the results\n",
    "    for page in user_timeline:\n",
    "        # The Twitter API v2 returns the Tweet information and the user, media etc.  separately\n",
    "        # so we use expansions.flatten to get all the information in a single JSON\n",
    "        result = expansions.flatten(page)\n",
    "        for tweet in result:\n",
    "            user_tweets.append(tweet)\n",
    "        break\n",
    "    \n",
    "    return(user_tweets)"
   ]
  },
  {
   "cell_type": "code",
   "execution_count": 6,
   "id": "4a74b501-131c-471c-81c4-a5a7507bd755",
   "metadata": {},
   "outputs": [],
   "source": [
    "def get_mentions(twitter_user):\n",
    "    # This mentions functions gets the mentions for a specified user\n",
    "    user_mentions = client.mentions(user=twitter_user)\n",
    "    \n",
    "    mention_tweets= []\n",
    "    count = 0\n",
    "    # Twarc returns all Tweets for the criteria set above, so we page through the results\n",
    "    for page in user_mentions:\n",
    "        # The Twitter API v2 returns the Tweet information and the user, media etc.  separately\n",
    "        # so we use expansions.flatten to get all the information in a single JSON\n",
    "        result = expansions.flatten(page)\n",
    "        for tweet in result:\n",
    "            mention_tweets.append(tweet)\n",
    "            count += 1\n",
    "            if count == 100:\n",
    "                count = 0\n",
    "                break\n",
    "        break\n",
    "        \n",
    "    return(mention_tweets)            "
   ]
  },
  {
   "cell_type": "markdown",
   "id": "b34ef023-9e09-4d0c-acab-603ada0150d1",
   "metadata": {},
   "source": [
    "## Load in the curated senator races and senator member twitters processed from GetCandidates.ipynb"
   ]
  },
  {
   "cell_type": "code",
   "execution_count": 7,
   "id": "77fe0de7-ff50-43cf-9b3a-80e1b4348f68",
   "metadata": {},
   "outputs": [],
   "source": [
    "senate_members = pd.read_csv(\"senator_members_twitters_curated.csv\")\n",
    "senate_races = pd.read_csv(\"senator_races_twitters_curated.csv\")"
   ]
  },
  {
   "cell_type": "code",
   "execution_count": 8,
   "id": "a84c1ae9-5b1b-4ea2-b6e2-b2af3f128b9f",
   "metadata": {},
   "outputs": [
    {
     "data": {
      "text/html": [
       "<div>\n",
       "<style scoped>\n",
       "    .dataframe tbody tr th:only-of-type {\n",
       "        vertical-align: middle;\n",
       "    }\n",
       "\n",
       "    .dataframe tbody tr th {\n",
       "        vertical-align: top;\n",
       "    }\n",
       "\n",
       "    .dataframe thead th {\n",
       "        text-align: right;\n",
       "    }\n",
       "</style>\n",
       "<table border=\"1\" class=\"dataframe\">\n",
       "  <thead>\n",
       "    <tr style=\"text-align: right;\">\n",
       "      <th></th>\n",
       "      <th>congress</th>\n",
       "      <th>chamber</th>\n",
       "      <th>icpsr</th>\n",
       "      <th>state_icpsr</th>\n",
       "      <th>district_code</th>\n",
       "      <th>state_abbrev</th>\n",
       "      <th>party_code</th>\n",
       "      <th>occupancy</th>\n",
       "      <th>last_means</th>\n",
       "      <th>bioname</th>\n",
       "      <th>Last name</th>\n",
       "      <th>Name</th>\n",
       "      <th>Twitter_username</th>\n",
       "    </tr>\n",
       "  </thead>\n",
       "  <tbody>\n",
       "    <tr>\n",
       "      <th>0</th>\n",
       "      <td>117</td>\n",
       "      <td>President</td>\n",
       "      <td>99912</td>\n",
       "      <td>99</td>\n",
       "      <td>0</td>\n",
       "      <td>USA</td>\n",
       "      <td>200</td>\n",
       "      <td>0.0</td>\n",
       "      <td>0.0</td>\n",
       "      <td>TRUMP, Donald John</td>\n",
       "      <td>Trump</td>\n",
       "      <td>Donald Trump</td>\n",
       "      <td>realDonaldTrump</td>\n",
       "    </tr>\n",
       "    <tr>\n",
       "      <th>1</th>\n",
       "      <td>117</td>\n",
       "      <td>President</td>\n",
       "      <td>99912</td>\n",
       "      <td>99</td>\n",
       "      <td>0</td>\n",
       "      <td>USA</td>\n",
       "      <td>200</td>\n",
       "      <td>0.0</td>\n",
       "      <td>0.0</td>\n",
       "      <td>TRUMP, Donald John</td>\n",
       "      <td>Trump</td>\n",
       "      <td>Donald Trump</td>\n",
       "      <td>POTUS</td>\n",
       "    </tr>\n",
       "    <tr>\n",
       "      <th>2</th>\n",
       "      <td>117</td>\n",
       "      <td>President</td>\n",
       "      <td>99913</td>\n",
       "      <td>99</td>\n",
       "      <td>0</td>\n",
       "      <td>USA</td>\n",
       "      <td>100</td>\n",
       "      <td>0.0</td>\n",
       "      <td>0.0</td>\n",
       "      <td>BIDEN, Joseph Robinette, Jr.</td>\n",
       "      <td>Biden</td>\n",
       "      <td>Joe Biden</td>\n",
       "      <td>JoeBiden</td>\n",
       "    </tr>\n",
       "    <tr>\n",
       "      <th>3</th>\n",
       "      <td>117</td>\n",
       "      <td>Senate</td>\n",
       "      <td>42102</td>\n",
       "      <td>41</td>\n",
       "      <td>0</td>\n",
       "      <td>AL</td>\n",
       "      <td>200</td>\n",
       "      <td>NaN</td>\n",
       "      <td>NaN</td>\n",
       "      <td>TUBERVILLE, Thomas Hawley (Tommy)</td>\n",
       "      <td>Tuberville</td>\n",
       "      <td>Tommy Tuberville</td>\n",
       "      <td>TTuberville</td>\n",
       "    </tr>\n",
       "    <tr>\n",
       "      <th>4</th>\n",
       "      <td>117</td>\n",
       "      <td>Senate</td>\n",
       "      <td>94659</td>\n",
       "      <td>41</td>\n",
       "      <td>0</td>\n",
       "      <td>AL</td>\n",
       "      <td>200</td>\n",
       "      <td>NaN</td>\n",
       "      <td>NaN</td>\n",
       "      <td>SHELBY, Richard C.</td>\n",
       "      <td>Shelby</td>\n",
       "      <td>Richard Shelby</td>\n",
       "      <td>SenShelby</td>\n",
       "    </tr>\n",
       "  </tbody>\n",
       "</table>\n",
       "</div>"
      ],
      "text/plain": [
       "   congress    chamber  icpsr  state_icpsr  district_code state_abbrev  \\\n",
       "0       117  President  99912           99              0          USA   \n",
       "1       117  President  99912           99              0          USA   \n",
       "2       117  President  99913           99              0          USA   \n",
       "3       117     Senate  42102           41              0           AL   \n",
       "4       117     Senate  94659           41              0           AL   \n",
       "\n",
       "   party_code  occupancy  last_means                            bioname  \\\n",
       "0         200        0.0         0.0                 TRUMP, Donald John   \n",
       "1         200        0.0         0.0                 TRUMP, Donald John   \n",
       "2         100        0.0         0.0       BIDEN, Joseph Robinette, Jr.   \n",
       "3         200        NaN         NaN  TUBERVILLE, Thomas Hawley (Tommy)   \n",
       "4         200        NaN         NaN                 SHELBY, Richard C.   \n",
       "\n",
       "    Last name              Name Twitter_username  \n",
       "0       Trump      Donald Trump  realDonaldTrump  \n",
       "1       Trump      Donald Trump            POTUS  \n",
       "2       Biden         Joe Biden         JoeBiden  \n",
       "3  Tuberville  Tommy Tuberville      TTuberville  \n",
       "4      Shelby    Richard Shelby        SenShelby  "
      ]
     },
     "execution_count": 8,
     "metadata": {},
     "output_type": "execute_result"
    }
   ],
   "source": [
    "senate_members.head()"
   ]
  },
  {
   "cell_type": "code",
   "execution_count": 9,
   "id": "d8457f24-beed-44e3-9d3c-53bbf4fddb27",
   "metadata": {},
   "outputs": [
    {
     "data": {
      "text/html": [
       "<div>\n",
       "<style scoped>\n",
       "    .dataframe tbody tr th:only-of-type {\n",
       "        vertical-align: middle;\n",
       "    }\n",
       "\n",
       "    .dataframe tbody tr th {\n",
       "        vertical-align: top;\n",
       "    }\n",
       "\n",
       "    .dataframe thead th {\n",
       "        text-align: right;\n",
       "    }\n",
       "</style>\n",
       "<table border=\"1\" class=\"dataframe\">\n",
       "  <thead>\n",
       "    <tr style=\"text-align: right;\">\n",
       "      <th></th>\n",
       "      <th>STATE</th>\n",
       "      <th>First name</th>\n",
       "      <th>Last name</th>\n",
       "      <th>Party</th>\n",
       "      <th>Incumbent</th>\n",
       "      <th>Full name</th>\n",
       "      <th>Name</th>\n",
       "      <th>Twitter_username</th>\n",
       "    </tr>\n",
       "  </thead>\n",
       "  <tbody>\n",
       "    <tr>\n",
       "      <th>0</th>\n",
       "      <td>Alaska</td>\n",
       "      <td>Lisa</td>\n",
       "      <td>Murkowski</td>\n",
       "      <td>Rep</td>\n",
       "      <td>Y</td>\n",
       "      <td>Lisa Murkowski</td>\n",
       "      <td>Lisa Murkowski</td>\n",
       "      <td>lisamurkowski</td>\n",
       "    </tr>\n",
       "    <tr>\n",
       "      <th>1</th>\n",
       "      <td>Arizona</td>\n",
       "      <td>Mark</td>\n",
       "      <td>Kelly</td>\n",
       "      <td>Dem</td>\n",
       "      <td>Y</td>\n",
       "      <td>Mark Kelly</td>\n",
       "      <td>Mark Kelly</td>\n",
       "      <td>CaptMarkKelly</td>\n",
       "    </tr>\n",
       "    <tr>\n",
       "      <th>2</th>\n",
       "      <td>Arizona</td>\n",
       "      <td>Mark</td>\n",
       "      <td>Kelly</td>\n",
       "      <td>Dem</td>\n",
       "      <td>Y</td>\n",
       "      <td>Mark Kelly</td>\n",
       "      <td>Mike Kelly</td>\n",
       "      <td>MikeKellyPA</td>\n",
       "    </tr>\n",
       "    <tr>\n",
       "      <th>3</th>\n",
       "      <td>Arkansas</td>\n",
       "      <td>John</td>\n",
       "      <td>Boozman</td>\n",
       "      <td>Rep</td>\n",
       "      <td>y</td>\n",
       "      <td>John Boozman</td>\n",
       "      <td>John Boozman</td>\n",
       "      <td>Boozman4AR</td>\n",
       "    </tr>\n",
       "    <tr>\n",
       "      <th>4</th>\n",
       "      <td>Arkansas</td>\n",
       "      <td>John</td>\n",
       "      <td>Boozman</td>\n",
       "      <td>Rep</td>\n",
       "      <td>y</td>\n",
       "      <td>John Boozman</td>\n",
       "      <td>John Boozman</td>\n",
       "      <td>JohnBoozman</td>\n",
       "    </tr>\n",
       "  </tbody>\n",
       "</table>\n",
       "</div>"
      ],
      "text/plain": [
       "      STATE First name  Last name Party Incumbent       Full name  \\\n",
       "0    Alaska       Lisa  Murkowski   Rep         Y  Lisa Murkowski   \n",
       "1   Arizona       Mark      Kelly   Dem         Y      Mark Kelly   \n",
       "2   Arizona       Mark      Kelly   Dem         Y      Mark Kelly   \n",
       "3  Arkansas       John    Boozman   Rep         y    John Boozman   \n",
       "4  Arkansas       John    Boozman   Rep         y    John Boozman   \n",
       "\n",
       "             Name Twitter_username  \n",
       "0  Lisa Murkowski    lisamurkowski  \n",
       "1      Mark Kelly    CaptMarkKelly  \n",
       "2      Mike Kelly      MikeKellyPA  \n",
       "3    John Boozman       Boozman4AR  \n",
       "4    John Boozman      JohnBoozman  "
      ]
     },
     "execution_count": 9,
     "metadata": {},
     "output_type": "execute_result"
    }
   ],
   "source": [
    "senate_races.head()"
   ]
  },
  {
   "cell_type": "code",
   "execution_count": 10,
   "id": "1c1aa044-d6bd-4d02-a441-328688a9de8c",
   "metadata": {},
   "outputs": [],
   "source": [
    "senate_members = senate_members.drop_duplicates(subset = ['Name'])\n",
    "senate_races = senate_races.drop_duplicates(subset = ['Name'])"
   ]
  },
  {
   "cell_type": "code",
   "execution_count": 11,
   "id": "84b2e8bd-074c-4b8f-9735-3e85e97363be",
   "metadata": {},
   "outputs": [
    {
     "data": {
      "text/plain": [
       "95"
      ]
     },
     "execution_count": 11,
     "metadata": {},
     "output_type": "execute_result"
    }
   ],
   "source": [
    "len(senate_members)"
   ]
  },
  {
   "cell_type": "code",
   "execution_count": 12,
   "id": "5f2e76af-fb19-4a2f-a1e5-b9c03381a119",
   "metadata": {},
   "outputs": [
    {
     "data": {
      "text/plain": [
       "35"
      ]
     },
     "execution_count": 12,
     "metadata": {},
     "output_type": "execute_result"
    }
   ],
   "source": [
    "len(senate_races)"
   ]
  },
  {
   "cell_type": "code",
   "execution_count": 13,
   "id": "6a6a72e6-36d8-442a-be03-7924c7a3556b",
   "metadata": {},
   "outputs": [],
   "source": [
    "senate_members = senate_members.drop(['congress', 'chamber', 'Last name', 'bioname', 'occupancy', 'district_code', 'last_means'], axis = 1)"
   ]
  },
  {
   "cell_type": "code",
   "execution_count": 14,
   "id": "746319d0-bc41-4a96-807a-a6b3dd2c6677",
   "metadata": {},
   "outputs": [
    {
     "data": {
      "text/html": [
       "<div>\n",
       "<style scoped>\n",
       "    .dataframe tbody tr th:only-of-type {\n",
       "        vertical-align: middle;\n",
       "    }\n",
       "\n",
       "    .dataframe tbody tr th {\n",
       "        vertical-align: top;\n",
       "    }\n",
       "\n",
       "    .dataframe thead th {\n",
       "        text-align: right;\n",
       "    }\n",
       "</style>\n",
       "<table border=\"1\" class=\"dataframe\">\n",
       "  <thead>\n",
       "    <tr style=\"text-align: right;\">\n",
       "      <th></th>\n",
       "      <th>icpsr</th>\n",
       "      <th>state_icpsr</th>\n",
       "      <th>state_abbrev</th>\n",
       "      <th>party_code</th>\n",
       "      <th>Name</th>\n",
       "      <th>Twitter_username</th>\n",
       "    </tr>\n",
       "  </thead>\n",
       "  <tbody>\n",
       "    <tr>\n",
       "      <th>0</th>\n",
       "      <td>99912</td>\n",
       "      <td>99</td>\n",
       "      <td>USA</td>\n",
       "      <td>200</td>\n",
       "      <td>Donald Trump</td>\n",
       "      <td>realDonaldTrump</td>\n",
       "    </tr>\n",
       "    <tr>\n",
       "      <th>2</th>\n",
       "      <td>99913</td>\n",
       "      <td>99</td>\n",
       "      <td>USA</td>\n",
       "      <td>100</td>\n",
       "      <td>Joe Biden</td>\n",
       "      <td>JoeBiden</td>\n",
       "    </tr>\n",
       "    <tr>\n",
       "      <th>3</th>\n",
       "      <td>42102</td>\n",
       "      <td>41</td>\n",
       "      <td>AL</td>\n",
       "      <td>200</td>\n",
       "      <td>Tommy Tuberville</td>\n",
       "      <td>TTuberville</td>\n",
       "    </tr>\n",
       "    <tr>\n",
       "      <th>4</th>\n",
       "      <td>94659</td>\n",
       "      <td>41</td>\n",
       "      <td>AL</td>\n",
       "      <td>200</td>\n",
       "      <td>Richard Shelby</td>\n",
       "      <td>SenShelby</td>\n",
       "    </tr>\n",
       "    <tr>\n",
       "      <th>5</th>\n",
       "      <td>40300</td>\n",
       "      <td>81</td>\n",
       "      <td>AK</td>\n",
       "      <td>200</td>\n",
       "      <td>Lisa Murkowski</td>\n",
       "      <td>lisamurkowski</td>\n",
       "    </tr>\n",
       "  </tbody>\n",
       "</table>\n",
       "</div>"
      ],
      "text/plain": [
       "   icpsr  state_icpsr state_abbrev  party_code              Name  \\\n",
       "0  99912           99          USA         200      Donald Trump   \n",
       "2  99913           99          USA         100         Joe Biden   \n",
       "3  42102           41           AL         200  Tommy Tuberville   \n",
       "4  94659           41           AL         200    Richard Shelby   \n",
       "5  40300           81           AK         200    Lisa Murkowski   \n",
       "\n",
       "  Twitter_username  \n",
       "0  realDonaldTrump  \n",
       "2         JoeBiden  \n",
       "3      TTuberville  \n",
       "4        SenShelby  \n",
       "5    lisamurkowski  "
      ]
     },
     "execution_count": 14,
     "metadata": {},
     "output_type": "execute_result"
    }
   ],
   "source": [
    "senate_members.head()"
   ]
  },
  {
   "cell_type": "code",
   "execution_count": 15,
   "id": "65f3d659-1698-4e59-86e3-e228d2bf66ba",
   "metadata": {},
   "outputs": [],
   "source": [
    "senate_races = senate_races.drop(['First name', 'Last name', 'Full name'], axis = 1)"
   ]
  },
  {
   "cell_type": "code",
   "execution_count": 16,
   "id": "afdf24a4-8a54-47be-839e-c85a72e0afbd",
   "metadata": {},
   "outputs": [
    {
     "data": {
      "text/html": [
       "<div>\n",
       "<style scoped>\n",
       "    .dataframe tbody tr th:only-of-type {\n",
       "        vertical-align: middle;\n",
       "    }\n",
       "\n",
       "    .dataframe tbody tr th {\n",
       "        vertical-align: top;\n",
       "    }\n",
       "\n",
       "    .dataframe thead th {\n",
       "        text-align: right;\n",
       "    }\n",
       "</style>\n",
       "<table border=\"1\" class=\"dataframe\">\n",
       "  <thead>\n",
       "    <tr style=\"text-align: right;\">\n",
       "      <th></th>\n",
       "      <th>STATE</th>\n",
       "      <th>Party</th>\n",
       "      <th>Incumbent</th>\n",
       "      <th>Name</th>\n",
       "      <th>Twitter_username</th>\n",
       "    </tr>\n",
       "  </thead>\n",
       "  <tbody>\n",
       "    <tr>\n",
       "      <th>0</th>\n",
       "      <td>Alaska</td>\n",
       "      <td>Rep</td>\n",
       "      <td>Y</td>\n",
       "      <td>Lisa Murkowski</td>\n",
       "      <td>lisamurkowski</td>\n",
       "    </tr>\n",
       "    <tr>\n",
       "      <th>1</th>\n",
       "      <td>Arizona</td>\n",
       "      <td>Dem</td>\n",
       "      <td>Y</td>\n",
       "      <td>Mark Kelly</td>\n",
       "      <td>CaptMarkKelly</td>\n",
       "    </tr>\n",
       "    <tr>\n",
       "      <th>2</th>\n",
       "      <td>Arizona</td>\n",
       "      <td>Dem</td>\n",
       "      <td>Y</td>\n",
       "      <td>Mike Kelly</td>\n",
       "      <td>MikeKellyPA</td>\n",
       "    </tr>\n",
       "    <tr>\n",
       "      <th>3</th>\n",
       "      <td>Arkansas</td>\n",
       "      <td>Rep</td>\n",
       "      <td>y</td>\n",
       "      <td>John Boozman</td>\n",
       "      <td>Boozman4AR</td>\n",
       "    </tr>\n",
       "    <tr>\n",
       "      <th>5</th>\n",
       "      <td>California</td>\n",
       "      <td>Dem</td>\n",
       "      <td>y</td>\n",
       "      <td>Alex Padilla</td>\n",
       "      <td>alexpadilla4ca</td>\n",
       "    </tr>\n",
       "  </tbody>\n",
       "</table>\n",
       "</div>"
      ],
      "text/plain": [
       "        STATE Party Incumbent            Name Twitter_username\n",
       "0      Alaska   Rep         Y  Lisa Murkowski    lisamurkowski\n",
       "1     Arizona   Dem         Y      Mark Kelly    CaptMarkKelly\n",
       "2     Arizona   Dem         Y      Mike Kelly      MikeKellyPA\n",
       "3    Arkansas   Rep         y    John Boozman       Boozman4AR\n",
       "5  California   Dem         y    Alex Padilla   alexpadilla4ca"
      ]
     },
     "execution_count": 16,
     "metadata": {},
     "output_type": "execute_result"
    }
   ],
   "source": [
    "senate_races.head()"
   ]
  },
  {
   "cell_type": "code",
   "execution_count": 17,
   "id": "7dd450cb-1223-4528-a726-089bf565a59d",
   "metadata": {},
   "outputs": [],
   "source": [
    "all_cand_data = pd.concat([senate_members, senate_races])"
   ]
  },
  {
   "cell_type": "code",
   "execution_count": 18,
   "id": "d3a81019-7f71-4d17-b15c-996d56bcae8c",
   "metadata": {},
   "outputs": [],
   "source": [
    "all_cand_data = all_cand_data.drop_duplicates(subset = ['Twitter_username'])"
   ]
  },
  {
   "cell_type": "code",
   "execution_count": 19,
   "id": "ffb135ff-080e-4df1-900e-664c4cf20a91",
   "metadata": {},
   "outputs": [
    {
     "data": {
      "text/plain": [
       "107"
      ]
     },
     "execution_count": 19,
     "metadata": {},
     "output_type": "execute_result"
    }
   ],
   "source": [
    "len(all_cand_data)"
   ]
  },
  {
   "cell_type": "code",
   "execution_count": 20,
   "id": "29368f25-4728-4b1b-b4f8-991fe1d0b69e",
   "metadata": {},
   "outputs": [
    {
     "data": {
      "text/html": [
       "<div>\n",
       "<style scoped>\n",
       "    .dataframe tbody tr th:only-of-type {\n",
       "        vertical-align: middle;\n",
       "    }\n",
       "\n",
       "    .dataframe tbody tr th {\n",
       "        vertical-align: top;\n",
       "    }\n",
       "\n",
       "    .dataframe thead th {\n",
       "        text-align: right;\n",
       "    }\n",
       "</style>\n",
       "<table border=\"1\" class=\"dataframe\">\n",
       "  <thead>\n",
       "    <tr style=\"text-align: right;\">\n",
       "      <th></th>\n",
       "      <th>icpsr</th>\n",
       "      <th>state_icpsr</th>\n",
       "      <th>state_abbrev</th>\n",
       "      <th>party_code</th>\n",
       "      <th>Name</th>\n",
       "      <th>Twitter_username</th>\n",
       "      <th>STATE</th>\n",
       "      <th>Party</th>\n",
       "      <th>Incumbent</th>\n",
       "    </tr>\n",
       "  </thead>\n",
       "  <tbody>\n",
       "    <tr>\n",
       "      <th>0</th>\n",
       "      <td>99912.0</td>\n",
       "      <td>99.0</td>\n",
       "      <td>USA</td>\n",
       "      <td>200.0</td>\n",
       "      <td>Donald Trump</td>\n",
       "      <td>realDonaldTrump</td>\n",
       "      <td>NaN</td>\n",
       "      <td>NaN</td>\n",
       "      <td>NaN</td>\n",
       "    </tr>\n",
       "    <tr>\n",
       "      <th>2</th>\n",
       "      <td>99913.0</td>\n",
       "      <td>99.0</td>\n",
       "      <td>USA</td>\n",
       "      <td>100.0</td>\n",
       "      <td>Joe Biden</td>\n",
       "      <td>JoeBiden</td>\n",
       "      <td>NaN</td>\n",
       "      <td>NaN</td>\n",
       "      <td>NaN</td>\n",
       "    </tr>\n",
       "    <tr>\n",
       "      <th>3</th>\n",
       "      <td>42102.0</td>\n",
       "      <td>41.0</td>\n",
       "      <td>AL</td>\n",
       "      <td>200.0</td>\n",
       "      <td>Tommy Tuberville</td>\n",
       "      <td>TTuberville</td>\n",
       "      <td>NaN</td>\n",
       "      <td>NaN</td>\n",
       "      <td>NaN</td>\n",
       "    </tr>\n",
       "    <tr>\n",
       "      <th>4</th>\n",
       "      <td>94659.0</td>\n",
       "      <td>41.0</td>\n",
       "      <td>AL</td>\n",
       "      <td>200.0</td>\n",
       "      <td>Richard Shelby</td>\n",
       "      <td>SenShelby</td>\n",
       "      <td>NaN</td>\n",
       "      <td>NaN</td>\n",
       "      <td>NaN</td>\n",
       "    </tr>\n",
       "    <tr>\n",
       "      <th>5</th>\n",
       "      <td>40300.0</td>\n",
       "      <td>81.0</td>\n",
       "      <td>AK</td>\n",
       "      <td>200.0</td>\n",
       "      <td>Lisa Murkowski</td>\n",
       "      <td>lisamurkowski</td>\n",
       "      <td>NaN</td>\n",
       "      <td>NaN</td>\n",
       "      <td>NaN</td>\n",
       "    </tr>\n",
       "  </tbody>\n",
       "</table>\n",
       "</div>"
      ],
      "text/plain": [
       "     icpsr  state_icpsr state_abbrev  party_code              Name  \\\n",
       "0  99912.0         99.0          USA       200.0      Donald Trump   \n",
       "2  99913.0         99.0          USA       100.0         Joe Biden   \n",
       "3  42102.0         41.0           AL       200.0  Tommy Tuberville   \n",
       "4  94659.0         41.0           AL       200.0    Richard Shelby   \n",
       "5  40300.0         81.0           AK       200.0    Lisa Murkowski   \n",
       "\n",
       "  Twitter_username STATE Party Incumbent  \n",
       "0  realDonaldTrump   NaN   NaN       NaN  \n",
       "2         JoeBiden   NaN   NaN       NaN  \n",
       "3      TTuberville   NaN   NaN       NaN  \n",
       "4        SenShelby   NaN   NaN       NaN  \n",
       "5    lisamurkowski   NaN   NaN       NaN  "
      ]
     },
     "execution_count": 20,
     "metadata": {},
     "output_type": "execute_result"
    }
   ],
   "source": [
    "all_cand_data.head()"
   ]
  },
  {
   "cell_type": "code",
   "execution_count": 21,
   "id": "654e61f0-cb99-4bbb-8780-bbca8d0435af",
   "metadata": {},
   "outputs": [],
   "source": [
    "cand_twitters = list(all_cand_data['Twitter_username'])"
   ]
  },
  {
   "cell_type": "markdown",
   "id": "d29f46b4-c174-46a9-a163-74984c2edc28",
   "metadata": {},
   "source": [
    "## Get recent tweets of senator/candidates using twitter API, loop through twitter IDs"
   ]
  },
  {
   "cell_type": "code",
   "execution_count": 57,
   "id": "1baa5f21-0dc2-4d54-b417-24256f57b89a",
   "metadata": {},
   "outputs": [],
   "source": [
    "politician_tweets = {}\n",
    "for twitter_id in cand_twitters:\n",
    "    try:\n",
    "        user_tweets = get_tweets(twitter_id)\n",
    "        politician_tweets[twitter_id] = user_tweets\n",
    "    except:\n",
    "        continue"
   ]
  },
  {
   "cell_type": "code",
   "execution_count": 24,
   "id": "0fbbc017-bbc0-4ee9-aac2-f6e8e568a7b4",
   "metadata": {},
   "outputs": [
    {
     "ename": "NameError",
     "evalue": "name 'politician_tweets' is not defined",
     "output_type": "error",
     "traceback": [
      "\u001b[0;31m---------------------------------------------------------------------------\u001b[0m",
      "\u001b[0;31mNameError\u001b[0m                                 Traceback (most recent call last)",
      "Input \u001b[0;32mIn [24]\u001b[0m, in \u001b[0;36m<cell line: 1>\u001b[0;34m()\u001b[0m\n\u001b[0;32m----> 1\u001b[0m \u001b[43mpolitician_tweets\u001b[49m[:\u001b[38;5;241m5\u001b[39m]\n",
      "\u001b[0;31mNameError\u001b[0m: name 'politician_tweets' is not defined"
     ]
    }
   ],
   "source": [
    "politician_tweets[:5]"
   ]
  },
  {
   "cell_type": "markdown",
   "id": "bff66160-8a8c-4304-99d9-49b178e95a07",
   "metadata": {},
   "source": [
    "### Save politician twitters as json object "
   ]
  },
  {
   "cell_type": "code",
   "execution_count": 64,
   "id": "ee166f80-00a5-4870-9184-3e2870efb778",
   "metadata": {},
   "outputs": [],
   "source": [
    "import json\n",
    "\n",
    "with open('politician_user_tweets.json', 'w') as fp:\n",
    "    json.dump(politician_tweets, fp)"
   ]
  },
  {
   "cell_type": "markdown",
   "id": "1ae5fc1a-a16c-49b4-b8db-10a763f62159",
   "metadata": {},
   "source": [
    "## Get recent tweets mentioning the senator/candidate user their twitter IDs"
   ]
  },
  {
   "cell_type": "code",
   "execution_count": 23,
   "id": "d2ad8715-7407-4dad-aebb-3c0634df5b6f",
   "metadata": {},
   "outputs": [],
   "source": [
    "mention_tweets = {}\n",
    "for twitter_id in cand_twitters:\n",
    "    try:\n",
    "        user_tweets = get_mentions(twitter_id)\n",
    "        mention_tweets[twitter_id] = user_tweets\n",
    "    except:\n",
    "        continue"
   ]
  },
  {
   "cell_type": "code",
   "execution_count": 25,
   "id": "26a82bf4-34fc-4ad5-9093-e1637e6520f3",
   "metadata": {},
   "outputs": [],
   "source": [
    "import json\n",
    "\n",
    "with open('politician_mention_tweets.json', 'w') as fp:\n",
    "    json.dump(mention_tweets, fp)"
   ]
  },
  {
   "cell_type": "markdown",
   "id": "7ba9b51c-183f-43e5-8690-0b3d0ade0490",
   "metadata": {},
   "source": [
    "## Load in JSON to compress it with compress JSON"
   ]
  },
  {
   "cell_type": "code",
   "execution_count": 7,
   "id": "4764ee23-0e29-4b01-9673-3c64298a1fee",
   "metadata": {},
   "outputs": [],
   "source": [
    "politician_tweets = open('politician_user_tweets.json')\n",
    "tweets = json.load(politician_tweets)\n",
    "compress_json.dump(tweets, \"politician_direct_tweets.json.gz\")"
   ]
  },
  {
   "cell_type": "code",
   "execution_count": 8,
   "id": "11edbbb5-047c-4c4e-b419-d2545c6fff92",
   "metadata": {},
   "outputs": [],
   "source": [
    "mention_tweets = open('politician_mention_tweets.json')\n",
    "tweets = json.load(mention_tweets)\n",
    "compress_json.dump(tweets, \"politician_mention_tweets.json.gz\")"
   ]
  },
  {
   "cell_type": "code",
   "execution_count": null,
   "id": "38585784-61e4-44ba-9909-95708240f55b",
   "metadata": {},
   "outputs": [],
   "source": []
  }
 ],
 "metadata": {
  "kernelspec": {
   "display_name": "Python 3 (ipykernel)",
   "language": "python",
   "name": "python3"
  },
  "language_info": {
   "codemirror_mode": {
    "name": "ipython",
    "version": 3
   },
   "file_extension": ".py",
   "mimetype": "text/x-python",
   "name": "python",
   "nbconvert_exporter": "python",
   "pygments_lexer": "ipython3",
   "version": "3.8.2"
  }
 },
 "nbformat": 4,
 "nbformat_minor": 5
}

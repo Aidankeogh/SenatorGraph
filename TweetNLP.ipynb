{
 "cells": [
  {
   "cell_type": "markdown",
   "id": "04a85153-fbb3-410d-871a-afac5d0570d7",
   "metadata": {},
   "source": [
    "# Senator and Candidates Tweet NLP Analysis"
   ]
  },
  {
   "cell_type": "markdown",
   "id": "632d9e51-f73b-4620-9e27-bcf118f24c69",
   "metadata": {},
   "source": [
    "After pulling 100 recent tweets for all the senators and senator candidates we had on file and saving that data to a JSON file (compressed), the notebook will now conduct an NER analysis and then relate all tweets based on the NER results.  So if pairs of tweets mention the same person, then we'll have an edge \"same_person\", "
   ]
  },
  {
   "cell_type": "code",
   "execution_count": 1,
   "id": "e1aa5a48-9774-4255-821a-111f02d10caf",
   "metadata": {},
   "outputs": [
    {
     "name": "stderr",
     "output_type": "stream",
     "text": [
      "2022-11-29 18:43:47.596251: I tensorflow/core/platform/cpu_feature_guard.cc:193] This TensorFlow binary is optimized with oneAPI Deep Neural Network Library (oneDNN) to use the following CPU instructions in performance-critical operations:  AVX2 FMA\n",
      "To enable them in other operations, rebuild TensorFlow with the appropriate compiler flags.\n"
     ]
    },
    {
     "data": {
      "text/html": [
       "\n",
       "        <style>\n",
       "            .support_message_main_box {\n",
       "                position: relative;\n",
       "                display: table-cell;\n",
       "                vertical-align: middle;\n",
       "                width: 100%;\n",
       "                height: 8em;\n",
       "                padding: 1em;\n",
       "                padding-left: 11em;\n",
       "                background-color: #f7f7f7;\n",
       "                border: 1px solid #cfcfcf;\n",
       "                border-radius: 2px;\n",
       "            }\n",
       "            .support_message_main_box img {\n",
       "                position: absolute;\n",
       "                height: 9em;\n",
       "                width: 9em;\n",
       "                left: 0.5em;\n",
       "                top: 0.5em;\n",
       "                border-radius: 1em;\n",
       "            }\n",
       "        </style>\n",
       "        <div class=\"support_message_main_box\">\n",
       "            <img src=\"https://avatars.githubusercontent.com/u/7738570?v=4\" />\n",
       "            <p>\n",
       "            <b>Hi!</b><br/>\n",
       "            <span>I am the author of\n",
       "            <a href=\"https://github.com/LucaCappelletti94/compress_json\" target=\"_blank\">\n",
       "                compress_json\n",
       "            </a>, which you use in this Notebook.\n",
       "            </span><br/>\n",
       "            \n",
       "        <span>I hope my work has saved you some time!</span><br/>\n",
       "        \n",
       "            <span>I love to code, but I also need coffee.</span>\n",
       "            <a href=\"https://github.com/sponsors/LucaCappelletti94\" target=\"_blank\">\n",
       "                Please sponsor me on GitHub ❤️\n",
       "            </a><br/>\n",
       "            <i>Good luck in your coding 🍀!</i>\n",
       "            <br/>\n",
       "            <i>- Luca</i>\n",
       "            </p>\n",
       "        <div>\n",
       "        "
      ],
      "text/plain": [
       "<IPython.core.display.HTML object>"
      ]
     },
     "metadata": {},
     "output_type": "display_data"
    }
   ],
   "source": [
    "import pandas as pd\n",
    "import numpy as np\n",
    "import spacy\n",
    "from spacy import displacy\n",
    "from spacy import tokenizer\n",
    "import compress_json\n",
    "import re\n",
    "import warnings\n",
    "warnings.filterwarnings(\"ignore\")"
   ]
  },
  {
   "cell_type": "markdown",
   "id": "636df5bd-c8d9-4143-8a80-718d56915f38",
   "metadata": {},
   "source": [
    "### Open the compressed json senator/candidate tweets"
   ]
  },
  {
   "cell_type": "code",
   "execution_count": 2,
   "id": "0082d35c-05bd-46fa-8ee3-689f43d8196d",
   "metadata": {},
   "outputs": [],
   "source": [
    "direct_tweets = compress_json.load('politician_direct_tweets.json.gz')\n",
    "mention_tweets = compress_json.load('politician_mention_tweets.json.gz')"
   ]
  },
  {
   "cell_type": "code",
   "execution_count": 3,
   "id": "53327ddd-32fc-4ec9-a76f-e01c404670d2",
   "metadata": {},
   "outputs": [
    {
     "data": {
      "text/plain": [
       "dict_keys(['realDonaldTrump', 'JoeBiden', 'TTuberville', 'SenShelby', 'lisamurkowski', 'SenDanSullivan', 'SenatorSinema', 'CaptMarkKelly', 'Boozman4AR', 'sentomcotton', 'KamalaHarris', 'alexpadilla4ca', 'SenFeinstein', 'MichaelBennet', 'Hickenlooper', 'ChrisMurphyCT', 'SenBlumenthal', 'SenatorCarper', 'ChrisCoons', 'marcorubio', 'SenatorTimScott', 'kloeffler', 'ossoff', 'maziehirono', 'SenBrianSchatz', 'MikeCrapo', 'SenatorRisch', 'SenatorDurbin', 'senduckworth', 'ToddYoungIN', 'braun4indiana', 'ChuckGrassley', 'SenJoniErnst', 'RogerMarshallMD', 'JerryMoran', 'RandPaul', 'BillCassidy', 'JohnKennedyLA', 'SenAngusKing', 'senatorcollins', 'SenatorCardin', 'SenMarkey', 'ewarren', 'SenGaryPeters', 'SenStabenow', 'TinaSmithMN', 'SenatorWicker', 'SenHydeSmith', 'RoyBlunt', 'HawleyMO', 'SteveDaines', 'SenatorTester', 'SenatorFischer', 'SenSasse', 'RosenforNevada', 'SenatorShaheen', 'maggie_hassan', 'SenatorMenendez', 'CoryBooker', 'MartinHeinrich', 'SenSchumer', 'SenGillibrand', 'SenatorBurr', 'SenThomTillis', 'kevincramer', 'SenJohnHoeven', 'senrobportman', 'SenSherrodBrown', 'JimInhofe', 'SenatorLankford', 'RonWyden', 'SenJeffMerkley', 'SenToomey', 'SenJackReed', 'SenWhitehouse', 'LindseyGrahamSC', 'SenJohnThune', 'SenatorRounds', 'MarshaBlackburn', 'JohnCornyn', 'SenMikeLee', 'MittRomney', 'SenatorLeahy', 'BernieSanders', 'MarkWarner', 'timkaine', 'SenatorCantwell', 'PattyMurray', 'SenCapito', 'Sen_JoeManchin', 'tammybaldwin', 'SenRonJohnson', 'SenJohnBarrasso', 'MikeKellyPA', 'Eric_Schmitt', 'RepTedBudd', 'RepTimRyan', 'RepMullin', 'PerkinsForUSSen', 'johnfetterman', 'EvanMcMullin', 'TexansForTommy', 'PeterWelch'])"
      ]
     },
     "execution_count": 3,
     "metadata": {},
     "output_type": "execute_result"
    }
   ],
   "source": [
    "direct_tweets.keys()"
   ]
  },
  {
   "cell_type": "code",
   "execution_count": 4,
   "id": "6aa973c9-542d-46f8-a32f-2769d0e1be4b",
   "metadata": {},
   "outputs": [
    {
     "data": {
      "text/plain": [
       "\"We've taken steps to lock in vital infrastructure investments—delivering lower costs for clean energy, spurring good-paying union jobs for American workers, and advancing environmental justice in our communities. \\n\\nWe are proving that good climate policy is good economic policy.\""
      ]
     },
     "execution_count": 4,
     "metadata": {},
     "output_type": "execute_result"
    }
   ],
   "source": [
    "direct_tweets['JoeBiden'][0]['text']"
   ]
  },
  {
   "cell_type": "code",
   "execution_count": 5,
   "id": "81d95908-dbfd-4cde-bd6f-b7ea690212b9",
   "metadata": {},
   "outputs": [
    {
     "data": {
      "text/plain": [
       "{'retweet_count': 2168,\n",
       " 'reply_count': 3848,\n",
       " 'like_count': 10301,\n",
       " 'quote_count': 135}"
      ]
     },
     "execution_count": 5,
     "metadata": {},
     "output_type": "execute_result"
    }
   ],
   "source": [
    "direct_tweets['JoeBiden'][0]['public_metrics']"
   ]
  },
  {
   "cell_type": "code",
   "execution_count": 6,
   "id": "56c73cef-7c08-4c01-a41c-806c91fd817e",
   "metadata": {},
   "outputs": [
    {
     "data": {
      "text/plain": [
       "'@BarackObama @JoeBiden https://t.co/abBm6MCwwK'"
      ]
     },
     "execution_count": 6,
     "metadata": {},
     "output_type": "execute_result"
    }
   ],
   "source": [
    "mention_tweets['JoeBiden'][0]['text']"
   ]
  },
  {
   "cell_type": "markdown",
   "id": "feff68f9-358e-4a00-a3a5-3040a01b1163",
   "metadata": {},
   "source": [
    "## Conduct an NER analysis on all the tweets so that we can then use that information to build relationships among tweets"
   ]
  },
  {
   "cell_type": "markdown",
   "id": "62251eb5-7bc1-4833-bd3b-2d16e350827f",
   "metadata": {},
   "source": [
    "This will use spacy transformers to tag that tweets."
   ]
  },
  {
   "cell_type": "code",
   "execution_count": 7,
   "id": "5c8d8f95-f1d6-4cd9-b978-b044f492742c",
   "metadata": {},
   "outputs": [],
   "source": [
    "nlp = spacy.load('en_core_web_trf')"
   ]
  },
  {
   "cell_type": "markdown",
   "id": "c453f4a7-deb9-45aa-b3a1-301fddaf383a",
   "metadata": {},
   "source": [
    "### NER of the Direct Tweet Data"
   ]
  },
  {
   "cell_type": "markdown",
   "id": "b00dced7-a11c-48d3-9b0b-044e69a3b0cb",
   "metadata": {},
   "source": [
    "This function conducts an NER task on all the tweets and also saves public metric information for each tweet as node attributes"
   ]
  },
  {
   "cell_type": "code",
   "execution_count": 8,
   "id": "7b07d6ed-9e43-4c1f-a5d0-2f5047845f73",
   "metadata": {},
   "outputs": [],
   "source": [
    "def build_tweet_info_tables(twitter_data):\n",
    "    tweet_attribs_table = []\n",
    "    ner_table = []\n",
    "    \n",
    "    for cand in twitter_data.keys():\n",
    "        for data in twitter_data[cand]:\n",
    "            try:\n",
    "                tweet = data['text']\n",
    "                tweet = re.sub(r'http\\S+', '', tweet)\n",
    "                tweet = tweet.replace('\\n', '').rstrip().lstrip()\n",
    "                if len(tweet.split(\" \")) < 5:\n",
    "                    continue\n",
    "            except:\n",
    "                continue\n",
    "            \n",
    "            try:\n",
    "                retweets = data['public_metrics']['retweet_count']\n",
    "                replies = data['public_metrics']['reply_count']\n",
    "                likes = data['public_metrics']['like_count']\n",
    "                quotes = data['public_metrics']['quote_count']\n",
    "                attribs_df = pd.DataFrame({'TwitterID': [cand], 'Tweet': [tweet], 'Retweets': [retweets],\n",
    "                                           'Replies': [replies], 'Likes': [likes], 'Quotes': [quotes]})\n",
    "                tweet_attribs_table.append(attribs_df)\n",
    "            except:\n",
    "                continue\n",
    "            \n",
    "            # Conduct NER\n",
    "            doc = nlp(tweet)\n",
    "            ners = list((cand, tweet, X.label_, X.text) for X in doc.ents)\n",
    "            ner_df = pd.DataFrame(ners, columns = ['TwitterID', 'Tweet', 'NER_Lable', 'Text'])\n",
    "            ner_table.append(ner_df)\n",
    "    \n",
    "    tweet_attribs_table = pd.concat(tweet_attribs_table, ignore_index = True)\n",
    "    ner_table = pd.concat(ner_table, ignore_index = True)\n",
    "    \n",
    "    return(tweet_attribs_table, ner_table)\n",
    "    "
   ]
  },
  {
   "cell_type": "code",
   "execution_count": 40,
   "id": "d1804066-5e3a-4fc5-8e73-dec7b3d29bbe",
   "metadata": {},
   "outputs": [],
   "source": [
    "direct_tweet_attribs, direct_tweet_ners = build_tweet_info_tables(direct_tweets)"
   ]
  },
  {
   "cell_type": "code",
   "execution_count": null,
   "id": "49a101c3-c7f6-4c6f-96ac-126770bc0f88",
   "metadata": {},
   "outputs": [],
   "source": [
    "import pickle\n",
    "\n",
    "with open('direct_tweet_attribs.pkl', 'wb') as handle:\n",
    "    pickle.dump(direct_tweet_attribs, handle)"
   ]
  },
  {
   "cell_type": "code",
   "execution_count": 42,
   "id": "639e1c01-6de4-4b0c-bc88-0b971069dc27",
   "metadata": {},
   "outputs": [],
   "source": [
    "with open('direct_tweet_ners.pkl', 'wb') as handle:\n",
    "    pickle.dump(direct_tweet_ners, handle)"
   ]
  },
  {
   "cell_type": "code",
   "execution_count": 43,
   "id": "3214a479-ef71-447e-938c-72e186203323",
   "metadata": {},
   "outputs": [
    {
     "data": {
      "text/html": [
       "<div>\n",
       "<style scoped>\n",
       "    .dataframe tbody tr th:only-of-type {\n",
       "        vertical-align: middle;\n",
       "    }\n",
       "\n",
       "    .dataframe tbody tr th {\n",
       "        vertical-align: top;\n",
       "    }\n",
       "\n",
       "    .dataframe thead th {\n",
       "        text-align: right;\n",
       "    }\n",
       "</style>\n",
       "<table border=\"1\" class=\"dataframe\">\n",
       "  <thead>\n",
       "    <tr style=\"text-align: right;\">\n",
       "      <th></th>\n",
       "      <th>TwitterID</th>\n",
       "      <th>Tweet</th>\n",
       "      <th>Retweets</th>\n",
       "      <th>Replies</th>\n",
       "      <th>Likes</th>\n",
       "      <th>Quotes</th>\n",
       "    </tr>\n",
       "  </thead>\n",
       "  <tbody>\n",
       "    <tr>\n",
       "      <th>0</th>\n",
       "      <td>realDonaldTrump</td>\n",
       "      <td>To all of those who have asked, I will not be ...</td>\n",
       "      <td>72710</td>\n",
       "      <td>302322</td>\n",
       "      <td>551172</td>\n",
       "      <td>107559</td>\n",
       "    </tr>\n",
       "    <tr>\n",
       "      <th>1</th>\n",
       "      <td>realDonaldTrump</td>\n",
       "      <td>The 75,000,000 great American Patriots who vot...</td>\n",
       "      <td>81205</td>\n",
       "      <td>134047</td>\n",
       "      <td>459591</td>\n",
       "      <td>31449</td>\n",
       "    </tr>\n",
       "    <tr>\n",
       "      <th>2</th>\n",
       "      <td>realDonaldTrump</td>\n",
       "      <td>I am asking for everyone at the U.S. Capitol t...</td>\n",
       "      <td>127336</td>\n",
       "      <td>376014</td>\n",
       "      <td>657602</td>\n",
       "      <td>70873</td>\n",
       "    </tr>\n",
       "    <tr>\n",
       "      <th>3</th>\n",
       "      <td>realDonaldTrump</td>\n",
       "      <td>Please support our Capitol Police and Law Enfo...</td>\n",
       "      <td>82977</td>\n",
       "      <td>187917</td>\n",
       "      <td>506808</td>\n",
       "      <td>41599</td>\n",
       "    </tr>\n",
       "    <tr>\n",
       "      <th>4</th>\n",
       "      <td>realDonaldTrump</td>\n",
       "      <td>These scoundrels are only toying with the @sen...</td>\n",
       "      <td>32160</td>\n",
       "      <td>45897</td>\n",
       "      <td>183194</td>\n",
       "      <td>3889</td>\n",
       "    </tr>\n",
       "  </tbody>\n",
       "</table>\n",
       "</div>"
      ],
      "text/plain": [
       "         TwitterID                                              Tweet  \\\n",
       "0  realDonaldTrump  To all of those who have asked, I will not be ...   \n",
       "1  realDonaldTrump  The 75,000,000 great American Patriots who vot...   \n",
       "2  realDonaldTrump  I am asking for everyone at the U.S. Capitol t...   \n",
       "3  realDonaldTrump  Please support our Capitol Police and Law Enfo...   \n",
       "4  realDonaldTrump  These scoundrels are only toying with the @sen...   \n",
       "\n",
       "   Retweets  Replies   Likes  Quotes  \n",
       "0     72710   302322  551172  107559  \n",
       "1     81205   134047  459591   31449  \n",
       "2    127336   376014  657602   70873  \n",
       "3     82977   187917  506808   41599  \n",
       "4     32160    45897  183194    3889  "
      ]
     },
     "execution_count": 43,
     "metadata": {},
     "output_type": "execute_result"
    }
   ],
   "source": [
    "direct_tweet_attribs.head()"
   ]
  },
  {
   "cell_type": "code",
   "execution_count": 44,
   "id": "2d3436df-6086-4d1f-92e6-5dfd4d0d131c",
   "metadata": {},
   "outputs": [
    {
     "data": {
      "text/html": [
       "<div>\n",
       "<style scoped>\n",
       "    .dataframe tbody tr th:only-of-type {\n",
       "        vertical-align: middle;\n",
       "    }\n",
       "\n",
       "    .dataframe tbody tr th {\n",
       "        vertical-align: top;\n",
       "    }\n",
       "\n",
       "    .dataframe thead th {\n",
       "        text-align: right;\n",
       "    }\n",
       "</style>\n",
       "<table border=\"1\" class=\"dataframe\">\n",
       "  <thead>\n",
       "    <tr style=\"text-align: right;\">\n",
       "      <th></th>\n",
       "      <th>TwitterID</th>\n",
       "      <th>Tweet</th>\n",
       "      <th>NER_Lable</th>\n",
       "      <th>Text</th>\n",
       "    </tr>\n",
       "  </thead>\n",
       "  <tbody>\n",
       "    <tr>\n",
       "      <th>0</th>\n",
       "      <td>realDonaldTrump</td>\n",
       "      <td>To all of those who have asked, I will not be ...</td>\n",
       "      <td>EVENT</td>\n",
       "      <td>Inauguration</td>\n",
       "    </tr>\n",
       "    <tr>\n",
       "      <th>1</th>\n",
       "      <td>realDonaldTrump</td>\n",
       "      <td>To all of those who have asked, I will not be ...</td>\n",
       "      <td>DATE</td>\n",
       "      <td>January 20th</td>\n",
       "    </tr>\n",
       "    <tr>\n",
       "      <th>2</th>\n",
       "      <td>realDonaldTrump</td>\n",
       "      <td>The 75,000,000 great American Patriots who vot...</td>\n",
       "      <td>CARDINAL</td>\n",
       "      <td>75,000,000</td>\n",
       "    </tr>\n",
       "    <tr>\n",
       "      <th>3</th>\n",
       "      <td>realDonaldTrump</td>\n",
       "      <td>The 75,000,000 great American Patriots who vot...</td>\n",
       "      <td>NORP</td>\n",
       "      <td>American</td>\n",
       "    </tr>\n",
       "    <tr>\n",
       "      <th>4</th>\n",
       "      <td>realDonaldTrump</td>\n",
       "      <td>The 75,000,000 great American Patriots who vot...</td>\n",
       "      <td>NORP</td>\n",
       "      <td>Patriots</td>\n",
       "    </tr>\n",
       "  </tbody>\n",
       "</table>\n",
       "</div>"
      ],
      "text/plain": [
       "         TwitterID                                              Tweet  \\\n",
       "0  realDonaldTrump  To all of those who have asked, I will not be ...   \n",
       "1  realDonaldTrump  To all of those who have asked, I will not be ...   \n",
       "2  realDonaldTrump  The 75,000,000 great American Patriots who vot...   \n",
       "3  realDonaldTrump  The 75,000,000 great American Patriots who vot...   \n",
       "4  realDonaldTrump  The 75,000,000 great American Patriots who vot...   \n",
       "\n",
       "  NER_Lable          Text  \n",
       "0     EVENT  Inauguration  \n",
       "1      DATE  January 20th  \n",
       "2  CARDINAL    75,000,000  \n",
       "3      NORP      American  \n",
       "4      NORP      Patriots  "
      ]
     },
     "execution_count": 44,
     "metadata": {},
     "output_type": "execute_result"
    }
   ],
   "source": [
    "direct_tweet_ners.head()"
   ]
  },
  {
   "cell_type": "code",
   "execution_count": 45,
   "id": "9f300c6c-9cb4-424f-af5e-a5d617121d67",
   "metadata": {},
   "outputs": [
    {
     "data": {
      "text/plain": [
       "9947"
      ]
     },
     "execution_count": 45,
     "metadata": {},
     "output_type": "execute_result"
    }
   ],
   "source": [
    "len(direct_tweet_attribs)"
   ]
  },
  {
   "cell_type": "code",
   "execution_count": 46,
   "id": "85db1d23-d283-4a9c-ba44-21ae8469eb5f",
   "metadata": {},
   "outputs": [
    {
     "data": {
      "text/plain": [
       "29148"
      ]
     },
     "execution_count": 46,
     "metadata": {},
     "output_type": "execute_result"
    }
   ],
   "source": [
    "len(direct_tweet_ners)"
   ]
  },
  {
   "cell_type": "code",
   "execution_count": 47,
   "id": "6de0f1ba-721a-44db-b950-661e14f8bce6",
   "metadata": {},
   "outputs": [],
   "source": [
    "direct_tweet_attribs.to_csv(\"direct_tweet_attribs.csv\", index = False)\n",
    "direct_tweet_ners.to_csv(\"direct_tweet_ners.csv\", index = False)"
   ]
  },
  {
   "cell_type": "markdown",
   "id": "e5e2650f-3371-4ed5-b490-3ef15ea97eb0",
   "metadata": {},
   "source": [
    "### When running more later ... load data back in as CSV"
   ]
  },
  {
   "cell_type": "code",
   "execution_count": 3,
   "id": "27b2748b-745d-4ad8-b0c3-5d1dbd860987",
   "metadata": {},
   "outputs": [],
   "source": [
    "direct_tweet_attribs = pd.read_csv(\"direct_tweet_attribs.csv\")\n",
    "direct_tweet_ners = pd.read_csv(\"direct_tweet_ners.csv\")"
   ]
  },
  {
   "cell_type": "code",
   "execution_count": 4,
   "id": "d447a6c1-dd81-4a52-bb31-eda261958f1d",
   "metadata": {},
   "outputs": [
    {
     "data": {
      "text/plain": [
       "NER_Lable\n",
       "CARDINAL       1418\n",
       "DATE           4967\n",
       "EVENT           700\n",
       "FAC             414\n",
       "GPE            5271\n",
       "LANGUAGE          6\n",
       "LAW             970\n",
       "LOC             378\n",
       "MONEY           574\n",
       "NORP           3198\n",
       "ORDINAL         451\n",
       "ORG            5103\n",
       "PERCENT         249\n",
       "PERSON         4365\n",
       "PRODUCT          94\n",
       "QUANTITY         79\n",
       "TIME            691\n",
       "WORK_OF_ART     220\n",
       "dtype: int64"
      ]
     },
     "execution_count": 4,
     "metadata": {},
     "output_type": "execute_result"
    }
   ],
   "source": [
    "direct_tweet_ners.groupby('NER_Lable').size()"
   ]
  },
  {
   "cell_type": "code",
   "execution_count": 5,
   "id": "577f56f4-8975-44fc-acf2-7b38b0f36d55",
   "metadata": {},
   "outputs": [
    {
     "data": {
      "text/html": [
       "<div>\n",
       "<style scoped>\n",
       "    .dataframe tbody tr th:only-of-type {\n",
       "        vertical-align: middle;\n",
       "    }\n",
       "\n",
       "    .dataframe tbody tr th {\n",
       "        vertical-align: top;\n",
       "    }\n",
       "\n",
       "    .dataframe thead th {\n",
       "        text-align: right;\n",
       "    }\n",
       "</style>\n",
       "<table border=\"1\" class=\"dataframe\">\n",
       "  <thead>\n",
       "    <tr style=\"text-align: right;\">\n",
       "      <th></th>\n",
       "      <th>TwitterID</th>\n",
       "      <th>Tweet</th>\n",
       "      <th>NER_Lable</th>\n",
       "      <th>Text</th>\n",
       "    </tr>\n",
       "  </thead>\n",
       "  <tbody>\n",
       "    <tr>\n",
       "      <th>3236</th>\n",
       "      <td>SenFeinstein</td>\n",
       "      <td>I was proud to introduce the Respect for Marri...</td>\n",
       "      <td>LAW</td>\n",
       "      <td>the Respect for Marriage Act</td>\n",
       "    </tr>\n",
       "    <tr>\n",
       "      <th>3260</th>\n",
       "      <td>SenFeinstein</td>\n",
       "      <td>We’re on the cusp of removing the discriminato...</td>\n",
       "      <td>LAW</td>\n",
       "      <td>Defense of Marriage Act</td>\n",
       "    </tr>\n",
       "    <tr>\n",
       "      <th>3261</th>\n",
       "      <td>SenFeinstein</td>\n",
       "      <td>We can’t let the rights of married couples and...</td>\n",
       "      <td>LAW</td>\n",
       "      <td>the Respect for Marriage Act</td>\n",
       "    </tr>\n",
       "    <tr>\n",
       "      <th>3264</th>\n",
       "      <td>SenFeinstein</td>\n",
       "      <td>We can’t let the rights of married couples and...</td>\n",
       "      <td>LAW</td>\n",
       "      <td>Obergefell</td>\n",
       "    </tr>\n",
       "    <tr>\n",
       "      <th>3272</th>\n",
       "      <td>SenFeinstein</td>\n",
       "      <td>In the year since President Biden signed the B...</td>\n",
       "      <td>LAW</td>\n",
       "      <td>the Bipartisan Infrastructure Law</td>\n",
       "    </tr>\n",
       "    <tr>\n",
       "      <th>3276</th>\n",
       "      <td>SenFeinstein</td>\n",
       "      <td>RT @RepJerryNadler: This week the Senate will ...</td>\n",
       "      <td>LAW</td>\n",
       "      <td>my Respect for Marriage Act-</td>\n",
       "    </tr>\n",
       "    <tr>\n",
       "      <th>3283</th>\n",
       "      <td>SenFeinstein</td>\n",
       "      <td>It’s time to remove the shameful Defense of Ma...</td>\n",
       "      <td>LAW</td>\n",
       "      <td>Defense of Marriage Act</td>\n",
       "    </tr>\n",
       "    <tr>\n",
       "      <th>3286</th>\n",
       "      <td>SenFeinstein</td>\n",
       "      <td>I want to thank Majority Leader Schumer for an...</td>\n",
       "      <td>LAW</td>\n",
       "      <td>the Respect for Marriage Act</td>\n",
       "    </tr>\n",
       "    <tr>\n",
       "      <th>3342</th>\n",
       "      <td>SenFeinstein</td>\n",
       "      <td>It’s been 28 years since President Clinton sig...</td>\n",
       "      <td>LAW</td>\n",
       "      <td>the California Desert Protection Act</td>\n",
       "    </tr>\n",
       "    <tr>\n",
       "      <th>3389</th>\n",
       "      <td>SenFeinstein</td>\n",
       "      <td>From raising the age to purchase assault weapo...</td>\n",
       "      <td>LAW</td>\n",
       "      <td>the Assault Weapons Ban</td>\n",
       "    </tr>\n",
       "    <tr>\n",
       "      <th>3395</th>\n",
       "      <td>SenFeinstein</td>\n",
       "      <td>The tragic shooting yesterday at a St. Louis h...</td>\n",
       "      <td>LAW</td>\n",
       "      <td>the Assault Weapons Ban</td>\n",
       "    </tr>\n",
       "    <tr>\n",
       "      <th>3435</th>\n",
       "      <td>SenFeinstein</td>\n",
       "      <td>RT @MitchLandrieu46: 50 years after the Clean ...</td>\n",
       "      <td>LAW</td>\n",
       "      <td>the Clean Water Act</td>\n",
       "    </tr>\n",
       "    <tr>\n",
       "      <th>3453</th>\n",
       "      <td>SenFeinstein</td>\n",
       "      <td>I raised this issue with President Biden a few...</td>\n",
       "      <td>LAW</td>\n",
       "      <td>the Inflation Reduction Act</td>\n",
       "    </tr>\n",
       "    <tr>\n",
       "      <th>3486</th>\n",
       "      <td>SenFeinstein</td>\n",
       "      <td>We also need to pass the Respect For Marriage ...</td>\n",
       "      <td>LAW</td>\n",
       "      <td>the Respect For Marriage Act</td>\n",
       "    </tr>\n",
       "  </tbody>\n",
       "</table>\n",
       "</div>"
      ],
      "text/plain": [
       "         TwitterID                                              Tweet  \\\n",
       "3236  SenFeinstein  I was proud to introduce the Respect for Marri...   \n",
       "3260  SenFeinstein  We’re on the cusp of removing the discriminato...   \n",
       "3261  SenFeinstein  We can’t let the rights of married couples and...   \n",
       "3264  SenFeinstein  We can’t let the rights of married couples and...   \n",
       "3272  SenFeinstein  In the year since President Biden signed the B...   \n",
       "3276  SenFeinstein  RT @RepJerryNadler: This week the Senate will ...   \n",
       "3283  SenFeinstein  It’s time to remove the shameful Defense of Ma...   \n",
       "3286  SenFeinstein  I want to thank Majority Leader Schumer for an...   \n",
       "3342  SenFeinstein  It’s been 28 years since President Clinton sig...   \n",
       "3389  SenFeinstein  From raising the age to purchase assault weapo...   \n",
       "3395  SenFeinstein  The tragic shooting yesterday at a St. Louis h...   \n",
       "3435  SenFeinstein  RT @MitchLandrieu46: 50 years after the Clean ...   \n",
       "3453  SenFeinstein  I raised this issue with President Biden a few...   \n",
       "3486  SenFeinstein  We also need to pass the Respect For Marriage ...   \n",
       "\n",
       "     NER_Lable                                  Text  \n",
       "3236       LAW          the Respect for Marriage Act  \n",
       "3260       LAW               Defense of Marriage Act  \n",
       "3261       LAW          the Respect for Marriage Act  \n",
       "3264       LAW                            Obergefell  \n",
       "3272       LAW     the Bipartisan Infrastructure Law  \n",
       "3276       LAW          my Respect for Marriage Act-  \n",
       "3283       LAW               Defense of Marriage Act  \n",
       "3286       LAW          the Respect for Marriage Act  \n",
       "3342       LAW  the California Desert Protection Act  \n",
       "3389       LAW               the Assault Weapons Ban  \n",
       "3395       LAW               the Assault Weapons Ban  \n",
       "3435       LAW                   the Clean Water Act  \n",
       "3453       LAW           the Inflation Reduction Act  \n",
       "3486       LAW          the Respect For Marriage Act  "
      ]
     },
     "execution_count": 5,
     "metadata": {},
     "output_type": "execute_result"
    }
   ],
   "source": [
    "direct_tweet_ners[(direct_tweet_ners['NER_Lable'] == 'LAW') & (direct_tweet_ners['TwitterID'] == 'SenFeinstein')]"
   ]
  },
  {
   "cell_type": "markdown",
   "id": "8618f87f-af4d-4bc4-91fe-6a1163d4aa06",
   "metadata": {},
   "source": [
    "Drop Trump, older twitter data"
   ]
  },
  {
   "cell_type": "code",
   "execution_count": 6,
   "id": "57f0b1c7-758c-402e-aea2-80171bc4bcd2",
   "metadata": {},
   "outputs": [],
   "source": [
    "direct_tweet_ners = direct_tweet_ners[(direct_tweet_ners['TwitterID'] != 'realDonaldTrump')]\n",
    "direct_tweet_attribs = direct_tweet_attribs[(direct_tweet_attribs['TwitterID'] != 'realDonaldTrump')]"
   ]
  },
  {
   "cell_type": "code",
   "execution_count": 7,
   "id": "09632f78-c5c0-4393-bfdf-c578906be6eb",
   "metadata": {},
   "outputs": [
    {
     "data": {
      "text/plain": [
       "28995"
      ]
     },
     "execution_count": 7,
     "metadata": {},
     "output_type": "execute_result"
    }
   ],
   "source": [
    "len(direct_tweet_ners)"
   ]
  },
  {
   "cell_type": "markdown",
   "id": "a6bc452f-b189-4912-8e53-82578451fa2b",
   "metadata": {},
   "source": [
    "### Select the NER lables we want to keep for the graph building"
   ]
  },
  {
   "cell_type": "code",
   "execution_count": 8,
   "id": "99fe079f-7766-465c-8451-d962e51c2dc8",
   "metadata": {},
   "outputs": [],
   "source": [
    "ner_lables = ['EVENT', 'FAC', 'GPE', 'LAW', 'LOC', 'NORP', 'ORG', 'PERSON']"
   ]
  },
  {
   "cell_type": "markdown",
   "id": "91d98632-4033-44c3-92e7-996f264ec5ad",
   "metadata": {},
   "source": [
    "Filter to only include NER labels we want"
   ]
  },
  {
   "cell_type": "code",
   "execution_count": 9,
   "id": "e3b1e887-dc01-4c9d-af1f-cb5fbbab4e7a",
   "metadata": {},
   "outputs": [],
   "source": [
    "select_ner_tweets = direct_tweet_ners[(direct_tweet_ners['NER_Lable'].isin(ner_lables))]"
   ]
  },
  {
   "cell_type": "markdown",
   "id": "8ccb878e-fc7b-4510-83e8-cc6d2df0951f",
   "metadata": {},
   "source": [
    "Remove special characters from text"
   ]
  },
  {
   "cell_type": "code",
   "execution_count": 10,
   "id": "c661f583-0177-42aa-ad51-acf1b615d01b",
   "metadata": {},
   "outputs": [],
   "source": [
    "select_ner_tweets['Text'] = select_ner_tweets[\"Text\"].str.replace(r\"[^a-zA-Z ]+\", \" \").str.strip()\n",
    "select_ner_tweets['Text'] = select_ner_tweets['Text'].replace('\"', \"\")\n",
    "select_ner_tweets['Text'] = select_ner_tweets['Text'].replace(',', \"\")\n",
    "select_ner_tweets['Text'] = select_ner_tweets['Text'].replace('.', \"\")\n",
    "select_ner_tweets['Text'] = select_ner_tweets['Text'].replace('!', \"\")\n",
    "select_ner_tweets['Text'] = select_ner_tweets['Text'].replace('?', \"\")\n",
    "select_ner_tweets['Text'] = select_ner_tweets['Text'].replace('#', \"\")\n",
    "select_ner_tweets['Text'] = select_ner_tweets['Text'].replace('-', \"\")\n",
    "select_ner_tweets['Text'] = [tweet.lstrip() for tweet in list(select_ner_tweets['Text'])]\n",
    "select_ner_tweets['Text'] = [tweet.rstrip() for tweet in list(select_ner_tweets['Text'])]\n",
    "select_ner_tweets['Text'] = [' '.join(tweet.split()) for tweet in list(select_ner_tweets['Text'])]"
   ]
  },
  {
   "cell_type": "code",
   "execution_count": 11,
   "id": "b7228307-4f99-4f09-aa57-a813b89d1eae",
   "metadata": {},
   "outputs": [],
   "source": [
    "law_ners = select_ner_tweets[(select_ner_tweets['NER_Lable'] == 'LAW')]"
   ]
  },
  {
   "cell_type": "code",
   "execution_count": 12,
   "id": "9bc3470c-7a0b-49d3-b6a7-60ae00ee9834",
   "metadata": {},
   "outputs": [
    {
     "data": {
      "text/html": [
       "<div>\n",
       "<style scoped>\n",
       "    .dataframe tbody tr th:only-of-type {\n",
       "        vertical-align: middle;\n",
       "    }\n",
       "\n",
       "    .dataframe tbody tr th {\n",
       "        vertical-align: top;\n",
       "    }\n",
       "\n",
       "    .dataframe thead th {\n",
       "        text-align: right;\n",
       "    }\n",
       "</style>\n",
       "<table border=\"1\" class=\"dataframe\">\n",
       "  <thead>\n",
       "    <tr style=\"text-align: right;\">\n",
       "      <th></th>\n",
       "      <th>Text</th>\n",
       "      <th>Count</th>\n",
       "    </tr>\n",
       "  </thead>\n",
       "  <tbody>\n",
       "    <tr>\n",
       "      <th>351</th>\n",
       "      <td>the Inflation Reduction Act</td>\n",
       "      <td>79</td>\n",
       "    </tr>\n",
       "    <tr>\n",
       "      <th>401</th>\n",
       "      <td>the Respect for Marriage Act</td>\n",
       "      <td>44</td>\n",
       "    </tr>\n",
       "    <tr>\n",
       "      <th>383</th>\n",
       "      <td>the PACT Act</td>\n",
       "      <td>38</td>\n",
       "    </tr>\n",
       "    <tr>\n",
       "      <th>283</th>\n",
       "      <td>the Bipartisan Infrastructure Law</td>\n",
       "      <td>34</td>\n",
       "    </tr>\n",
       "    <tr>\n",
       "      <th>167</th>\n",
       "      <td>Roe v Wade</td>\n",
       "      <td>26</td>\n",
       "    </tr>\n",
       "    <tr>\n",
       "      <th>...</th>\n",
       "      <td>...</td>\n",
       "      <td>...</td>\n",
       "    </tr>\n",
       "    <tr>\n",
       "      <th>163</th>\n",
       "      <td>RespectforMarriageAct I</td>\n",
       "      <td>1</td>\n",
       "    </tr>\n",
       "    <tr>\n",
       "      <th>162</th>\n",
       "      <td>RespectforMarriage Act</td>\n",
       "      <td>1</td>\n",
       "    </tr>\n",
       "    <tr>\n",
       "      <th>160</th>\n",
       "      <td>Respe</td>\n",
       "      <td>1</td>\n",
       "    </tr>\n",
       "    <tr>\n",
       "      <th>158</th>\n",
       "      <td>RI</td>\n",
       "      <td>1</td>\n",
       "    </tr>\n",
       "    <tr>\n",
       "      <th>441</th>\n",
       "      <td>x</td>\n",
       "      <td>1</td>\n",
       "    </tr>\n",
       "  </tbody>\n",
       "</table>\n",
       "<p>442 rows × 2 columns</p>\n",
       "</div>"
      ],
      "text/plain": [
       "                                  Text  Count\n",
       "351        the Inflation Reduction Act     79\n",
       "401       the Respect for Marriage Act     44\n",
       "383                       the PACT Act     38\n",
       "283  the Bipartisan Infrastructure Law     34\n",
       "167                         Roe v Wade     26\n",
       "..                                 ...    ...\n",
       "163            RespectforMarriageAct I      1\n",
       "162             RespectforMarriage Act      1\n",
       "160                              Respe      1\n",
       "158                                 RI      1\n",
       "441                                  x      1\n",
       "\n",
       "[442 rows x 2 columns]"
      ]
     },
     "execution_count": 12,
     "metadata": {},
     "output_type": "execute_result"
    }
   ],
   "source": [
    "law_ners.groupby(\"Text\").size().reset_index(name = 'Count').sort_values(by = 'Count', ascending = False)"
   ]
  },
  {
   "cell_type": "code",
   "execution_count": 13,
   "id": "d1d1db22-7cd9-4bb2-8d2b-81b8bbccb816",
   "metadata": {},
   "outputs": [],
   "source": [
    "gpe_ners = select_ner_tweets[(select_ner_tweets['NER_Lable'] == 'GPE')]"
   ]
  },
  {
   "cell_type": "code",
   "execution_count": 14,
   "id": "f18ade31-df15-43b6-b3ca-5442c75f94c0",
   "metadata": {},
   "outputs": [
    {
     "data": {
      "text/html": [
       "<div>\n",
       "<style scoped>\n",
       "    .dataframe tbody tr th:only-of-type {\n",
       "        vertical-align: middle;\n",
       "    }\n",
       "\n",
       "    .dataframe tbody tr th {\n",
       "        vertical-align: top;\n",
       "    }\n",
       "\n",
       "    .dataframe thead th {\n",
       "        text-align: right;\n",
       "    }\n",
       "</style>\n",
       "<table border=\"1\" class=\"dataframe\">\n",
       "  <thead>\n",
       "    <tr style=\"text-align: right;\">\n",
       "      <th></th>\n",
       "      <th>Text</th>\n",
       "      <th>Count</th>\n",
       "    </tr>\n",
       "  </thead>\n",
       "  <tbody>\n",
       "    <tr>\n",
       "      <th>20</th>\n",
       "      <td>America</td>\n",
       "      <td>355</td>\n",
       "    </tr>\n",
       "    <tr>\n",
       "      <th>842</th>\n",
       "      <td>U S</td>\n",
       "      <td>245</td>\n",
       "    </tr>\n",
       "    <tr>\n",
       "      <th>907</th>\n",
       "      <td>Washington</td>\n",
       "      <td>173</td>\n",
       "    </tr>\n",
       "    <tr>\n",
       "      <th>860</th>\n",
       "      <td>Ukraine</td>\n",
       "      <td>143</td>\n",
       "    </tr>\n",
       "    <tr>\n",
       "      <th>142</th>\n",
       "      <td>China</td>\n",
       "      <td>112</td>\n",
       "    </tr>\n",
       "    <tr>\n",
       "      <th>...</th>\n",
       "      <td>...</td>\n",
       "      <td>...</td>\n",
       "    </tr>\n",
       "    <tr>\n",
       "      <th>413</th>\n",
       "      <td>Keene</td>\n",
       "      <td>1</td>\n",
       "    </tr>\n",
       "    <tr>\n",
       "      <th>414</th>\n",
       "      <td>Kennesaw</td>\n",
       "      <td>1</td>\n",
       "    </tr>\n",
       "    <tr>\n",
       "      <th>415</th>\n",
       "      <td>Kennett</td>\n",
       "      <td>1</td>\n",
       "    </tr>\n",
       "    <tr>\n",
       "      <th>416</th>\n",
       "      <td>Kennywood</td>\n",
       "      <td>1</td>\n",
       "    </tr>\n",
       "    <tr>\n",
       "      <th>1016</th>\n",
       "      <td>the White Mountain Apache Tribe</td>\n",
       "      <td>1</td>\n",
       "    </tr>\n",
       "  </tbody>\n",
       "</table>\n",
       "<p>1017 rows × 2 columns</p>\n",
       "</div>"
      ],
      "text/plain": [
       "                                 Text  Count\n",
       "20                            America    355\n",
       "842                               U S    245\n",
       "907                        Washington    173\n",
       "860                           Ukraine    143\n",
       "142                             China    112\n",
       "...                               ...    ...\n",
       "413                             Keene      1\n",
       "414                          Kennesaw      1\n",
       "415                           Kennett      1\n",
       "416                         Kennywood      1\n",
       "1016  the White Mountain Apache Tribe      1\n",
       "\n",
       "[1017 rows x 2 columns]"
      ]
     },
     "execution_count": 14,
     "metadata": {},
     "output_type": "execute_result"
    }
   ],
   "source": [
    "gpe_ners.groupby(\"Text\").size().reset_index(name = 'Count').sort_values(by = 'Count', ascending = False)"
   ]
  },
  {
   "cell_type": "code",
   "execution_count": 15,
   "id": "75ff9c19-7a3f-4240-a108-6d84797882c5",
   "metadata": {},
   "outputs": [],
   "source": [
    "event_ners = select_ner_tweets[(select_ner_tweets['NER_Lable'] == 'EVENT')]"
   ]
  },
  {
   "cell_type": "code",
   "execution_count": 16,
   "id": "60fdd129-d454-4195-81fa-5ae86ea7c85d",
   "metadata": {},
   "outputs": [
    {
     "data": {
      "text/html": [
       "<div>\n",
       "<style scoped>\n",
       "    .dataframe tbody tr th:only-of-type {\n",
       "        vertical-align: middle;\n",
       "    }\n",
       "\n",
       "    .dataframe tbody tr th {\n",
       "        vertical-align: top;\n",
       "    }\n",
       "\n",
       "    .dataframe thead th {\n",
       "        text-align: right;\n",
       "    }\n",
       "</style>\n",
       "<table border=\"1\" class=\"dataframe\">\n",
       "  <thead>\n",
       "    <tr style=\"text-align: right;\">\n",
       "      <th></th>\n",
       "      <th>Text</th>\n",
       "      <th>Count</th>\n",
       "    </tr>\n",
       "  </thead>\n",
       "  <tbody>\n",
       "    <tr>\n",
       "      <th>36</th>\n",
       "      <td>COP</td>\n",
       "      <td>19</td>\n",
       "    </tr>\n",
       "    <tr>\n",
       "      <th>71</th>\n",
       "      <td>Diwali</td>\n",
       "      <td>18</td>\n",
       "    </tr>\n",
       "    <tr>\n",
       "      <th>369</th>\n",
       "      <td>WWII</td>\n",
       "      <td>15</td>\n",
       "    </tr>\n",
       "    <tr>\n",
       "      <th>138</th>\n",
       "      <td>Hurricane Ian</td>\n",
       "      <td>14</td>\n",
       "    </tr>\n",
       "    <tr>\n",
       "      <th>381</th>\n",
       "      <td>World War II</td>\n",
       "      <td>12</td>\n",
       "    </tr>\n",
       "    <tr>\n",
       "      <th>...</th>\n",
       "      <td>...</td>\n",
       "      <td>...</td>\n",
       "    </tr>\n",
       "    <tr>\n",
       "      <th>167</th>\n",
       "      <td>KeepKidsSafe Gun BuyBack</td>\n",
       "      <td>1</td>\n",
       "    </tr>\n",
       "    <tr>\n",
       "      <th>166</th>\n",
       "      <td>Kansas Conservation Tour</td>\n",
       "      <td>1</td>\n",
       "    </tr>\n",
       "    <tr>\n",
       "      <th>165</th>\n",
       "      <td>JPSS Launch</td>\n",
       "      <td>1</td>\n",
       "    </tr>\n",
       "    <tr>\n",
       "      <th>164</th>\n",
       "      <td>Iraq War</td>\n",
       "      <td>1</td>\n",
       "    </tr>\n",
       "    <tr>\n",
       "      <th>474</th>\n",
       "      <td>world war one</td>\n",
       "      <td>1</td>\n",
       "    </tr>\n",
       "  </tbody>\n",
       "</table>\n",
       "<p>475 rows × 2 columns</p>\n",
       "</div>"
      ],
      "text/plain": [
       "                         Text  Count\n",
       "36                        COP     19\n",
       "71                     Diwali     18\n",
       "369                      WWII     15\n",
       "138             Hurricane Ian     14\n",
       "381              World War II     12\n",
       "..                        ...    ...\n",
       "167  KeepKidsSafe Gun BuyBack      1\n",
       "166  Kansas Conservation Tour      1\n",
       "165               JPSS Launch      1\n",
       "164                  Iraq War      1\n",
       "474             world war one      1\n",
       "\n",
       "[475 rows x 2 columns]"
      ]
     },
     "execution_count": 16,
     "metadata": {},
     "output_type": "execute_result"
    }
   ],
   "source": [
    "event_ners.groupby(\"Text\").size().reset_index(name = 'Count').sort_values(by = 'Count', ascending = False)"
   ]
  },
  {
   "cell_type": "code",
   "execution_count": 17,
   "id": "33af0ff9-9123-44a0-81e4-ea553f033307",
   "metadata": {},
   "outputs": [],
   "source": [
    "fac_ners = select_ner_tweets[(select_ner_tweets['NER_Lable'] == 'FAC')]\n",
    "loc_ners = select_ner_tweets[(select_ner_tweets['NER_Lable'] == 'LOC')]\n",
    "norp_ners = select_ner_tweets[(select_ner_tweets['NER_Lable'] == 'NORP')]\n",
    "org_ners = select_ner_tweets[(select_ner_tweets['NER_Lable'] == 'ORG')]\n",
    "person_ners = select_ner_tweets[(select_ner_tweets['NER_Lable'] == 'PERSON')]"
   ]
  },
  {
   "cell_type": "code",
   "execution_count": 18,
   "id": "d3595a15-6abd-42bc-a12b-615c889840fe",
   "metadata": {},
   "outputs": [
    {
     "name": "stdout",
     "output_type": "stream",
     "text": [
      "                                 Text  Count\n",
      "26                            Capitol     14\n",
      "314                   the White House      8\n",
      "112                       Main Street      6\n",
      "292                   the Silver Line      5\n",
      "303        the Tree of Life Synagogue      5\n",
      "..                                ...    ...\n",
      "111             MacroTechnology Works      1\n",
      "110              LuLu Ross Elementary      1\n",
      "109                        Long Wharf      1\n",
      "108                   Lizards Thicket      1\n",
      "321  theGrandFarm Innovation Facility      1\n",
      "\n",
      "[322 rows x 2 columns]\n",
      "                   Text  Count\n",
      "48               Europe     13\n",
      "230     the Middle East      9\n",
      "38                Earth      6\n",
      "107            Normandy      6\n",
      "10               Arctic      6\n",
      "..                  ...    ...\n",
      "105  Newburyport Harbor      1\n",
      "108            North AL      1\n",
      "109        North Africa      1\n",
      "110         North Idaho      1\n",
      "263    upstate New York      1\n",
      "\n",
      "[264 rows x 2 columns]\n",
      "                     Text  Count\n",
      "15               American    522\n",
      "17              Americans    492\n",
      "66              Democrats    413\n",
      "201           Republicans    271\n",
      "199            Republican    124\n",
      "..                    ...    ...\n",
      "167      North Alabamians      1\n",
      "168      North Carolinian      1\n",
      "171      North Vietnamese      1\n",
      "172  Northeast Indigenous      1\n",
      "285               working      1\n",
      "\n",
      "[286 rows x 2 columns]\n",
      "                         Text  Count\n",
      "1226                   Senate    453\n",
      "336                  Congress    260\n",
      "663                     House     96\n",
      "865                  Medicare     92\n",
      "548                       GOP     86\n",
      "...                       ...    ...\n",
      "872                      Meta      1\n",
      "871              MeritMedical      1\n",
      "870   Men Who Cook fundraiser      1\n",
      "869     Men Make A Difference      1\n",
      "2291            yuenglingbeer      1\n",
      "\n",
      "[2292 rows x 2 columns]\n",
      "                 Text  Count\n",
      "161             Biden    561\n",
      "1686            Trump     78\n",
      "1257            Putin     75\n",
      "755         Joe Biden     69\n",
      "764          JoeBiden     50\n",
      "...               ...    ...\n",
      "821     Joshua Jacobs      1\n",
      "820     JoshShapiroPA      1\n",
      "819    JoshGottheimer      1\n",
      "818        Josh Stein      1\n",
      "966   Lincoln Soldati      1\n",
      "\n",
      "[1933 rows x 2 columns]\n"
     ]
    }
   ],
   "source": [
    "print(fac_ners.groupby(\"Text\").size().reset_index(name = 'Count').sort_values(by = 'Count', ascending = False))\n",
    "print(loc_ners.groupby(\"Text\").size().reset_index(name = 'Count').sort_values(by = 'Count', ascending = False))\n",
    "print(norp_ners.groupby(\"Text\").size().reset_index(name = 'Count').sort_values(by = 'Count', ascending = False))\n",
    "print(org_ners.groupby(\"Text\").size().reset_index(name = 'Count').sort_values(by = 'Count', ascending = False))\n",
    "print(person_ners.groupby(\"Text\").size().reset_index(name = 'Count').sort_values(by = 'Count', ascending = False))"
   ]
  },
  {
   "cell_type": "markdown",
   "id": "161ba495-e379-4350-a0b5-63dd79baf71b",
   "metadata": {},
   "source": [
    "### Filter to onnly innclude NER Lable texts that appear in at least three tweets"
   ]
  },
  {
   "cell_type": "code",
   "execution_count": 19,
   "id": "29de53c2-ef67-466d-b427-6162220bbb44",
   "metadata": {},
   "outputs": [],
   "source": [
    "def filter_ner_results(twitter_ners, ner_lables):\n",
    "    \n",
    "    twitter_ners = twitter_ners.drop_duplicates()\n",
    "    \n",
    "    kept_tweets = []\n",
    "    \n",
    "    for ner in ner_lables:\n",
    "        ner_data = twitter_ners[(twitter_ners['NER_Lable'] == ner)]\n",
    "        ner_grouped = ner_data.groupby(\"Text\").size().reset_index(name = 'Count')\n",
    "        ners_kept = ner_grouped[(ner_grouped['Count'] >= 3)]\n",
    "        ners_kept = list(ners_kept['Text'])\n",
    "        kept_tweets.append(ner_data[(ner_data['Text'].isin(ners_kept))])\n",
    "\n",
    "    kept_tweets = pd.concat(kept_tweets, ignore_index = True)\n",
    "    kept_tweets = kept_tweets.drop_duplicates()\n",
    "    return(kept_tweets)"
   ]
  },
  {
   "cell_type": "code",
   "execution_count": 20,
   "id": "574cec9d-9cfc-473d-a097-62b99c4448a8",
   "metadata": {},
   "outputs": [],
   "source": [
    "select_tweets_filtered = filter_ner_results(select_ner_tweets, ner_lables)"
   ]
  },
  {
   "cell_type": "code",
   "execution_count": 21,
   "id": "05c910ea-74ea-4e86-a744-d8bd646cf446",
   "metadata": {},
   "outputs": [],
   "source": [
    "select_tweets_filtered = select_tweets_filtered.drop_duplicates()"
   ]
  },
  {
   "cell_type": "code",
   "execution_count": 22,
   "id": "1c4375ad-3dd0-44c1-834d-943f0eadfd80",
   "metadata": {},
   "outputs": [
    {
     "data": {
      "text/html": [
       "<div>\n",
       "<style scoped>\n",
       "    .dataframe tbody tr th:only-of-type {\n",
       "        vertical-align: middle;\n",
       "    }\n",
       "\n",
       "    .dataframe tbody tr th {\n",
       "        vertical-align: top;\n",
       "    }\n",
       "\n",
       "    .dataframe thead th {\n",
       "        text-align: right;\n",
       "    }\n",
       "</style>\n",
       "<table border=\"1\" class=\"dataframe\">\n",
       "  <thead>\n",
       "    <tr style=\"text-align: right;\">\n",
       "      <th></th>\n",
       "      <th>TwitterID</th>\n",
       "      <th>Tweet</th>\n",
       "      <th>NER_Lable</th>\n",
       "      <th>Text</th>\n",
       "    </tr>\n",
       "  </thead>\n",
       "  <tbody>\n",
       "    <tr>\n",
       "      <th>0</th>\n",
       "      <td>JoeBiden</td>\n",
       "      <td>Election Day is tomorrow, folks. Confirm your ...</td>\n",
       "      <td>EVENT</td>\n",
       "      <td>Election Day</td>\n",
       "    </tr>\n",
       "    <tr>\n",
       "      <th>1</th>\n",
       "      <td>TTuberville</td>\n",
       "      <td>RT @SenTuberville: Honored to join Mr. Frank C...</td>\n",
       "      <td>EVENT</td>\n",
       "      <td>WWII</td>\n",
       "    </tr>\n",
       "    <tr>\n",
       "      <th>2</th>\n",
       "      <td>SenShelby</td>\n",
       "      <td>Happy Independence Day! Today we celebrate 246...</td>\n",
       "      <td>EVENT</td>\n",
       "      <td>Independence Day</td>\n",
       "    </tr>\n",
       "    <tr>\n",
       "      <th>3</th>\n",
       "      <td>SenShelby</td>\n",
       "      <td>Today I reviewed the FY23 request for the @USN...</td>\n",
       "      <td>EVENT</td>\n",
       "      <td>COVID</td>\n",
       "    </tr>\n",
       "    <tr>\n",
       "      <th>4</th>\n",
       "      <td>lisamurkowski</td>\n",
       "      <td>Native American Heritage Month is an opportuni...</td>\n",
       "      <td>EVENT</td>\n",
       "      <td>Native American Heritage Month</td>\n",
       "    </tr>\n",
       "  </tbody>\n",
       "</table>\n",
       "</div>"
      ],
      "text/plain": [
       "       TwitterID                                              Tweet NER_Lable  \\\n",
       "0       JoeBiden  Election Day is tomorrow, folks. Confirm your ...     EVENT   \n",
       "1    TTuberville  RT @SenTuberville: Honored to join Mr. Frank C...     EVENT   \n",
       "2      SenShelby  Happy Independence Day! Today we celebrate 246...     EVENT   \n",
       "3      SenShelby  Today I reviewed the FY23 request for the @USN...     EVENT   \n",
       "4  lisamurkowski  Native American Heritage Month is an opportuni...     EVENT   \n",
       "\n",
       "                             Text  \n",
       "0                    Election Day  \n",
       "1                            WWII  \n",
       "2                Independence Day  \n",
       "3                           COVID  \n",
       "4  Native American Heritage Month  "
      ]
     },
     "execution_count": 22,
     "metadata": {},
     "output_type": "execute_result"
    }
   ],
   "source": [
    "select_tweets_filtered.head()"
   ]
  },
  {
   "cell_type": "code",
   "execution_count": 23,
   "id": "91b15bfc-1778-4b3f-90e0-451af1c029fe",
   "metadata": {},
   "outputs": [
    {
     "data": {
      "text/plain": [
       "12607"
      ]
     },
     "execution_count": 23,
     "metadata": {},
     "output_type": "execute_result"
    }
   ],
   "source": [
    "len(select_tweets_filtered)"
   ]
  },
  {
   "cell_type": "code",
   "execution_count": 24,
   "id": "9747c322-c0e6-40eb-8114-f528fef35e4a",
   "metadata": {},
   "outputs": [
    {
     "data": {
      "text/plain": [
       "6973"
      ]
     },
     "execution_count": 24,
     "metadata": {},
     "output_type": "execute_result"
    }
   ],
   "source": [
    "total_tweets = select_tweets_filtered.drop_duplicates(subset = ['TwitterID', 'Tweet'])\n",
    "len(total_tweets)"
   ]
  },
  {
   "cell_type": "code",
   "execution_count": 25,
   "id": "1e121c89-31a1-4fc2-8615-254b76e5fdc5",
   "metadata": {},
   "outputs": [
    {
     "data": {
      "text/html": [
       "<div>\n",
       "<style scoped>\n",
       "    .dataframe tbody tr th:only-of-type {\n",
       "        vertical-align: middle;\n",
       "    }\n",
       "\n",
       "    .dataframe tbody tr th {\n",
       "        vertical-align: top;\n",
       "    }\n",
       "\n",
       "    .dataframe thead th {\n",
       "        text-align: right;\n",
       "    }\n",
       "</style>\n",
       "<table border=\"1\" class=\"dataframe\">\n",
       "  <thead>\n",
       "    <tr style=\"text-align: right;\">\n",
       "      <th></th>\n",
       "      <th>Text</th>\n",
       "      <th>Count</th>\n",
       "    </tr>\n",
       "  </thead>\n",
       "  <tbody>\n",
       "    <tr>\n",
       "      <th>0</th>\n",
       "      <td>Capitol</td>\n",
       "      <td>14</td>\n",
       "    </tr>\n",
       "    <tr>\n",
       "      <th>14</th>\n",
       "      <td>the White House</td>\n",
       "      <td>8</td>\n",
       "    </tr>\n",
       "    <tr>\n",
       "      <th>3</th>\n",
       "      <td>Main Street</td>\n",
       "      <td>6</td>\n",
       "    </tr>\n",
       "    <tr>\n",
       "      <th>10</th>\n",
       "      <td>the Silver Line</td>\n",
       "      <td>5</td>\n",
       "    </tr>\n",
       "    <tr>\n",
       "      <th>12</th>\n",
       "      <td>the Tree of Life Synagogue</td>\n",
       "      <td>5</td>\n",
       "    </tr>\n",
       "    <tr>\n",
       "      <th>4</th>\n",
       "      <td>Metro</td>\n",
       "      <td>4</td>\n",
       "    </tr>\n",
       "    <tr>\n",
       "      <th>6</th>\n",
       "      <td>Route</td>\n",
       "      <td>4</td>\n",
       "    </tr>\n",
       "    <tr>\n",
       "      <th>8</th>\n",
       "      <td>Tree of Life Synagogue</td>\n",
       "      <td>4</td>\n",
       "    </tr>\n",
       "    <tr>\n",
       "      <th>9</th>\n",
       "      <td>the National Mall</td>\n",
       "      <td>4</td>\n",
       "    </tr>\n",
       "    <tr>\n",
       "      <th>1</th>\n",
       "      <td>Club Q</td>\n",
       "      <td>3</td>\n",
       "    </tr>\n",
       "    <tr>\n",
       "      <th>2</th>\n",
       "      <td>Ellsworth Air Force Base</td>\n",
       "      <td>3</td>\n",
       "    </tr>\n",
       "    <tr>\n",
       "      <th>5</th>\n",
       "      <td>Red Hill</td>\n",
       "      <td>3</td>\n",
       "    </tr>\n",
       "    <tr>\n",
       "      <th>7</th>\n",
       "      <td>Sky Range</td>\n",
       "      <td>3</td>\n",
       "    </tr>\n",
       "    <tr>\n",
       "      <th>11</th>\n",
       "      <td>the Silver Line Extension</td>\n",
       "      <td>3</td>\n",
       "    </tr>\n",
       "    <tr>\n",
       "      <th>13</th>\n",
       "      <td>the U S Capitol</td>\n",
       "      <td>3</td>\n",
       "    </tr>\n",
       "  </tbody>\n",
       "</table>\n",
       "</div>"
      ],
      "text/plain": [
       "                          Text  Count\n",
       "0                      Capitol     14\n",
       "14             the White House      8\n",
       "3                  Main Street      6\n",
       "10             the Silver Line      5\n",
       "12  the Tree of Life Synagogue      5\n",
       "4                        Metro      4\n",
       "6                        Route      4\n",
       "8       Tree of Life Synagogue      4\n",
       "9            the National Mall      4\n",
       "1                       Club Q      3\n",
       "2     Ellsworth Air Force Base      3\n",
       "5                     Red Hill      3\n",
       "7                    Sky Range      3\n",
       "11   the Silver Line Extension      3\n",
       "13             the U S Capitol      3"
      ]
     },
     "execution_count": 25,
     "metadata": {},
     "output_type": "execute_result"
    }
   ],
   "source": [
    "fac_ners = select_tweets_filtered[(select_tweets_filtered['NER_Lable'] == 'FAC')]\n",
    "fac_ners.groupby(\"Text\").size().reset_index(name = 'Count').sort_values(by = 'Count', ascending = False)"
   ]
  },
  {
   "cell_type": "markdown",
   "id": "4a72d810-7ee8-41ff-b262-7f6e6eb8fffb",
   "metadata": {},
   "source": [
    "## With the chosen data, creat the graph into a CSV file"
   ]
  },
  {
   "cell_type": "markdown",
   "id": "1e5f0342-059c-4dad-9eb6-b52090a7ef70",
   "metadata": {},
   "source": [
    "### (1) Generate Node File"
   ]
  },
  {
   "cell_type": "code",
   "execution_count": 26,
   "id": "d6383454-e654-4fa8-8433-5e36d347b37e",
   "metadata": {},
   "outputs": [
    {
     "data": {
      "text/html": [
       "<div>\n",
       "<style scoped>\n",
       "    .dataframe tbody tr th:only-of-type {\n",
       "        vertical-align: middle;\n",
       "    }\n",
       "\n",
       "    .dataframe tbody tr th {\n",
       "        vertical-align: top;\n",
       "    }\n",
       "\n",
       "    .dataframe thead th {\n",
       "        text-align: right;\n",
       "    }\n",
       "</style>\n",
       "<table border=\"1\" class=\"dataframe\">\n",
       "  <thead>\n",
       "    <tr style=\"text-align: right;\">\n",
       "      <th></th>\n",
       "      <th>TwitterID</th>\n",
       "      <th>Tweet</th>\n",
       "      <th>Retweets</th>\n",
       "      <th>Replies</th>\n",
       "      <th>Likes</th>\n",
       "      <th>Quotes</th>\n",
       "    </tr>\n",
       "  </thead>\n",
       "  <tbody>\n",
       "    <tr>\n",
       "      <th>67</th>\n",
       "      <td>JoeBiden</td>\n",
       "      <td>We've taken steps to lock in vital infrastruct...</td>\n",
       "      <td>2168</td>\n",
       "      <td>3848</td>\n",
       "      <td>10301</td>\n",
       "      <td>135</td>\n",
       "    </tr>\n",
       "    <tr>\n",
       "      <th>68</th>\n",
       "      <td>JoeBiden</td>\n",
       "      <td>RT @POTUS: When I think of Nancy Pelosi, I thi...</td>\n",
       "      <td>23121</td>\n",
       "      <td>0</td>\n",
       "      <td>0</td>\n",
       "      <td>0</td>\n",
       "    </tr>\n",
       "    <tr>\n",
       "      <th>69</th>\n",
       "      <td>JoeBiden</td>\n",
       "      <td>Today is the one-year anniversary of the Bipar...</td>\n",
       "      <td>4482</td>\n",
       "      <td>3271</td>\n",
       "      <td>23506</td>\n",
       "      <td>210</td>\n",
       "    </tr>\n",
       "    <tr>\n",
       "      <th>70</th>\n",
       "      <td>JoeBiden</td>\n",
       "      <td>One year after the Bipartisan Infrastructure L...</td>\n",
       "      <td>2303</td>\n",
       "      <td>1430</td>\n",
       "      <td>11499</td>\n",
       "      <td>94</td>\n",
       "    </tr>\n",
       "    <tr>\n",
       "      <th>71</th>\n",
       "      <td>JoeBiden</td>\n",
       "      <td>The difference between talking and delivering.</td>\n",
       "      <td>18605</td>\n",
       "      <td>15004</td>\n",
       "      <td>92301</td>\n",
       "      <td>2077</td>\n",
       "    </tr>\n",
       "  </tbody>\n",
       "</table>\n",
       "</div>"
      ],
      "text/plain": [
       "   TwitterID                                              Tweet  Retweets  \\\n",
       "67  JoeBiden  We've taken steps to lock in vital infrastruct...      2168   \n",
       "68  JoeBiden  RT @POTUS: When I think of Nancy Pelosi, I thi...     23121   \n",
       "69  JoeBiden  Today is the one-year anniversary of the Bipar...      4482   \n",
       "70  JoeBiden  One year after the Bipartisan Infrastructure L...      2303   \n",
       "71  JoeBiden     The difference between talking and delivering.     18605   \n",
       "\n",
       "    Replies  Likes  Quotes  \n",
       "67     3848  10301     135  \n",
       "68        0      0       0  \n",
       "69     3271  23506     210  \n",
       "70     1430  11499      94  \n",
       "71    15004  92301    2077  "
      ]
     },
     "execution_count": 26,
     "metadata": {},
     "output_type": "execute_result"
    }
   ],
   "source": [
    "direct_tweet_attribs.head()"
   ]
  },
  {
   "cell_type": "code",
   "execution_count": 27,
   "id": "fb1806f5-2855-4769-a575-8a1678cfd629",
   "metadata": {},
   "outputs": [],
   "source": [
    "direct_tweet_attribs = direct_tweet_attribs.drop_duplicates(subset = ['TwitterID', 'Tweet'])"
   ]
  },
  {
   "cell_type": "code",
   "execution_count": 28,
   "id": "1d19b96f-05c5-42b6-8207-3950dc76fe74",
   "metadata": {},
   "outputs": [],
   "source": [
    "direct_tweet_attribs['Identifier'] = direct_tweet_attribs['TwitterID'] + \"/\" + direct_tweet_attribs['Tweet']"
   ]
  },
  {
   "cell_type": "code",
   "execution_count": 29,
   "id": "60fba593-362e-41d3-a216-b6719cf85f7b",
   "metadata": {},
   "outputs": [
    {
     "data": {
      "text/html": [
       "<div>\n",
       "<style scoped>\n",
       "    .dataframe tbody tr th:only-of-type {\n",
       "        vertical-align: middle;\n",
       "    }\n",
       "\n",
       "    .dataframe tbody tr th {\n",
       "        vertical-align: top;\n",
       "    }\n",
       "\n",
       "    .dataframe thead th {\n",
       "        text-align: right;\n",
       "    }\n",
       "</style>\n",
       "<table border=\"1\" class=\"dataframe\">\n",
       "  <thead>\n",
       "    <tr style=\"text-align: right;\">\n",
       "      <th></th>\n",
       "      <th>TwitterID</th>\n",
       "      <th>Tweet</th>\n",
       "      <th>Retweets</th>\n",
       "      <th>Replies</th>\n",
       "      <th>Likes</th>\n",
       "      <th>Quotes</th>\n",
       "      <th>Identifier</th>\n",
       "    </tr>\n",
       "  </thead>\n",
       "  <tbody>\n",
       "    <tr>\n",
       "      <th>67</th>\n",
       "      <td>JoeBiden</td>\n",
       "      <td>We've taken steps to lock in vital infrastruct...</td>\n",
       "      <td>2168</td>\n",
       "      <td>3848</td>\n",
       "      <td>10301</td>\n",
       "      <td>135</td>\n",
       "      <td>JoeBiden/We've taken steps to lock in vital in...</td>\n",
       "    </tr>\n",
       "    <tr>\n",
       "      <th>68</th>\n",
       "      <td>JoeBiden</td>\n",
       "      <td>RT @POTUS: When I think of Nancy Pelosi, I thi...</td>\n",
       "      <td>23121</td>\n",
       "      <td>0</td>\n",
       "      <td>0</td>\n",
       "      <td>0</td>\n",
       "      <td>JoeBiden/RT @POTUS: When I think of Nancy Pelo...</td>\n",
       "    </tr>\n",
       "    <tr>\n",
       "      <th>69</th>\n",
       "      <td>JoeBiden</td>\n",
       "      <td>Today is the one-year anniversary of the Bipar...</td>\n",
       "      <td>4482</td>\n",
       "      <td>3271</td>\n",
       "      <td>23506</td>\n",
       "      <td>210</td>\n",
       "      <td>JoeBiden/Today is the one-year anniversary of ...</td>\n",
       "    </tr>\n",
       "    <tr>\n",
       "      <th>70</th>\n",
       "      <td>JoeBiden</td>\n",
       "      <td>One year after the Bipartisan Infrastructure L...</td>\n",
       "      <td>2303</td>\n",
       "      <td>1430</td>\n",
       "      <td>11499</td>\n",
       "      <td>94</td>\n",
       "      <td>JoeBiden/One year after the Bipartisan Infrast...</td>\n",
       "    </tr>\n",
       "    <tr>\n",
       "      <th>71</th>\n",
       "      <td>JoeBiden</td>\n",
       "      <td>The difference between talking and delivering.</td>\n",
       "      <td>18605</td>\n",
       "      <td>15004</td>\n",
       "      <td>92301</td>\n",
       "      <td>2077</td>\n",
       "      <td>JoeBiden/The difference between talking and de...</td>\n",
       "    </tr>\n",
       "  </tbody>\n",
       "</table>\n",
       "</div>"
      ],
      "text/plain": [
       "   TwitterID                                              Tweet  Retweets  \\\n",
       "67  JoeBiden  We've taken steps to lock in vital infrastruct...      2168   \n",
       "68  JoeBiden  RT @POTUS: When I think of Nancy Pelosi, I thi...     23121   \n",
       "69  JoeBiden  Today is the one-year anniversary of the Bipar...      4482   \n",
       "70  JoeBiden  One year after the Bipartisan Infrastructure L...      2303   \n",
       "71  JoeBiden     The difference between talking and delivering.     18605   \n",
       "\n",
       "    Replies  Likes  Quotes                                         Identifier  \n",
       "67     3848  10301     135  JoeBiden/We've taken steps to lock in vital in...  \n",
       "68        0      0       0  JoeBiden/RT @POTUS: When I think of Nancy Pelo...  \n",
       "69     3271  23506     210  JoeBiden/Today is the one-year anniversary of ...  \n",
       "70     1430  11499      94  JoeBiden/One year after the Bipartisan Infrast...  \n",
       "71    15004  92301    2077  JoeBiden/The difference between talking and de...  "
      ]
     },
     "execution_count": 29,
     "metadata": {},
     "output_type": "execute_result"
    }
   ],
   "source": [
    "direct_tweet_attribs.head()"
   ]
  },
  {
   "cell_type": "code",
   "execution_count": 30,
   "id": "5217f8e4-eb07-4c55-947e-fde99a07ec28",
   "metadata": {},
   "outputs": [],
   "source": [
    "select_tweets_filtered['Identifier'] = select_tweets_filtered['TwitterID'] + \"/\" + select_tweets_filtered['Tweet']"
   ]
  },
  {
   "cell_type": "code",
   "execution_count": 31,
   "id": "31d2a2c1-61cc-4671-94f4-09696f261746",
   "metadata": {},
   "outputs": [
    {
     "data": {
      "text/html": [
       "<div>\n",
       "<style scoped>\n",
       "    .dataframe tbody tr th:only-of-type {\n",
       "        vertical-align: middle;\n",
       "    }\n",
       "\n",
       "    .dataframe tbody tr th {\n",
       "        vertical-align: top;\n",
       "    }\n",
       "\n",
       "    .dataframe thead th {\n",
       "        text-align: right;\n",
       "    }\n",
       "</style>\n",
       "<table border=\"1\" class=\"dataframe\">\n",
       "  <thead>\n",
       "    <tr style=\"text-align: right;\">\n",
       "      <th></th>\n",
       "      <th>TwitterID</th>\n",
       "      <th>Tweet</th>\n",
       "      <th>NER_Lable</th>\n",
       "      <th>Text</th>\n",
       "      <th>Identifier</th>\n",
       "    </tr>\n",
       "  </thead>\n",
       "  <tbody>\n",
       "    <tr>\n",
       "      <th>0</th>\n",
       "      <td>JoeBiden</td>\n",
       "      <td>Election Day is tomorrow, folks. Confirm your ...</td>\n",
       "      <td>EVENT</td>\n",
       "      <td>Election Day</td>\n",
       "      <td>JoeBiden/Election Day is tomorrow, folks. Conf...</td>\n",
       "    </tr>\n",
       "    <tr>\n",
       "      <th>1</th>\n",
       "      <td>TTuberville</td>\n",
       "      <td>RT @SenTuberville: Honored to join Mr. Frank C...</td>\n",
       "      <td>EVENT</td>\n",
       "      <td>WWII</td>\n",
       "      <td>TTuberville/RT @SenTuberville: Honored to join...</td>\n",
       "    </tr>\n",
       "    <tr>\n",
       "      <th>2</th>\n",
       "      <td>SenShelby</td>\n",
       "      <td>Happy Independence Day! Today we celebrate 246...</td>\n",
       "      <td>EVENT</td>\n",
       "      <td>Independence Day</td>\n",
       "      <td>SenShelby/Happy Independence Day! Today we cel...</td>\n",
       "    </tr>\n",
       "    <tr>\n",
       "      <th>3</th>\n",
       "      <td>SenShelby</td>\n",
       "      <td>Today I reviewed the FY23 request for the @USN...</td>\n",
       "      <td>EVENT</td>\n",
       "      <td>COVID</td>\n",
       "      <td>SenShelby/Today I reviewed the FY23 request fo...</td>\n",
       "    </tr>\n",
       "    <tr>\n",
       "      <th>4</th>\n",
       "      <td>lisamurkowski</td>\n",
       "      <td>Native American Heritage Month is an opportuni...</td>\n",
       "      <td>EVENT</td>\n",
       "      <td>Native American Heritage Month</td>\n",
       "      <td>lisamurkowski/Native American Heritage Month i...</td>\n",
       "    </tr>\n",
       "  </tbody>\n",
       "</table>\n",
       "</div>"
      ],
      "text/plain": [
       "       TwitterID                                              Tweet NER_Lable  \\\n",
       "0       JoeBiden  Election Day is tomorrow, folks. Confirm your ...     EVENT   \n",
       "1    TTuberville  RT @SenTuberville: Honored to join Mr. Frank C...     EVENT   \n",
       "2      SenShelby  Happy Independence Day! Today we celebrate 246...     EVENT   \n",
       "3      SenShelby  Today I reviewed the FY23 request for the @USN...     EVENT   \n",
       "4  lisamurkowski  Native American Heritage Month is an opportuni...     EVENT   \n",
       "\n",
       "                             Text  \\\n",
       "0                    Election Day   \n",
       "1                            WWII   \n",
       "2                Independence Day   \n",
       "3                           COVID   \n",
       "4  Native American Heritage Month   \n",
       "\n",
       "                                          Identifier  \n",
       "0  JoeBiden/Election Day is tomorrow, folks. Conf...  \n",
       "1  TTuberville/RT @SenTuberville: Honored to join...  \n",
       "2  SenShelby/Happy Independence Day! Today we cel...  \n",
       "3  SenShelby/Today I reviewed the FY23 request fo...  \n",
       "4  lisamurkowski/Native American Heritage Month i...  "
      ]
     },
     "execution_count": 31,
     "metadata": {},
     "output_type": "execute_result"
    }
   ],
   "source": [
    "select_tweets_filtered.head()"
   ]
  },
  {
   "cell_type": "code",
   "execution_count": 32,
   "id": "d0ccf754-fc5b-44de-8dee-37217dc1e9df",
   "metadata": {},
   "outputs": [
    {
     "data": {
      "text/plain": [
       "6973"
      ]
     },
     "execution_count": 32,
     "metadata": {},
     "output_type": "execute_result"
    }
   ],
   "source": [
    "kept_tweets = select_tweets_filtered.drop_duplicates(subset = ['Identifier'])\n",
    "kept_tweets = list(kept_tweets['Identifier'])\n",
    "tweet_node_list = direct_tweet_attribs[(direct_tweet_attribs['Identifier'].isin(kept_tweets))]\n",
    "len(tweet_node_list)"
   ]
  },
  {
   "cell_type": "code",
   "execution_count": 33,
   "id": "8101b1ec-38a6-4771-ae30-1f2f1177b2b9",
   "metadata": {},
   "outputs": [
    {
     "data": {
      "text/html": [
       "<div>\n",
       "<style scoped>\n",
       "    .dataframe tbody tr th:only-of-type {\n",
       "        vertical-align: middle;\n",
       "    }\n",
       "\n",
       "    .dataframe tbody tr th {\n",
       "        vertical-align: top;\n",
       "    }\n",
       "\n",
       "    .dataframe thead th {\n",
       "        text-align: right;\n",
       "    }\n",
       "</style>\n",
       "<table border=\"1\" class=\"dataframe\">\n",
       "  <thead>\n",
       "    <tr style=\"text-align: right;\">\n",
       "      <th></th>\n",
       "      <th>TwitterID</th>\n",
       "      <th>Tweet</th>\n",
       "      <th>Retweets</th>\n",
       "      <th>Replies</th>\n",
       "      <th>Likes</th>\n",
       "      <th>Quotes</th>\n",
       "      <th>Identifier</th>\n",
       "    </tr>\n",
       "  </thead>\n",
       "  <tbody>\n",
       "    <tr>\n",
       "      <th>67</th>\n",
       "      <td>JoeBiden</td>\n",
       "      <td>We've taken steps to lock in vital infrastruct...</td>\n",
       "      <td>2168</td>\n",
       "      <td>3848</td>\n",
       "      <td>10301</td>\n",
       "      <td>135</td>\n",
       "      <td>JoeBiden/We've taken steps to lock in vital in...</td>\n",
       "    </tr>\n",
       "    <tr>\n",
       "      <th>68</th>\n",
       "      <td>JoeBiden</td>\n",
       "      <td>RT @POTUS: When I think of Nancy Pelosi, I thi...</td>\n",
       "      <td>23121</td>\n",
       "      <td>0</td>\n",
       "      <td>0</td>\n",
       "      <td>0</td>\n",
       "      <td>JoeBiden/RT @POTUS: When I think of Nancy Pelo...</td>\n",
       "    </tr>\n",
       "    <tr>\n",
       "      <th>69</th>\n",
       "      <td>JoeBiden</td>\n",
       "      <td>Today is the one-year anniversary of the Bipar...</td>\n",
       "      <td>4482</td>\n",
       "      <td>3271</td>\n",
       "      <td>23506</td>\n",
       "      <td>210</td>\n",
       "      <td>JoeBiden/Today is the one-year anniversary of ...</td>\n",
       "    </tr>\n",
       "    <tr>\n",
       "      <th>70</th>\n",
       "      <td>JoeBiden</td>\n",
       "      <td>One year after the Bipartisan Infrastructure L...</td>\n",
       "      <td>2303</td>\n",
       "      <td>1430</td>\n",
       "      <td>11499</td>\n",
       "      <td>94</td>\n",
       "      <td>JoeBiden/One year after the Bipartisan Infrast...</td>\n",
       "    </tr>\n",
       "    <tr>\n",
       "      <th>72</th>\n",
       "      <td>JoeBiden</td>\n",
       "      <td>In this year’s midterm elections, we saw the s...</td>\n",
       "      <td>4822</td>\n",
       "      <td>6200</td>\n",
       "      <td>25236</td>\n",
       "      <td>306</td>\n",
       "      <td>JoeBiden/In this year’s midterm elections, we ...</td>\n",
       "    </tr>\n",
       "  </tbody>\n",
       "</table>\n",
       "</div>"
      ],
      "text/plain": [
       "   TwitterID                                              Tweet  Retweets  \\\n",
       "67  JoeBiden  We've taken steps to lock in vital infrastruct...      2168   \n",
       "68  JoeBiden  RT @POTUS: When I think of Nancy Pelosi, I thi...     23121   \n",
       "69  JoeBiden  Today is the one-year anniversary of the Bipar...      4482   \n",
       "70  JoeBiden  One year after the Bipartisan Infrastructure L...      2303   \n",
       "72  JoeBiden  In this year’s midterm elections, we saw the s...      4822   \n",
       "\n",
       "    Replies  Likes  Quotes                                         Identifier  \n",
       "67     3848  10301     135  JoeBiden/We've taken steps to lock in vital in...  \n",
       "68        0      0       0  JoeBiden/RT @POTUS: When I think of Nancy Pelo...  \n",
       "69     3271  23506     210  JoeBiden/Today is the one-year anniversary of ...  \n",
       "70     1430  11499      94  JoeBiden/One year after the Bipartisan Infrast...  \n",
       "72     6200  25236     306  JoeBiden/In this year’s midterm elections, we ...  "
      ]
     },
     "execution_count": 33,
     "metadata": {},
     "output_type": "execute_result"
    }
   ],
   "source": [
    "tweet_node_list.head()"
   ]
  },
  {
   "cell_type": "code",
   "execution_count": 34,
   "id": "643b550a-0604-4a40-aa4d-76c2a1bdcf53",
   "metadata": {},
   "outputs": [],
   "source": [
    "kept_tweets_id = {}\n",
    "i = 0\n",
    "for tweet_id in kept_tweets:\n",
    "    kept_tweets_id[tweet_id] = i\n",
    "    i += 1\n",
    "\n",
    "identifiers = []\n",
    "for ind in tweet_node_list.index:\n",
    "    ident = kept_tweets_id[tweet_node_list['Identifier'][ind]]\n",
    "    identifiers.append(ident)\n",
    "tweet_node_list = tweet_node_list.drop('Identifier', axis = 1)\n",
    "tweet_node_list['Identifier'] = identifiers\n",
    "\n",
    "identifiers = []\n",
    "for ind in select_tweets_filtered.index:\n",
    "    ident = kept_tweets_id[select_tweets_filtered['Identifier'][ind]]\n",
    "    identifiers.append(ident)\n",
    "select_tweets_filtered = select_tweets_filtered.drop('Identifier', axis = 1)\n",
    "select_tweets_filtered['Identifier'] = identifiers"
   ]
  },
  {
   "cell_type": "code",
   "execution_count": 35,
   "id": "af88586c-f9a9-4fcb-beff-2dc00f49a517",
   "metadata": {},
   "outputs": [
    {
     "data": {
      "text/html": [
       "<div>\n",
       "<style scoped>\n",
       "    .dataframe tbody tr th:only-of-type {\n",
       "        vertical-align: middle;\n",
       "    }\n",
       "\n",
       "    .dataframe tbody tr th {\n",
       "        vertical-align: top;\n",
       "    }\n",
       "\n",
       "    .dataframe thead th {\n",
       "        text-align: right;\n",
       "    }\n",
       "</style>\n",
       "<table border=\"1\" class=\"dataframe\">\n",
       "  <thead>\n",
       "    <tr style=\"text-align: right;\">\n",
       "      <th></th>\n",
       "      <th>TwitterID</th>\n",
       "      <th>Tweet</th>\n",
       "      <th>Retweets</th>\n",
       "      <th>Replies</th>\n",
       "      <th>Likes</th>\n",
       "      <th>Quotes</th>\n",
       "      <th>Identifier</th>\n",
       "    </tr>\n",
       "  </thead>\n",
       "  <tbody>\n",
       "    <tr>\n",
       "      <th>67</th>\n",
       "      <td>JoeBiden</td>\n",
       "      <td>We've taken steps to lock in vital infrastruct...</td>\n",
       "      <td>2168</td>\n",
       "      <td>3848</td>\n",
       "      <td>10301</td>\n",
       "      <td>135</td>\n",
       "      <td>3800</td>\n",
       "    </tr>\n",
       "    <tr>\n",
       "      <th>68</th>\n",
       "      <td>JoeBiden</td>\n",
       "      <td>RT @POTUS: When I think of Nancy Pelosi, I thi...</td>\n",
       "      <td>23121</td>\n",
       "      <td>0</td>\n",
       "      <td>0</td>\n",
       "      <td>0</td>\n",
       "      <td>6267</td>\n",
       "    </tr>\n",
       "    <tr>\n",
       "      <th>69</th>\n",
       "      <td>JoeBiden</td>\n",
       "      <td>Today is the one-year anniversary of the Bipar...</td>\n",
       "      <td>4482</td>\n",
       "      <td>3271</td>\n",
       "      <td>23506</td>\n",
       "      <td>210</td>\n",
       "      <td>3404</td>\n",
       "    </tr>\n",
       "    <tr>\n",
       "      <th>70</th>\n",
       "      <td>JoeBiden</td>\n",
       "      <td>One year after the Bipartisan Infrastructure L...</td>\n",
       "      <td>2303</td>\n",
       "      <td>1430</td>\n",
       "      <td>11499</td>\n",
       "      <td>94</td>\n",
       "      <td>3405</td>\n",
       "    </tr>\n",
       "    <tr>\n",
       "      <th>72</th>\n",
       "      <td>JoeBiden</td>\n",
       "      <td>In this year’s midterm elections, we saw the s...</td>\n",
       "      <td>4822</td>\n",
       "      <td>6200</td>\n",
       "      <td>25236</td>\n",
       "      <td>306</td>\n",
       "      <td>3801</td>\n",
       "    </tr>\n",
       "  </tbody>\n",
       "</table>\n",
       "</div>"
      ],
      "text/plain": [
       "   TwitterID                                              Tweet  Retweets  \\\n",
       "67  JoeBiden  We've taken steps to lock in vital infrastruct...      2168   \n",
       "68  JoeBiden  RT @POTUS: When I think of Nancy Pelosi, I thi...     23121   \n",
       "69  JoeBiden  Today is the one-year anniversary of the Bipar...      4482   \n",
       "70  JoeBiden  One year after the Bipartisan Infrastructure L...      2303   \n",
       "72  JoeBiden  In this year’s midterm elections, we saw the s...      4822   \n",
       "\n",
       "    Replies  Likes  Quotes  Identifier  \n",
       "67     3848  10301     135        3800  \n",
       "68        0      0       0        6267  \n",
       "69     3271  23506     210        3404  \n",
       "70     1430  11499      94        3405  \n",
       "72     6200  25236     306        3801  "
      ]
     },
     "execution_count": 35,
     "metadata": {},
     "output_type": "execute_result"
    }
   ],
   "source": [
    "tweet_node_list.head()"
   ]
  },
  {
   "cell_type": "code",
   "execution_count": 36,
   "id": "a4ebd8dc-32d0-4dd9-bfaf-483d3400ccf7",
   "metadata": {},
   "outputs": [
    {
     "data": {
      "text/html": [
       "<div>\n",
       "<style scoped>\n",
       "    .dataframe tbody tr th:only-of-type {\n",
       "        vertical-align: middle;\n",
       "    }\n",
       "\n",
       "    .dataframe tbody tr th {\n",
       "        vertical-align: top;\n",
       "    }\n",
       "\n",
       "    .dataframe thead th {\n",
       "        text-align: right;\n",
       "    }\n",
       "</style>\n",
       "<table border=\"1\" class=\"dataframe\">\n",
       "  <thead>\n",
       "    <tr style=\"text-align: right;\">\n",
       "      <th></th>\n",
       "      <th>TwitterID</th>\n",
       "      <th>Tweet</th>\n",
       "      <th>NER_Lable</th>\n",
       "      <th>Text</th>\n",
       "      <th>Identifier</th>\n",
       "    </tr>\n",
       "  </thead>\n",
       "  <tbody>\n",
       "    <tr>\n",
       "      <th>0</th>\n",
       "      <td>JoeBiden</td>\n",
       "      <td>Election Day is tomorrow, folks. Confirm your ...</td>\n",
       "      <td>EVENT</td>\n",
       "      <td>Election Day</td>\n",
       "      <td>0</td>\n",
       "    </tr>\n",
       "    <tr>\n",
       "      <th>1</th>\n",
       "      <td>TTuberville</td>\n",
       "      <td>RT @SenTuberville: Honored to join Mr. Frank C...</td>\n",
       "      <td>EVENT</td>\n",
       "      <td>WWII</td>\n",
       "      <td>1</td>\n",
       "    </tr>\n",
       "    <tr>\n",
       "      <th>2</th>\n",
       "      <td>SenShelby</td>\n",
       "      <td>Happy Independence Day! Today we celebrate 246...</td>\n",
       "      <td>EVENT</td>\n",
       "      <td>Independence Day</td>\n",
       "      <td>2</td>\n",
       "    </tr>\n",
       "    <tr>\n",
       "      <th>3</th>\n",
       "      <td>SenShelby</td>\n",
       "      <td>Today I reviewed the FY23 request for the @USN...</td>\n",
       "      <td>EVENT</td>\n",
       "      <td>COVID</td>\n",
       "      <td>3</td>\n",
       "    </tr>\n",
       "    <tr>\n",
       "      <th>4</th>\n",
       "      <td>lisamurkowski</td>\n",
       "      <td>Native American Heritage Month is an opportuni...</td>\n",
       "      <td>EVENT</td>\n",
       "      <td>Native American Heritage Month</td>\n",
       "      <td>4</td>\n",
       "    </tr>\n",
       "  </tbody>\n",
       "</table>\n",
       "</div>"
      ],
      "text/plain": [
       "       TwitterID                                              Tweet NER_Lable  \\\n",
       "0       JoeBiden  Election Day is tomorrow, folks. Confirm your ...     EVENT   \n",
       "1    TTuberville  RT @SenTuberville: Honored to join Mr. Frank C...     EVENT   \n",
       "2      SenShelby  Happy Independence Day! Today we celebrate 246...     EVENT   \n",
       "3      SenShelby  Today I reviewed the FY23 request for the @USN...     EVENT   \n",
       "4  lisamurkowski  Native American Heritage Month is an opportuni...     EVENT   \n",
       "\n",
       "                             Text  Identifier  \n",
       "0                    Election Day           0  \n",
       "1                            WWII           1  \n",
       "2                Independence Day           2  \n",
       "3                           COVID           3  \n",
       "4  Native American Heritage Month           4  "
      ]
     },
     "execution_count": 36,
     "metadata": {},
     "output_type": "execute_result"
    }
   ],
   "source": [
    "select_tweets_filtered.head()"
   ]
  },
  {
   "cell_type": "code",
   "execution_count": 37,
   "id": "321e2961-2279-48df-af38-ebf7deac59f9",
   "metadata": {},
   "outputs": [
    {
     "data": {
      "text/html": [
       "<div>\n",
       "<style scoped>\n",
       "    .dataframe tbody tr th:only-of-type {\n",
       "        vertical-align: middle;\n",
       "    }\n",
       "\n",
       "    .dataframe tbody tr th {\n",
       "        vertical-align: top;\n",
       "    }\n",
       "\n",
       "    .dataframe thead th {\n",
       "        text-align: right;\n",
       "    }\n",
       "</style>\n",
       "<table border=\"1\" class=\"dataframe\">\n",
       "  <thead>\n",
       "    <tr style=\"text-align: right;\">\n",
       "      <th></th>\n",
       "      <th>TwitterID</th>\n",
       "      <th>Tweet</th>\n",
       "      <th>NER_Lable</th>\n",
       "      <th>Text</th>\n",
       "      <th>Identifier</th>\n",
       "    </tr>\n",
       "  </thead>\n",
       "  <tbody>\n",
       "    <tr>\n",
       "      <th>4278</th>\n",
       "      <td>JoeBiden</td>\n",
       "      <td>Today is the one-year anniversary of the Bipar...</td>\n",
       "      <td>LAW</td>\n",
       "      <td>the Bipartisan Infrastructure Law</td>\n",
       "      <td>3404</td>\n",
       "    </tr>\n",
       "    <tr>\n",
       "      <th>10300</th>\n",
       "      <td>JoeBiden</td>\n",
       "      <td>Today is the one-year anniversary of the Bipar...</td>\n",
       "      <td>PERSON</td>\n",
       "      <td>Eisenhower</td>\n",
       "      <td>3404</td>\n",
       "    </tr>\n",
       "  </tbody>\n",
       "</table>\n",
       "</div>"
      ],
      "text/plain": [
       "      TwitterID                                              Tweet NER_Lable  \\\n",
       "4278   JoeBiden  Today is the one-year anniversary of the Bipar...       LAW   \n",
       "10300  JoeBiden  Today is the one-year anniversary of the Bipar...    PERSON   \n",
       "\n",
       "                                    Text  Identifier  \n",
       "4278   the Bipartisan Infrastructure Law        3404  \n",
       "10300                         Eisenhower        3404  "
      ]
     },
     "execution_count": 37,
     "metadata": {},
     "output_type": "execute_result"
    }
   ],
   "source": [
    "select_tweets_filtered[(select_tweets_filtered['Identifier'] == 3404)]"
   ]
  },
  {
   "cell_type": "markdown",
   "id": "253776bd-4c4f-4389-9b79-06c033c4cb2c",
   "metadata": {},
   "source": [
    "### (2) Generate the Tweet Relationship File"
   ]
  },
  {
   "cell_type": "markdown",
   "id": "62267fcd-c20c-4fb6-9d7a-051844ef89cc",
   "metadata": {},
   "source": [
    "Tweets will be related onotolgically with one of the eight NER labels.  If two tweets share the same NER label, such as both mentioning the EVENT NER \"Native American Heritage Month\", they will be linked with the ontology \"EVENT\" and the edge will be labled with with NER text"
   ]
  },
  {
   "cell_type": "code",
   "execution_count": 37,
   "id": "e9f30d07-c3e5-42ac-bbd9-6026457a895e",
   "metadata": {},
   "outputs": [
    {
     "data": {
      "text/html": [
       "<div>\n",
       "<style scoped>\n",
       "    .dataframe tbody tr th:only-of-type {\n",
       "        vertical-align: middle;\n",
       "    }\n",
       "\n",
       "    .dataframe tbody tr th {\n",
       "        vertical-align: top;\n",
       "    }\n",
       "\n",
       "    .dataframe thead th {\n",
       "        text-align: right;\n",
       "    }\n",
       "</style>\n",
       "<table border=\"1\" class=\"dataframe\">\n",
       "  <thead>\n",
       "    <tr style=\"text-align: right;\">\n",
       "      <th></th>\n",
       "      <th>TwitterID</th>\n",
       "      <th>Tweet</th>\n",
       "      <th>NER_Lable</th>\n",
       "      <th>Text</th>\n",
       "      <th>Identifier</th>\n",
       "    </tr>\n",
       "  </thead>\n",
       "  <tbody>\n",
       "    <tr>\n",
       "      <th>202</th>\n",
       "      <td>sentomcotton</td>\n",
       "      <td>Joe Biden is hosting a \"unity\" summit today at...</td>\n",
       "      <td>FAC</td>\n",
       "      <td>the White House</td>\n",
       "      <td>191</td>\n",
       "    </tr>\n",
       "    <tr>\n",
       "      <th>205</th>\n",
       "      <td>MichaelBennet</td>\n",
       "      <td>Donald Trump is running for president again in...</td>\n",
       "      <td>FAC</td>\n",
       "      <td>the White House</td>\n",
       "      <td>193</td>\n",
       "    </tr>\n",
       "    <tr>\n",
       "      <th>208</th>\n",
       "      <td>ChrisCoons</td>\n",
       "      <td>Time to spruce🎄things up at the White House! A...</td>\n",
       "      <td>FAC</td>\n",
       "      <td>the White House</td>\n",
       "      <td>196</td>\n",
       "    </tr>\n",
       "    <tr>\n",
       "      <th>215</th>\n",
       "      <td>SenBrianSchatz</td>\n",
       "      <td>We enacted the biggest climate action in U.S. ...</td>\n",
       "      <td>FAC</td>\n",
       "      <td>the White House</td>\n",
       "      <td>203</td>\n",
       "    </tr>\n",
       "    <tr>\n",
       "      <th>224</th>\n",
       "      <td>ewarren</td>\n",
       "      <td>Ivory-tower economists and out-of-touch pundit...</td>\n",
       "      <td>FAC</td>\n",
       "      <td>the White House</td>\n",
       "      <td>212</td>\n",
       "    </tr>\n",
       "    <tr>\n",
       "      <th>233</th>\n",
       "      <td>kevincramer</td>\n",
       "      <td>Heading to the White House for ⁦@realDonaldTru...</td>\n",
       "      <td>FAC</td>\n",
       "      <td>the White House</td>\n",
       "      <td>220</td>\n",
       "    </tr>\n",
       "    <tr>\n",
       "      <th>243</th>\n",
       "      <td>LindseyGrahamSC</td>\n",
       "      <td>▶️ Biden Administration will not change course...</td>\n",
       "      <td>FAC</td>\n",
       "      <td>the White House</td>\n",
       "      <td>230</td>\n",
       "    </tr>\n",
       "    <tr>\n",
       "      <th>264</th>\n",
       "      <td>johnfetterman</td>\n",
       "      <td>PA proud. A beautiful 🎄 from Schuylkill County...</td>\n",
       "      <td>FAC</td>\n",
       "      <td>the White House</td>\n",
       "      <td>250</td>\n",
       "    </tr>\n",
       "  </tbody>\n",
       "</table>\n",
       "</div>"
      ],
      "text/plain": [
       "           TwitterID                                              Tweet  \\\n",
       "202     sentomcotton  Joe Biden is hosting a \"unity\" summit today at...   \n",
       "205    MichaelBennet  Donald Trump is running for president again in...   \n",
       "208       ChrisCoons  Time to spruce🎄things up at the White House! A...   \n",
       "215   SenBrianSchatz  We enacted the biggest climate action in U.S. ...   \n",
       "224          ewarren  Ivory-tower economists and out-of-touch pundit...   \n",
       "233      kevincramer  Heading to the White House for ⁦@realDonaldTru...   \n",
       "243  LindseyGrahamSC  ▶️ Biden Administration will not change course...   \n",
       "264    johnfetterman  PA proud. A beautiful 🎄 from Schuylkill County...   \n",
       "\n",
       "    NER_Lable             Text  Identifier  \n",
       "202       FAC  the White House         191  \n",
       "205       FAC  the White House         193  \n",
       "208       FAC  the White House         196  \n",
       "215       FAC  the White House         203  \n",
       "224       FAC  the White House         212  \n",
       "233       FAC  the White House         220  \n",
       "243       FAC  the White House         230  \n",
       "264       FAC  the White House         250  "
      ]
     },
     "execution_count": 37,
     "metadata": {},
     "output_type": "execute_result"
    }
   ],
   "source": [
    "select_tweets_filtered[(select_tweets_filtered['NER_Lable'] == \"FAC\") & (select_tweets_filtered['Text'] == \"the White House\")]"
   ]
  },
  {
   "cell_type": "code",
   "execution_count": 55,
   "id": "7645d74f-8d97-4989-acce-17954b7be035",
   "metadata": {},
   "outputs": [],
   "source": [
    "def convert_to_edgelist(ner_tweets):\n",
    "    \n",
    "    edgelist = []\n",
    "    ner_tweets['NER/Text'] = ner_tweets['NER_Lable'] + \"/\" + ner_tweets['Text']\n",
    "    identifiers = ner_tweets.drop_duplicates(subset = ['Identifier'])\n",
    "    identifiers = list(identifiers['Identifier'])\n",
    "    for i in identifiers:\n",
    "        i_list = ner_tweets[(ner_tweets['Identifier'] == i)]\n",
    "        i_ner_text = i_list.drop_duplicates(subset = ['NER/Text'])\n",
    "        i_ner_text = list(i_ner_text['NER/Text'])\n",
    "        i_matches = ner_tweets[(ner_tweets['NER/Text'].isin(i_ner_text)) & (ner_tweets['Identifier'] != i)]\n",
    "                          \n",
    "        # Go through each match, pull the tweet ID and ner lable and text, link it to i\n",
    "        for ind in i_matches.index:\n",
    "            id2 = i_matches['Identifier'][ind]\n",
    "            ner = i_matches['NER_Lable'][ind]\n",
    "            text = i_matches['Text'][ind]\n",
    "            df = pd.DataFrame({\"TweetID1\": [i], \"TweetID2\": [id2], \"Relation\": [ner], \"Lable\": [text]})\n",
    "            edgelist.append(df)\n",
    "    \n",
    "    edgelist = pd.concat(edgelist, ignore_index = True)\n",
    "    return(edgelist)"
   ]
  },
  {
   "cell_type": "code",
   "execution_count": 56,
   "id": "ab87e563-9a2a-4a7c-8538-9fe784ecf914",
   "metadata": {},
   "outputs": [],
   "source": [
    "tweet_graph = convert_to_edgelist(select_tweets_filtered)"
   ]
  },
  {
   "cell_type": "code",
   "execution_count": 57,
   "id": "54324d0b-e9ce-4b8b-9cc6-55ad9b393ee0",
   "metadata": {},
   "outputs": [
    {
     "data": {
      "text/plain": [
       "1664474"
      ]
     },
     "execution_count": 57,
     "metadata": {},
     "output_type": "execute_result"
    }
   ],
   "source": [
    "len(tweet_graph)"
   ]
  },
  {
   "cell_type": "code",
   "execution_count": 58,
   "id": "8531bfd1-1338-438e-a35f-074d9c43aac3",
   "metadata": {},
   "outputs": [
    {
     "data": {
      "text/html": [
       "<div>\n",
       "<style scoped>\n",
       "    .dataframe tbody tr th:only-of-type {\n",
       "        vertical-align: middle;\n",
       "    }\n",
       "\n",
       "    .dataframe tbody tr th {\n",
       "        vertical-align: top;\n",
       "    }\n",
       "\n",
       "    .dataframe thead th {\n",
       "        text-align: right;\n",
       "    }\n",
       "</style>\n",
       "<table border=\"1\" class=\"dataframe\">\n",
       "  <thead>\n",
       "    <tr style=\"text-align: right;\">\n",
       "      <th></th>\n",
       "      <th>TweetID1</th>\n",
       "      <th>TweetID2</th>\n",
       "      <th>Relation</th>\n",
       "      <th>Lable</th>\n",
       "    </tr>\n",
       "  </thead>\n",
       "  <tbody>\n",
       "    <tr>\n",
       "      <th>0</th>\n",
       "      <td>0</td>\n",
       "      <td>101</td>\n",
       "      <td>EVENT</td>\n",
       "      <td>Election Day</td>\n",
       "    </tr>\n",
       "    <tr>\n",
       "      <th>1</th>\n",
       "      <td>0</td>\n",
       "      <td>143</td>\n",
       "      <td>EVENT</td>\n",
       "      <td>Election Day</td>\n",
       "    </tr>\n",
       "    <tr>\n",
       "      <th>2</th>\n",
       "      <td>1</td>\n",
       "      <td>7</td>\n",
       "      <td>EVENT</td>\n",
       "      <td>WWII</td>\n",
       "    </tr>\n",
       "    <tr>\n",
       "      <th>3</th>\n",
       "      <td>1</td>\n",
       "      <td>17</td>\n",
       "      <td>EVENT</td>\n",
       "      <td>WWII</td>\n",
       "    </tr>\n",
       "    <tr>\n",
       "      <th>4</th>\n",
       "      <td>1</td>\n",
       "      <td>59</td>\n",
       "      <td>EVENT</td>\n",
       "      <td>WWII</td>\n",
       "    </tr>\n",
       "  </tbody>\n",
       "</table>\n",
       "</div>"
      ],
      "text/plain": [
       "   TweetID1  TweetID2 Relation         Lable\n",
       "0         0       101    EVENT  Election Day\n",
       "1         0       143    EVENT  Election Day\n",
       "2         1         7    EVENT          WWII\n",
       "3         1        17    EVENT          WWII\n",
       "4         1        59    EVENT          WWII"
      ]
     },
     "execution_count": 58,
     "metadata": {},
     "output_type": "execute_result"
    }
   ],
   "source": [
    "tweet_graph.head()"
   ]
  },
  {
   "cell_type": "code",
   "execution_count": 59,
   "id": "759d977b-76f5-4cf1-bb06-06917e60b49d",
   "metadata": {},
   "outputs": [],
   "source": [
    "import pickle\n",
    "\n",
    "with open('tweet_graph.pkl', 'wb') as handle:\n",
    "    pickle.dump(tweet_graph, handle)"
   ]
  },
  {
   "cell_type": "markdown",
   "id": "d9054e1c-65c7-4a7b-a6a1-0fe0cf6fbfb5",
   "metadata": {},
   "source": [
    "## Load in pickled graph file, save that and tweet node file to CSV"
   ]
  },
  {
   "cell_type": "code",
   "execution_count": 2,
   "id": "59af3e70-e365-4ab2-8c5e-8f0b793dc572",
   "metadata": {},
   "outputs": [],
   "source": [
    "import pickle\n",
    "\n",
    "with open('tweet_graph.pkl', 'rb') as handle:\n",
    "    tweet_graph = pickle.load(handle)"
   ]
  },
  {
   "cell_type": "code",
   "execution_count": 38,
   "id": "69bbf859-cd19-4315-b9e6-b2d652537385",
   "metadata": {},
   "outputs": [],
   "source": [
    "tweet_graph.to_csv(\"political_tweet_graph.csv\", index = False)\n",
    "tweet_node_list.to_csv(\"political_tweets.txt\", sep = '\\t', index = False)"
   ]
  },
  {
   "cell_type": "code",
   "execution_count": null,
   "id": "00affef7-7183-4e13-a867-0b3457bd62be",
   "metadata": {},
   "outputs": [],
   "source": []
  }
 ],
 "metadata": {
  "kernelspec": {
   "display_name": "Python 3 (ipykernel)",
   "language": "python",
   "name": "python3"
  },
  "language_info": {
   "codemirror_mode": {
    "name": "ipython",
    "version": 3
   },
   "file_extension": ".py",
   "mimetype": "text/x-python",
   "name": "python",
   "nbconvert_exporter": "python",
   "pygments_lexer": "ipython3",
   "version": "3.8.2"
  }
 },
 "nbformat": 4,
 "nbformat_minor": 5
}

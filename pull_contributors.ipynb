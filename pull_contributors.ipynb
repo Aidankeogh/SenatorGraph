{
 "cells": [
  {
   "cell_type": "code",
   "execution_count": 26,
   "id": "8f97a153-6eb1-43b1-8d68-3caa8dea0c8b",
   "metadata": {},
   "outputs": [],
   "source": [
    "import pycurl\n",
    "import csv\n",
    "import urllib\n",
    "import pandas as pd"
   ]
  },
  {
   "cell_type": "code",
   "execution_count": 12,
   "id": "628ce751-93b7-416a-8e05-deea39f85407",
   "metadata": {},
   "outputs": [],
   "source": [
    "def csvDownload(file_name, file_src):\n",
    "\n",
    "    with open(file_name, 'w+') as f:\n",
    "        c = pycurl.Curl()\n",
    "        c.setopt(c.URL, file_src)\n",
    "        c.setopt(c.WRITEDATA, f.write)\n",
    "        c.setopt(c.HTTPHEADER, headers)\n",
    "        c.perform()\n",
    "        c.close()\n",
    "\n",
    "        f.seek(0)\n",
    "        ids = find_bugs(f.readlines())"
   ]
  },
  {
   "cell_type": "code",
   "execution_count": 60,
   "id": "c32315c3-19a4-4528-b47c-e0d9338e53f9",
   "metadata": {},
   "outputs": [],
   "source": [
    "states=[\"AL\",\"AK\",\"AZ\",\"AR\",\"CA\",\"CO\",\"CT\",\"DE\",\"FL\",\"GA\",\"HI\",\"ID\",\"IL\",\"IN\",\\\n",
    "        \"IA\",\"KS\",\"KY\",\"LA\",\"ME\",\"MD\",\"MA\",\"MI\",\"MN\",\"MS\",\"MO\",\"MT\",\"NE\",\"NV\",\\\n",
    "        \"NH\",\"NJ\",\"NM\",\"NY\",\"NC\",\"ND\",\"OH\",\"OK\",\"OR\",\"PA\",\"RI\",\"SC\",\"SD\",\"TN\",\\\n",
    "        \"TX\",\"UT\",\"VT\",\"VA\",\"WA\",\"WV\",\"WI\",\"WY\"]\n",
    "li = []\n",
    "\n",
    "for state in states:\n",
    "    for session in ['S1', 'S2']:\n",
    "        filename='./raw_contributions/'+state+session+'.csv'\n",
    "        url='https://www.opensecrets.org/races/contributors.csv?cycle=2022&id='+state+session+'&spec=N'\n",
    "        #csvDownload(filename, url)\n",
    "        df = pd.read_csv(filename, index_col=None, header=0)\n",
    "        li.append(df)\n",
    "\n",
    "\n",
    "contributors = pd.concat(li, axis=0, ignore_index=True)\n",
    "\n",
    "# drop all contributions outside cycle 2022\n",
    "contributors_2022 = contributors[contributors['cycle'] == 2022]\n",
    "\n",
    "# drop unnecessary columns\n",
    "contributors_2022 = contributors_2022.drop(['affiliateid', 'orgid', 'cycle',\\\n",
    "                                            'CID', 'Indivs', 'Pacs', 'Rank',\\\n",
    "                                            'CRPICO', 'ReleaseDate', 'NetRcpts'], axis=1)\n",
    "\n",
    "# strip candidate party from name\n",
    "contributors_2022['FirstLastP'] = contributors_2022['FirstLastP'].str[:-4]\n",
    "\n",
    "# change candidate column name\n",
    "contributors_2022.rename(columns = {'FirstLastP':'Candidate'}, inplace = True)\n",
    "\n",
    "# save dataframe to pickle\n",
    "contributors_2022.to_pickle('contributors_2022.pkl')"
   ]
  },
  {
   "cell_type": "code",
   "execution_count": 61,
   "id": "051ce5f7-3563-476e-8f1b-910fdb0846d0",
   "metadata": {},
   "outputs": [
    {
     "data": {
      "text/html": [
       "<div>\n",
       "<style scoped>\n",
       "    .dataframe tbody tr th:only-of-type {\n",
       "        vertical-align: middle;\n",
       "    }\n",
       "\n",
       "    .dataframe tbody tr th {\n",
       "        vertical-align: top;\n",
       "    }\n",
       "\n",
       "    .dataframe thead th {\n",
       "        text-align: right;\n",
       "    }\n",
       "</style>\n",
       "<table border=\"1\" class=\"dataframe\">\n",
       "  <thead>\n",
       "    <tr style=\"text-align: right;\">\n",
       "      <th></th>\n",
       "      <th>pacid</th>\n",
       "      <th>Candidate</th>\n",
       "      <th>Contrib</th>\n",
       "      <th>Total</th>\n",
       "    </tr>\n",
       "  </thead>\n",
       "  <tbody>\n",
       "    <tr>\n",
       "      <th>43</th>\n",
       "      <td>C00797670</td>\n",
       "      <td>Katie Britt</td>\n",
       "      <td>American Israel Public Affairs Cmte</td>\n",
       "      <td>99800</td>\n",
       "    </tr>\n",
       "    <tr>\n",
       "      <th>44</th>\n",
       "      <td>NaN</td>\n",
       "      <td>Katie Britt</td>\n",
       "      <td>Harbert Management                            ...</td>\n",
       "      <td>73500</td>\n",
       "    </tr>\n",
       "    <tr>\n",
       "      <th>45</th>\n",
       "      <td>NaN</td>\n",
       "      <td>Katie Britt</td>\n",
       "      <td>Great Southern Wood Preserving</td>\n",
       "      <td>66700</td>\n",
       "    </tr>\n",
       "    <tr>\n",
       "      <th>46</th>\n",
       "      <td>NaN</td>\n",
       "      <td>Katie Britt</td>\n",
       "      <td>Beasley, Allen et al</td>\n",
       "      <td>62800</td>\n",
       "    </tr>\n",
       "    <tr>\n",
       "      <th>47</th>\n",
       "      <td>NaN</td>\n",
       "      <td>Katie Britt</td>\n",
       "      <td>Southern Co</td>\n",
       "      <td>57130</td>\n",
       "    </tr>\n",
       "  </tbody>\n",
       "</table>\n",
       "</div>"
      ],
      "text/plain": [
       "        pacid    Candidate                                            Contrib  \\\n",
       "43  C00797670  Katie Britt                American Israel Public Affairs Cmte   \n",
       "44        NaN  Katie Britt  Harbert Management                            ...   \n",
       "45        NaN  Katie Britt                     Great Southern Wood Preserving   \n",
       "46        NaN  Katie Britt                               Beasley, Allen et al   \n",
       "47        NaN  Katie Britt                                        Southern Co   \n",
       "\n",
       "    Total  \n",
       "43  99800  \n",
       "44  73500  \n",
       "45  66700  \n",
       "46  62800  \n",
       "47  57130  "
      ]
     },
     "execution_count": 61,
     "metadata": {},
     "output_type": "execute_result"
    }
   ],
   "source": [
    "contributors_2022.head()"
   ]
  },
  {
   "cell_type": "code",
   "execution_count": null,
   "id": "6d0c27b8-0495-4412-b4eb-74e65208c2c7",
   "metadata": {},
   "outputs": [],
   "source": []
  }
 ],
 "metadata": {
  "kernelspec": {
   "display_name": "project",
   "language": "python",
   "name": "project"
  },
  "language_info": {
   "codemirror_mode": {
    "name": "ipython",
    "version": 3
   },
   "file_extension": ".py",
   "mimetype": "text/x-python",
   "name": "python",
   "nbconvert_exporter": "python",
   "pygments_lexer": "ipython3",
   "version": "3.9.15"
  }
 },
 "nbformat": 4,
 "nbformat_minor": 5
}

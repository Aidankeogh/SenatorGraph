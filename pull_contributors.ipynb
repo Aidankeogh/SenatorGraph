{
 "cells": [
  {
   "cell_type": "code",
   "execution_count": 26,
   "id": "8f97a153-6eb1-43b1-8d68-3caa8dea0c8b",
   "metadata": {},
   "outputs": [],
   "source": [
    "import pycurl\n",
    "import csv\n",
    "import urllib\n",
    "import pandas as pd"
   ]
  },
  {
   "cell_type": "code",
   "execution_count": 12,
   "id": "628ce751-93b7-416a-8e05-deea39f85407",
   "metadata": {},
   "outputs": [],
   "source": [
    "def csvDownload(file_name, file_src):\n",
    "\n",
    "    with open(file_name, 'w+') as f:\n",
    "        c = pycurl.Curl()\n",
    "        c.setopt(c.URL, file_src)\n",
    "        c.setopt(c.WRITEDATA, f.write)\n",
    "        c.setopt(c.HTTPHEADER, headers)\n",
    "        c.perform()\n",
    "        c.close()\n",
    "\n",
    "        f.seek(0)\n",
    "        ids = find_bugs(f.readlines())"
   ]
  },
  {
   "cell_type": "code",
   "execution_count": 40,
   "id": "c32315c3-19a4-4528-b47c-e0d9338e53f9",
   "metadata": {},
   "outputs": [],
   "source": [
    "states=[\"AL\",\"AK\",\"AZ\",\"AR\",\"CA\",\"CO\",\"CT\",\"DE\",\"FL\",\"GA\",\"HI\",\"ID\",\"IL\",\"IN\",\\\n",
    "        \"IA\",\"KS\",\"KY\",\"LA\",\"ME\",\"MD\",\"MA\",\"MI\",\"MN\",\"MS\",\"MO\",\"MT\",\"NE\",\"NV\",\\\n",
    "        \"NH\",\"NJ\",\"NM\",\"NY\",\"NC\",\"ND\",\"OH\",\"OK\",\"OR\",\"PA\",\"RI\",\"SC\",\"SD\",\"TN\",\\\n",
    "        \"TX\",\"UT\",\"VT\",\"VA\",\"WA\",\"WV\",\"WI\",\"WY\"]\n",
    "li = []\n",
    "\n",
    "for state in states:\n",
    "    for session in ['S1', 'S2']:\n",
    "        filename=state+session+'.csv'\n",
    "        url='https://www.opensecrets.org/races/contributors.csv?cycle=2022&id='+state+session+'&spec=N'\n",
    "        #csvDownload(filename, url)\n",
    "        df = pd.read_csv(filename, index_col=None, header=0)\n",
    "        li.append(df)\n",
    "\n",
    "\n",
    "contributors = pd.concat(li, axis=0, ignore_index=True)\n",
    "\n",
    "# drop all contributions outside cycle 2022\n",
    "contributors_2022 = contributors[contributors['cycle'] == 2022]\n",
    "\n",
    "contributors_2022.to_pickle('contributors_2022.pkl')"
   ]
  },
  {
   "cell_type": "code",
   "execution_count": null,
   "id": "b0db1322-ced5-4d9f-a7cc-cef19f90192b",
   "metadata": {},
   "outputs": [],
   "source": []
  }
 ],
 "metadata": {
  "kernelspec": {
   "display_name": "project",
   "language": "python",
   "name": "project"
  },
  "language_info": {
   "codemirror_mode": {
    "name": "ipython",
    "version": 3
   },
   "file_extension": ".py",
   "mimetype": "text/x-python",
   "name": "python",
   "nbconvert_exporter": "python",
   "pygments_lexer": "ipython3",
   "version": "3.9.15"
  }
 },
 "nbformat": 4,
 "nbformat_minor": 5
}
